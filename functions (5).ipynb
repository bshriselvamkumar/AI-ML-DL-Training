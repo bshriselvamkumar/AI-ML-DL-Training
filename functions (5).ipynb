{
  "nbformat": 4,
  "nbformat_minor": 0,
  "metadata": {
    "colab": {
      "provenance": []
    },
    "kernelspec": {
      "name": "python3",
      "display_name": "Python 3"
    }
  },
  "cells": [
    {
      "cell_type": "markdown",
      "metadata": {
        "id": "U92oHUffZBzh"
      },
      "source": [
        "In computer programming, a **function** is a named section of a code that performs a specific task. This typically involves taking some input, manipulating the input and returning an output."
      ]
    },
    {
      "cell_type": "code",
      "source": [
        "# python functions using default arguments\n",
        "def add_3(a,c,b=100):\n",
        "  res = a+b+c\n",
        "  print(res)"
      ],
      "metadata": {
        "id": "IfzRWPfJ71nz"
      },
      "execution_count": null,
      "outputs": []
    },
    {
      "cell_type": "code",
      "source": [
        "add_3(60,78)"
      ],
      "metadata": {
        "colab": {
          "base_uri": "https://localhost:8080/"
        },
        "id": "_CILY_-7JBeE",
        "outputId": "d7f77fb8-72b9-4f2c-d4d8-7291fd7878a8"
      },
      "execution_count": null,
      "outputs": [
        {
          "output_type": "stream",
          "name": "stdout",
          "text": [
            "238\n"
          ]
        }
      ]
    },
    {
      "cell_type": "code",
      "source": [
        "print(dir())"
      ],
      "metadata": {
        "id": "k4hKOLGTRqUK",
        "colab": {
          "base_uri": "https://localhost:8080/"
        },
        "outputId": "57bc7639-d24a-4443-cf2a-ba9e313ad712"
      },
      "execution_count": null,
      "outputs": [
        {
          "output_type": "stream",
          "name": "stdout",
          "text": [
            "['In', 'Out', '_', '__', '___', '__builtin__', '__builtins__', '__doc__', '__loader__', '__name__', '__package__', '__spec__', '_dh', '_i', '_i1', '_ih', '_ii', '_iii', '_oh', 'exit', 'get_ipython', 'quit']\n"
          ]
        }
      ]
    },
    {
      "cell_type": "markdown",
      "metadata": {
        "id": "zVUJlXYyZqqc"
      },
      "source": [
        "1.**Built-in functions,** such as help() to ask for help, min() to get the\n",
        "minimum value, print() to print an object to the terminal,… You can find an overview with more of these functions here.\n",
        "\n",
        "2.**User-Defined Functions ** (UDFs),  which are functions that users create to help them out;\n",
        "\n",
        "3.**Anonymous functions**, which are also called lambda functions because they\n",
        "  are not declared with the standard def keyword."
      ]
    },
    {
      "cell_type": "code",
      "metadata": {
        "id": "uNiBeYAbVfiM"
      },
      "source": [
        "def even_odd(num):                   #def :keyword to define a function, even_odd: just a user defined function name , num : argument , colon\n",
        "  if num % 2 == 0:\n",
        "    print('even number')\n",
        "  else:\n",
        "    print('odd number')"
      ],
      "execution_count": null,
      "outputs": []
    },
    {
      "cell_type": "code",
      "source": [
        "even_odd(50)"
      ],
      "metadata": {
        "colab": {
          "base_uri": "https://localhost:8080/"
        },
        "id": "zTrbdUfq5Ka0",
        "outputId": "c4d87f82-0959-4ea5-c087-b69ee86dd11c"
      },
      "execution_count": null,
      "outputs": [
        {
          "output_type": "stream",
          "name": "stdout",
          "text": [
            "even number\n"
          ]
        }
      ]
    },
    {
      "cell_type": "code",
      "source": [
        "def thermo(bodytemp):\n",
        "  if bodytemp > 98.3:\n",
        "    print(\"high fever\")\n",
        "  elif bodytemp < 98.3:\n",
        "    print(\"cold fever\")\n",
        "  else:\n",
        "    print (\"normal\")"
      ],
      "metadata": {
        "id": "NuYwbFt-5zSu"
      },
      "execution_count": null,
      "outputs": []
    },
    {
      "cell_type": "code",
      "source": [
        "thermo(98.3)"
      ],
      "metadata": {
        "colab": {
          "base_uri": "https://localhost:8080/"
        },
        "id": "trgBRIat7DFD",
        "outputId": "a23ba590-2b6e-4619-f72f-a393355ef186"
      },
      "execution_count": null,
      "outputs": [
        {
          "output_type": "stream",
          "name": "stdout",
          "text": [
            "normal\n"
          ]
        }
      ]
    },
    {
      "cell_type": "code",
      "source": [
        "def addition(a,b,c):\n",
        "  tot = a+b+c\n",
        "  print(tot)"
      ],
      "metadata": {
        "id": "EjBahDVu7z4q"
      },
      "execution_count": null,
      "outputs": []
    },
    {
      "cell_type": "code",
      "source": [
        "addition(78,56,90)"
      ],
      "metadata": {
        "colab": {
          "base_uri": "https://localhost:8080/"
        },
        "id": "4Qu4PFgO8BEd",
        "outputId": "00a3615c-2bff-4281-89fc-6017db46abdb"
      },
      "execution_count": null,
      "outputs": [
        {
          "output_type": "stream",
          "name": "stdout",
          "text": [
            "224\n"
          ]
        }
      ]
    },
    {
      "cell_type": "code",
      "source": [
        "\n",
        "def feve_calc(tem):\n",
        "  if tem > 98.4:\n",
        "    print(\"high fever\")\n",
        "  else:\n",
        "    print(\"low fever\")"
      ],
      "metadata": {
        "id": "YM8uv3TbMKHe"
      },
      "execution_count": null,
      "outputs": []
    },
    {
      "cell_type": "code",
      "source": [
        "feve_calc(67.9)"
      ],
      "metadata": {
        "colab": {
          "base_uri": "https://localhost:8080/"
        },
        "id": "twyBRuF3NoEE",
        "outputId": "85cb697a-7fe6-4d72-a48f-aff3ef9d50a1"
      },
      "execution_count": null,
      "outputs": [
        {
          "output_type": "stream",
          "name": "stdout",
          "text": [
            "low fever\n"
          ]
        }
      ]
    },
    {
      "cell_type": "code",
      "source": [
        "c = \"india\""
      ],
      "metadata": {
        "id": "KM8MKsY7ONj2"
      },
      "execution_count": null,
      "outputs": []
    },
    {
      "cell_type": "code",
      "source": [
        "even_odd(65765)"
      ],
      "metadata": {
        "colab": {
          "base_uri": "https://localhost:8080/"
        },
        "id": "9jaH3ivJMzgO",
        "outputId": "92db1911-83a4-4919-e705-3796a8d1ec46"
      },
      "execution_count": null,
      "outputs": [
        {
          "output_type": "stream",
          "name": "stdout",
          "text": [
            "odd number\n"
          ]
        }
      ]
    },
    {
      "cell_type": "code",
      "source": [
        " # function creation\n",
        "def pr(a):\n",
        "  if a > 100:\n",
        "    print(\"ok\")\n",
        "  else:\n",
        "    print(\"good\")"
      ],
      "metadata": {
        "id": "-K5TQHOuTV6z"
      },
      "execution_count": null,
      "outputs": []
    },
    {
      "cell_type": "code",
      "source": [
        "#function calling / reference call\n",
        "\n",
        "pr(999)"
      ],
      "metadata": {
        "colab": {
          "base_uri": "https://localhost:8080/"
        },
        "id": "MA-o7LqPTxyq",
        "outputId": "53ba32a4-d1a7-4956-f513-cf2cd856ec1a"
      },
      "execution_count": null,
      "outputs": [
        {
          "output_type": "stream",
          "name": "stdout",
          "text": [
            "ok\n"
          ]
        }
      ]
    },
    {
      "cell_type": "code",
      "source": [
        "even_odd(113)"
      ],
      "metadata": {
        "colab": {
          "base_uri": "https://localhost:8080/"
        },
        "id": "0RIfsZSZPbzz",
        "outputId": "deb3994a-3849-49cc-84b9-1da9365eb59d"
      },
      "execution_count": null,
      "outputs": [
        {
          "output_type": "stream",
          "name": "stdout",
          "text": [
            "odd number\n"
          ]
        }
      ]
    },
    {
      "cell_type": "code",
      "metadata": {
        "id": "WnJTj33gV95e",
        "colab": {
          "base_uri": "https://localhost:8080/"
        },
        "outputId": "cf297a7e-aabd-4971-f690-00d88d2adc0a"
      },
      "source": [
        "even_odd(444)\n"
      ],
      "execution_count": null,
      "outputs": [
        {
          "output_type": "stream",
          "name": "stdout",
          "text": [
            "even number\n"
          ]
        }
      ]
    },
    {
      "cell_type": "code",
      "metadata": {
        "id": "MsIYZxmkWVbC"
      },
      "source": [
        "def total(a,b,c,d,e):\n",
        "  t = a+b+c+d+e\n",
        "  print(t)"
      ],
      "execution_count": null,
      "outputs": []
    },
    {
      "cell_type": "code",
      "source": [
        "total(99,89,90,78,90)"
      ],
      "metadata": {
        "colab": {
          "base_uri": "https://localhost:8080/"
        },
        "id": "Tg1CmkFkNdUG",
        "outputId": "1b9b94c3-163f-4ff7-b421-7300dfde3bcc"
      },
      "execution_count": null,
      "outputs": [
        {
          "output_type": "stream",
          "name": "stdout",
          "text": [
            "446\n"
          ]
        }
      ]
    },
    {
      "cell_type": "code",
      "source": [
        "def six(m1,m2,m3,p=35): #3 runtime argument , one value declared argument\n",
        "  total = m1+m2+m3+p\n",
        "  if total >= 250:\n",
        "    print(\"grade A\")\n",
        "  else:\n",
        "    print(\"grade b\")"
      ],
      "metadata": {
        "id": "MgIxR-m-P3Y9"
      },
      "execution_count": null,
      "outputs": []
    },
    {
      "cell_type": "code",
      "source": [
        "def eb_bil(unit,metercharge= 100):\n",
        "  bill = metercharge + unit* 5\n",
        "  print(\"your eb_bill for may month is \", bill)"
      ],
      "metadata": {
        "id": "5NKRc3zL9lxW"
      },
      "execution_count": null,
      "outputs": []
    },
    {
      "cell_type": "code",
      "source": [
        "eb_bil(337)"
      ],
      "metadata": {
        "colab": {
          "base_uri": "https://localhost:8080/"
        },
        "id": "lWWUt025-DPb",
        "outputId": "02f9c903-d019-4cfb-b707-7a1b0c903cfa"
      },
      "execution_count": null,
      "outputs": [
        {
          "output_type": "stream",
          "name": "stdout",
          "text": [
            "your eb_bill for may month is  1785\n"
          ]
        }
      ]
    },
    {
      "cell_type": "code",
      "source": [
        "total(50,70,90,60,80)"
      ],
      "metadata": {
        "colab": {
          "base_uri": "https://localhost:8080/"
        },
        "id": "P6ciPS5Dy-yy",
        "outputId": "f0ce317e-15c8-4898-85d2-18bcad468ef4"
      },
      "execution_count": null,
      "outputs": [
        {
          "output_type": "stream",
          "name": "stdout",
          "text": [
            "350\n"
          ]
        }
      ]
    },
    {
      "cell_type": "code",
      "source": [
        "def mult(s,g,k=100):\n",
        " mul = s*g*k\n",
        " print (mul)"
      ],
      "metadata": {
        "id": "ZTVl8OjSzwoV"
      },
      "execution_count": null,
      "outputs": []
    },
    {
      "cell_type": "code",
      "source": [],
      "metadata": {
        "id": "6uu3vcevfwLN"
      },
      "execution_count": null,
      "outputs": []
    },
    {
      "cell_type": "code",
      "source": [
        "mult(7,8)"
      ],
      "metadata": {
        "colab": {
          "base_uri": "https://localhost:8080/"
        },
        "id": "79uhMTdJ0Ht6",
        "outputId": "0cb3c332-babd-432f-aee4-caaee0b89147"
      },
      "execution_count": null,
      "outputs": [
        {
          "output_type": "stream",
          "name": "stdout",
          "text": [
            "5600\n"
          ]
        }
      ]
    },
    {
      "cell_type": "code",
      "metadata": {
        "id": "S3l8EepHWpsR",
        "colab": {
          "base_uri": "https://localhost:8080/"
        },
        "outputId": "ef1d0d7f-8f88-46c1-9caa-d3e6de9a1e4a"
      },
      "source": [
        "total(10,20,30)"
      ],
      "execution_count": null,
      "outputs": [
        {
          "output_type": "stream",
          "name": "stdout",
          "text": [
            "60\n"
          ]
        }
      ]
    },
    {
      "cell_type": "code",
      "metadata": {
        "id": "L_ZSUPTvWvwx"
      },
      "source": [
        "def total1(a,b):\n",
        "  return a+b\n"
      ],
      "execution_count": null,
      "outputs": []
    },
    {
      "cell_type": "code",
      "metadata": {
        "id": "uvh0qRv8XeSh"
      },
      "source": [],
      "execution_count": null,
      "outputs": []
    },
    {
      "cell_type": "code",
      "metadata": {
        "id": "PSCr_46IXLJo",
        "colab": {
          "base_uri": "https://localhost:8080/"
        },
        "outputId": "555788b1-eddc-4b42-f954-914b3f114170"
      },
      "source": [
        "total1(5,7)"
      ],
      "execution_count": null,
      "outputs": [
        {
          "output_type": "execute_result",
          "data": {
            "text/plain": [
              "12"
            ]
          },
          "metadata": {},
          "execution_count": 8
        }
      ]
    },
    {
      "cell_type": "code",
      "metadata": {
        "id": "lgJa92aUXfXt"
      },
      "source": [
        "def s():         # defining a function\n",
        "  print(\"welcome to india\")\n"
      ],
      "execution_count": null,
      "outputs": []
    },
    {
      "cell_type": "code",
      "metadata": {
        "colab": {
          "base_uri": "https://localhost:8080/"
        },
        "id": "B3IMlvu0c3OG",
        "outputId": "802fd601-d600-484a-f551-3f6c0d8f0a3c"
      },
      "source": [
        "s()#function calling"
      ],
      "execution_count": null,
      "outputs": [
        {
          "output_type": "stream",
          "name": "stdout",
          "text": [
            "welcome to india\n"
          ]
        }
      ]
    },
    {
      "cell_type": "code",
      "metadata": {
        "id": "X3C7nJGNYJo-"
      },
      "source": [
        "#functions arguments :default , keyword,arbitary arugument"
      ],
      "execution_count": null,
      "outputs": []
    },
    {
      "cell_type": "code",
      "metadata": {
        "id": "0OKx4UEH5x6m"
      },
      "source": [
        "def hello_worldgetname(name):\n",
        "   #default argument\n",
        "  print(\"welcome to India\",name)\n"
      ],
      "execution_count": null,
      "outputs": []
    },
    {
      "cell_type": "code",
      "metadata": {
        "id": "cfCJPCyz55BT",
        "colab": {
          "base_uri": "https://localhost:8080/"
        },
        "outputId": "bb1856ac-5a91-4c5a-926a-f98e617acd8d"
      },
      "source": [
        "hello_worldgetname('sasi') #function calling with arguments"
      ],
      "execution_count": null,
      "outputs": [
        {
          "output_type": "stream",
          "name": "stdout",
          "text": [
            "welcome to India sasi\n"
          ]
        }
      ]
    },
    {
      "cell_type": "code",
      "metadata": {
        "id": "Wdn4x8rN6DzK"
      },
      "source": [
        "def getname1(name):\n",
        "  print(name)\n"
      ],
      "execution_count": null,
      "outputs": []
    },
    {
      "cell_type": "code",
      "metadata": {
        "id": "raHKP2Lo6RwT",
        "colab": {
          "base_uri": "https://localhost:8080/",
          "height": 161
        },
        "outputId": "9f59ea20-1e32-45d0-e0f9-ce9805541ea4"
      },
      "source": [
        "getname1('sasi','kala')"
      ],
      "execution_count": null,
      "outputs": [
        {
          "output_type": "error",
          "ename": "TypeError",
          "evalue": "ignored",
          "traceback": [
            "\u001b[0;31m---------------------------------------------------------------------------\u001b[0m",
            "\u001b[0;31mTypeError\u001b[0m                                 Traceback (most recent call last)",
            "\u001b[0;32m<ipython-input-13-7d8d27cde951>\u001b[0m in \u001b[0;36m<module>\u001b[0;34m()\u001b[0m\n\u001b[0;32m----> 1\u001b[0;31m \u001b[0mgetname1\u001b[0m\u001b[0;34m(\u001b[0m\u001b[0;34m'sasi'\u001b[0m\u001b[0;34m,\u001b[0m\u001b[0;34m'kala'\u001b[0m\u001b[0;34m)\u001b[0m\u001b[0;34m\u001b[0m\u001b[0;34m\u001b[0m\u001b[0m\n\u001b[0m",
            "\u001b[0;31mTypeError\u001b[0m: getname1() takes 1 positional argument but 2 were given"
          ]
        }
      ]
    },
    {
      "cell_type": "code",
      "metadata": {
        "id": "fUa00Voa8N9n"
      },
      "source": [
        "def fruits(*a): # keyword argument\n",
        "  for i in a:\n",
        "    print(a)\n"
      ],
      "execution_count": null,
      "outputs": []
    },
    {
      "cell_type": "code",
      "metadata": {
        "id": "PJygwsDl8Y5B",
        "colab": {
          "base_uri": "https://localhost:8080/"
        },
        "outputId": "7364ecdc-b465-45ea-ca03-8817936f8859"
      },
      "source": [
        "fruits(\"hello\", 'hi')"
      ],
      "execution_count": null,
      "outputs": [
        {
          "output_type": "stream",
          "name": "stdout",
          "text": [
            "('hello', 'hi')\n",
            "('hello', 'hi')\n"
          ]
        }
      ]
    },
    {
      "cell_type": "code",
      "metadata": {
        "id": "z2wppjMy_OZw"
      },
      "source": [
        "#recursive function\n",
        "def data():\n",
        "   name = input(\"enter the name:\")\n",
        "   fathername = input(\"enter the fathername:\")\n",
        "   age = input(\"enter the age:\")\n",
        "   choice = input (\"want to continue[y/n]\")\n",
        "   if choice == 'y':\n",
        "      data()\n",
        "\n",
        "\n"
      ],
      "execution_count": null,
      "outputs": []
    },
    {
      "cell_type": "code",
      "metadata": {
        "id": "0JD3O0UuAWEN",
        "colab": {
          "base_uri": "https://localhost:8080/",
          "height": 153
        },
        "outputId": "11665884-8943-46cb-fd32-e33a75b37a38"
      },
      "source": [
        "data()"
      ],
      "execution_count": null,
      "outputs": [
        {
          "output_type": "stream",
          "text": [
            "enter the name:sasi\n",
            "enter the fathername:gopal\n",
            "enter the age:30\n",
            "want to continue[y/n]y\n",
            "enter the name:senthil\n",
            "enter the fathername:kumar\n",
            "enter the age:34\n",
            "want to continue[y/n]n\n"
          ],
          "name": "stdout"
        }
      ]
    },
    {
      "cell_type": "code",
      "metadata": {
        "id": "NnjgdnczEjUN"
      },
      "source": [
        "#global and local variable\n",
        "\n",
        "a=20\n",
        "def abc():\n",
        "  g=10\n",
        "  print(a+g)\n"
      ],
      "execution_count": null,
      "outputs": []
    },
    {
      "cell_type": "code",
      "metadata": {
        "id": "PXGj4SOKE0MM",
        "colab": {
          "base_uri": "https://localhost:8080/",
          "height": 34
        },
        "outputId": "ce36d63f-efd5-4386-9309-4318c8b9f767"
      },
      "source": [
        "abc()"
      ],
      "execution_count": null,
      "outputs": [
        {
          "output_type": "stream",
          "text": [
            "30\n"
          ],
          "name": "stdout"
        }
      ]
    },
    {
      "cell_type": "code",
      "metadata": {
        "id": "o7dMXtHkFCH-",
        "colab": {
          "base_uri": "https://localhost:8080/"
        },
        "outputId": "e0ff7d80-75f0-4116-9ed1-97bf8a0aa7e0"
      },
      "source": [
        "print(a)"
      ],
      "execution_count": null,
      "outputs": [
        {
          "output_type": "stream",
          "name": "stdout",
          "text": [
            "20\n"
          ]
        }
      ]
    },
    {
      "cell_type": "code",
      "metadata": {
        "id": "M-ekjB1FFSnl"
      },
      "source": [
        "gh=10\n",
        "def just():\n",
        "  h=100\n",
        "  h =gh-10\n",
        "  print(h)"
      ],
      "execution_count": null,
      "outputs": []
    },
    {
      "cell_type": "code",
      "metadata": {
        "id": "3N96T1lAGEJu",
        "colab": {
          "base_uri": "https://localhost:8080/",
          "height": 34
        },
        "outputId": "50313553-3fe1-4322-cf16-007c0a4f5d03"
      },
      "source": [
        "just()"
      ],
      "execution_count": null,
      "outputs": [
        {
          "output_type": "stream",
          "text": [
            "90\n"
          ],
          "name": "stdout"
        }
      ]
    },
    {
      "cell_type": "code",
      "metadata": {
        "id": "keDjo8QHPbHO"
      },
      "source": [
        "class MyClass:\n",
        "\t\"This is my second class\"\n",
        "\ta = 10\n",
        "\tdef func(self):\n",
        "\t\tprint('Hello')"
      ],
      "execution_count": null,
      "outputs": []
    },
    {
      "cell_type": "code",
      "metadata": {
        "id": "SoBNotscPdI5",
        "colab": {
          "base_uri": "https://localhost:8080/",
          "height": 34
        },
        "outputId": "66506e23-0aa4-4270-d890-a0dba4dcaf00"
      },
      "source": [
        "print(MyClass.a)"
      ],
      "execution_count": null,
      "outputs": [
        {
          "output_type": "stream",
          "text": [
            "10\n"
          ],
          "name": "stdout"
        }
      ]
    },
    {
      "cell_type": "code",
      "metadata": {
        "id": "2-A7OoqePsTZ",
        "colab": {
          "base_uri": "https://localhost:8080/",
          "height": 34
        },
        "outputId": "3e455a77-cbd7-454f-9764-47eea679d76e"
      },
      "source": [
        "print(MyClass.func)"
      ],
      "execution_count": null,
      "outputs": [
        {
          "output_type": "stream",
          "text": [
            "<function MyClass.func at 0x7f59269d47b8>\n"
          ],
          "name": "stdout"
        }
      ]
    },
    {
      "cell_type": "code",
      "metadata": {
        "id": "_RQ7G5d-PzMT",
        "colab": {
          "base_uri": "https://localhost:8080/",
          "height": 34
        },
        "outputId": "632ea3e5-a3eb-4c46-ce56-249de66b88b9"
      },
      "source": [
        "print(MyClass.__doc__)"
      ],
      "execution_count": null,
      "outputs": [
        {
          "output_type": "stream",
          "text": [
            "This is my second class\n"
          ],
          "name": "stdout"
        }
      ]
    },
    {
      "cell_type": "code",
      "source": [
        "def welcome(name,a):\n",
        "  print(\"hi\", name,a)"
      ],
      "metadata": {
        "id": "TGxxHQcERrZL"
      },
      "execution_count": null,
      "outputs": []
    },
    {
      "cell_type": "code",
      "source": [
        "welcome('sasi','kala')"
      ],
      "metadata": {
        "colab": {
          "base_uri": "https://localhost:8080/"
        },
        "id": "If9y_DB0R3su",
        "outputId": "ff152dc7-6f6a-40e9-fcbd-70f6780e0e19"
      },
      "execution_count": null,
      "outputs": [
        {
          "output_type": "stream",
          "name": "stdout",
          "text": [
            "hi sasi kala\n"
          ]
        }
      ]
    },
    {
      "cell_type": "code",
      "source": [
        "def welcome(): # function with no argument\n",
        "  print(\"hello good morning\")  # function creation"
      ],
      "metadata": {
        "id": "Ts92r5HJ74jr"
      },
      "execution_count": null,
      "outputs": []
    },
    {
      "cell_type": "code",
      "source": [
        "welcome() #function call"
      ],
      "metadata": {
        "colab": {
          "base_uri": "https://localhost:8080/",
          "height": 167
        },
        "id": "14SKMXpy8Of7",
        "outputId": "a387efe6-c0b2-4dec-e4df-d0da5dfa8e40"
      },
      "execution_count": null,
      "outputs": [
        {
          "output_type": "error",
          "ename": "TypeError",
          "evalue": "ignored",
          "traceback": [
            "\u001b[0;31m---------------------------------------------------------------------------\u001b[0m",
            "\u001b[0;31mTypeError\u001b[0m                                 Traceback (most recent call last)",
            "\u001b[0;32m<ipython-input-5-4ea26000c7a3>\u001b[0m in \u001b[0;36m<cell line: 1>\u001b[0;34m()\u001b[0m\n\u001b[0;32m----> 1\u001b[0;31m \u001b[0mwelcome\u001b[0m\u001b[0;34m(\u001b[0m\u001b[0;34m'sasi'\u001b[0m\u001b[0;34m)\u001b[0m \u001b[0;31m#function call\u001b[0m\u001b[0;34m\u001b[0m\u001b[0;34m\u001b[0m\u001b[0m\n\u001b[0m",
            "\u001b[0;31mTypeError\u001b[0m: welcome() takes 0 positional arguments but 1 was given"
          ]
        }
      ]
    },
    {
      "cell_type": "code",
      "source": [
        "def addition(num1,num2): # function with arguments\n",
        "  addnums = num1 + num2\n",
        "  return addnums\n",
        "\n"
      ],
      "metadata": {
        "id": "DahXVEkI8kZA"
      },
      "execution_count": null,
      "outputs": []
    },
    {
      "cell_type": "code",
      "source": [
        "addition(34.5,787)"
      ],
      "metadata": {
        "colab": {
          "base_uri": "https://localhost:8080/"
        },
        "id": "TJMKHRRo9ghE",
        "outputId": "f0c0c065-2576-4799-dd98-f9b21862f58e"
      },
      "execution_count": null,
      "outputs": [
        {
          "output_type": "execute_result",
          "data": {
            "text/plain": [
              "821.5"
            ]
          },
          "metadata": {},
          "execution_count": 8
        }
      ]
    },
    {
      "cell_type": "code",
      "source": [
        "def ebbill(meterrate,cons=100): # function with constant argument\n",
        "  result = meterrate * 5 + cons\n",
        "  print(result)"
      ],
      "metadata": {
        "id": "vCx1SKCH_coI"
      },
      "execution_count": null,
      "outputs": []
    },
    {
      "cell_type": "code",
      "source": [
        "ebbill(432)"
      ],
      "metadata": {
        "colab": {
          "base_uri": "https://localhost:8080/"
        },
        "id": "OU96ZYzu_w1p",
        "outputId": "01d4c6d0-8518-42ae-9c5b-1ed158542221"
      },
      "execution_count": null,
      "outputs": [
        {
          "output_type": "stream",
          "name": "stdout",
          "text": [
            "2260\n"
          ]
        }
      ]
    },
    {
      "cell_type": "code",
      "source": [
        "10356.32\n",
        "10356"
      ],
      "metadata": {
        "id": "OwhogdGDAPmT"
      },
      "execution_count": null,
      "outputs": []
    },
    {
      "cell_type": "code",
      "source": [
        "1"
      ],
      "metadata": {
        "id": "nLXyugplAfrS"
      },
      "execution_count": null,
      "outputs": []
    }
  ]
}