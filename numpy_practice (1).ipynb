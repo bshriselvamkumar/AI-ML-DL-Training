{
  "nbformat": 4,
  "nbformat_minor": 0,
  "metadata": {
    "colab": {
      "provenance": []
    },
    "kernelspec": {
      "name": "python3",
      "display_name": "Python 3"
    },
    "language_info": {
      "name": "python"
    }
  },
  "cells": [
    {
      "cell_type": "code",
      "execution_count": null,
      "metadata": {
        "id": "MhBkofiI3YrG"
      },
      "outputs": [],
      "source": [
        "import numpy as np\n"
      ]
    },
    {
      "cell_type": "markdown",
      "source": [
        "array = collection of related items\n",
        "\n",
        " conceptual array = [ 2,'india', 'Asia', 148.52, True]\n",
        "\n",
        " technical array = [2,5,6,9,7] # collection of similar data types"
      ],
      "metadata": {
        "id": "oUyrevYlcoXY"
      }
    },
    {
      "cell_type": "code",
      "source": [
        " a = [10,5]"
      ],
      "metadata": {
        "id": "OhxsWJ3gblxI"
      },
      "execution_count": null,
      "outputs": []
    },
    {
      "cell_type": "code",
      "source": [
        "type(a)"
      ],
      "metadata": {
        "colab": {
          "base_uri": "https://localhost:8080/"
        },
        "id": "Vkr_bjvPcH_1",
        "outputId": "e85a6983-40d2-48d0-a190-8103503ae321"
      },
      "execution_count": null,
      "outputs": [
        {
          "output_type": "execute_result",
          "data": {
            "text/plain": [
              "list"
            ]
          },
          "metadata": {},
          "execution_count": 9
        }
      ]
    },
    {
      "cell_type": "markdown",
      "source": [
        "1.create a numpy array"
      ],
      "metadata": {
        "id": "ZN9P2bTH34hc"
      }
    },
    {
      "cell_type": "code",
      "source": [
        "a = np.array([4,8,9])\n",
        "\n",
        "b = np.array([9,8,5])\n",
        "print(type(a))"
      ],
      "metadata": {
        "colab": {
          "base_uri": "https://localhost:8080/"
        },
        "id": "rxduex09361R",
        "outputId": "28386d26-e174-41c8-eaa1-c09b218f2dd9"
      },
      "execution_count": null,
      "outputs": [
        {
          "output_type": "stream",
          "name": "stdout",
          "text": [
            "<class 'numpy.ndarray'>\n"
          ]
        }
      ]
    },
    {
      "cell_type": "code",
      "source": [
        "type(a)"
      ],
      "metadata": {
        "colab": {
          "base_uri": "https://localhost:8080/"
        },
        "id": "XWhTvUxZfYTU",
        "outputId": "708286da-b2ec-4d7a-964a-f37892f7ef52"
      },
      "execution_count": null,
      "outputs": [
        {
          "output_type": "execute_result",
          "data": {
            "text/plain": [
              "numpy.ndarray"
            ]
          },
          "metadata": {},
          "execution_count": 18
        }
      ]
    },
    {
      "cell_type": "code",
      "source": [
        "a.ndim"
      ],
      "metadata": {
        "colab": {
          "base_uri": "https://localhost:8080/"
        },
        "id": "0IAIbAzpfmzg",
        "outputId": "386f8535-6e83-48b7-9edb-5088e9792dac"
      },
      "execution_count": null,
      "outputs": [
        {
          "output_type": "execute_result",
          "data": {
            "text/plain": [
              "1"
            ]
          },
          "metadata": {},
          "execution_count": 23
        }
      ]
    },
    {
      "cell_type": "code",
      "source": [
        "c = np.arange(2,2000,500) # start , end-1 , steps\n",
        "print(c)"
      ],
      "metadata": {
        "colab": {
          "base_uri": "https://localhost:8080/"
        },
        "id": "6Cv7GW7M4WoE",
        "outputId": "6096d62d-34f7-4651-bd8d-2e6e6c464dc7"
      },
      "execution_count": null,
      "outputs": [
        {
          "output_type": "stream",
          "name": "stdout",
          "text": [
            "[   2  502 1002 1502]\n"
          ]
        }
      ]
    },
    {
      "cell_type": "code",
      "source": [
        "d = np.linspace(4,6,25,dtype =float)\n",
        "print(d)"
      ],
      "metadata": {
        "colab": {
          "base_uri": "https://localhost:8080/"
        },
        "id": "tVr5S-nl4nbo",
        "outputId": "88f74dd3-3407-4d89-ff54-23e885efa09d"
      },
      "execution_count": null,
      "outputs": [
        {
          "output_type": "stream",
          "name": "stdout",
          "text": [
            "[4.         4.08333333 4.16666667 4.25       4.33333333 4.41666667\n",
            " 4.5        4.58333333 4.66666667 4.75       4.83333333 4.91666667\n",
            " 5.         5.08333333 5.16666667 5.25       5.33333333 5.41666667\n",
            " 5.5        5.58333333 5.66666667 5.75       5.83333333 5.91666667\n",
            " 6.        ]\n"
          ]
        }
      ]
    },
    {
      "cell_type": "markdown",
      "source": [
        "important functions to check on handson :\n",
        "ndim,\n",
        "shape,\n",
        "size,\n",
        "Dtype,\n",
        "itemsize,\n",
        "Reshape"
      ],
      "metadata": {
        "id": "5NI7Jkxg5Fla"
      }
    },
    {
      "cell_type": "code",
      "source": [
        "# converting the dimensionality using numpy  2d to 1d\n",
        "e = np.array([[3,4,5],[8,9,8],[9,8,6]])\n",
        "f = e.flatten()\n",
        "print(f.ndim)"
      ],
      "metadata": {
        "colab": {
          "base_uri": "https://localhost:8080/"
        },
        "id": "YPWq8WyS5A3b",
        "outputId": "0ccd5fba-ac44-4d60-94b4-863f4a85ed1c"
      },
      "execution_count": null,
      "outputs": [
        {
          "output_type": "stream",
          "name": "stdout",
          "text": [
            "1\n"
          ]
        }
      ]
    },
    {
      "cell_type": "code",
      "source": [
        "e\n"
      ],
      "metadata": {
        "colab": {
          "base_uri": "https://localhost:8080/"
        },
        "id": "cF1PF5Qnsfdq",
        "outputId": "9d76cc43-0ed1-4af3-83a9-b1684efd8532"
      },
      "execution_count": null,
      "outputs": [
        {
          "output_type": "execute_result",
          "data": {
            "text/plain": [
              "array([[3, 4, 5],\n",
              "       [8, 9, 8],\n",
              "       [9, 8, 6]])"
            ]
          },
          "metadata": {},
          "execution_count": 9
        }
      ]
    },
    {
      "cell_type": "code",
      "source": [
        "f"
      ],
      "metadata": {
        "colab": {
          "base_uri": "https://localhost:8080/"
        },
        "id": "v1P0v-KtsiIi",
        "outputId": "532d4b75-2214-4161-d016-4149bd26a367"
      },
      "execution_count": null,
      "outputs": [
        {
          "output_type": "execute_result",
          "data": {
            "text/plain": [
              "array([3, 4, 5, 8, 9, 8, 9, 8, 6])"
            ]
          },
          "metadata": {},
          "execution_count": 8
        }
      ]
    },
    {
      "cell_type": "code",
      "source": [
        "e.ndim"
      ],
      "metadata": {
        "colab": {
          "base_uri": "https://localhost:8080/"
        },
        "id": "Zu_QmV96nGmA",
        "outputId": "3c38b1a7-ad60-4a3b-fa10-d630646af3be"
      },
      "execution_count": null,
      "outputs": [
        {
          "output_type": "execute_result",
          "data": {
            "text/plain": [
              "2"
            ]
          },
          "metadata": {},
          "execution_count": 48
        }
      ]
    },
    {
      "cell_type": "code",
      "source": [
        "g = e.ravel() #2d or 3d to 1 d\n",
        "print(g)"
      ],
      "metadata": {
        "colab": {
          "base_uri": "https://localhost:8080/"
        },
        "id": "46O3Kg8W6oz0",
        "outputId": "b1a175d6-fdc0-4a03-a215-013bbd7dfc2a"
      },
      "execution_count": null,
      "outputs": [
        {
          "output_type": "stream",
          "name": "stdout",
          "text": [
            "[3 4 5 8 9 8 9 8 6]\n"
          ]
        }
      ]
    },
    {
      "cell_type": "code",
      "source": [
        "print(e)"
      ],
      "metadata": {
        "colab": {
          "base_uri": "https://localhost:8080/"
        },
        "id": "mx9a0x3H6_qn",
        "outputId": "0737a5c5-a9ce-43cf-c50a-919bede0ada1"
      },
      "execution_count": null,
      "outputs": [
        {
          "output_type": "stream",
          "name": "stdout",
          "text": [
            "[[3 4 5]\n",
            " [8 9 8]\n",
            " [9 8 6]]\n"
          ]
        }
      ]
    },
    {
      "cell_type": "code",
      "source": [
        "e.reshape(1,9)"
      ],
      "metadata": {
        "colab": {
          "base_uri": "https://localhost:8080/"
        },
        "id": "UNQtFpebs6le",
        "outputId": "117b2ed8-92d5-4c66-fd23-31e6cf61a714"
      },
      "execution_count": null,
      "outputs": [
        {
          "output_type": "execute_result",
          "data": {
            "text/plain": [
              "array([[3, 4, 5, 8, 9, 8, 9, 8, 6]])"
            ]
          },
          "metadata": {},
          "execution_count": 9
        }
      ]
    },
    {
      "cell_type": "code",
      "source": [
        "h = e.reshape(9,1)\n",
        "print(h)"
      ],
      "metadata": {
        "colab": {
          "base_uri": "https://localhost:8080/"
        },
        "id": "zXWHtXre7EYp",
        "outputId": "29b03f73-ee4a-47bd-8a3c-c1c5d2950100"
      },
      "execution_count": null,
      "outputs": [
        {
          "output_type": "stream",
          "name": "stdout",
          "text": [
            "[[3]\n",
            " [4]\n",
            " [5]\n",
            " [8]\n",
            " [9]\n",
            " [8]\n",
            " [9]\n",
            " [8]\n",
            " [6]]\n"
          ]
        }
      ]
    },
    {
      "cell_type": "code",
      "source": [
        "h.T"
      ],
      "metadata": {
        "colab": {
          "base_uri": "https://localhost:8080/"
        },
        "id": "jcKqe6QxarsR",
        "outputId": "34f276aa-0214-40b7-b30b-6bd5f0656c27"
      },
      "execution_count": null,
      "outputs": [
        {
          "output_type": "execute_result",
          "data": {
            "text/plain": [
              "array([[3, 4, 5, 8, 9, 8, 9, 8, 6]])"
            ]
          },
          "metadata": {},
          "execution_count": 9
        }
      ]
    },
    {
      "cell_type": "code",
      "source": [
        "#insertion and deletion of array\n",
        "\n",
        "arr = np.array([9,6,5,4,9])\n",
        "arr = np.insert(arr,2,10)\n",
        "arr"
      ],
      "metadata": {
        "colab": {
          "base_uri": "https://localhost:8080/"
        },
        "id": "zvsVefPjb3tG",
        "outputId": "7316a562-0ba4-4f04-80f4-b0bfea9fd7f1"
      },
      "execution_count": null,
      "outputs": [
        {
          "output_type": "execute_result",
          "data": {
            "text/plain": [
              "array([ 9,  6, 10,  5,  4,  9])"
            ]
          },
          "metadata": {},
          "execution_count": 10
        }
      ]
    },
    {
      "cell_type": "code",
      "source": [
        "arr = np.delete(arr,2) # arrayvalue , index , value to insert"
      ],
      "metadata": {
        "id": "mgGJHpYkdHMF"
      },
      "execution_count": null,
      "outputs": []
    },
    {
      "cell_type": "code",
      "source": [
        "arr"
      ],
      "metadata": {
        "colab": {
          "base_uri": "https://localhost:8080/"
        },
        "id": "bLGysQuDd037",
        "outputId": "a1a3c226-5e3b-4629-a5a5-545e2ad69216"
      },
      "execution_count": null,
      "outputs": [
        {
          "output_type": "execute_result",
          "data": {
            "text/plain": [
              "array([9, 6, 5, 4, 9])"
            ]
          },
          "metadata": {},
          "execution_count": 12
        }
      ]
    },
    {
      "cell_type": "markdown",
      "source": [
        "\\sum(),min(),max(),mean(),median(),corrcoef(),np.std(b)"
      ],
      "metadata": {
        "id": "AcRNoXsXfJTa"
      }
    },
    {
      "cell_type": "code",
      "source": [
        "# find the index of a value\n",
        "arr1 = np.arange(10)\n",
        "index = np.where (arr1 == 2)\n",
        "print(index)"
      ],
      "metadata": {
        "colab": {
          "base_uri": "https://localhost:8080/"
        },
        "id": "PThtjdmbeDGL",
        "outputId": "c1a0e77a-5b40-4a3d-9c43-15e670bbaac9"
      },
      "execution_count": null,
      "outputs": [
        {
          "output_type": "stream",
          "name": "stdout",
          "text": [
            "(array([2]),)\n"
          ]
        }
      ]
    },
    {
      "cell_type": "code",
      "source": [
        "arr1"
      ],
      "metadata": {
        "colab": {
          "base_uri": "https://localhost:8080/"
        },
        "id": "Aji7fJ5vu0zD",
        "outputId": "2a0dec36-921f-4522-b6fa-d74c117b0e66"
      },
      "execution_count": null,
      "outputs": [
        {
          "output_type": "execute_result",
          "data": {
            "text/plain": [
              "array([0, 1, 2, 3, 4, 5, 6, 7, 8, 9])"
            ]
          },
          "metadata": {},
          "execution_count": 12
        }
      ]
    },
    {
      "cell_type": "code",
      "source": [
        "arr3 = np.array([7,8,9,5,4,0,1,3,7])\n",
        "#ss = print(arr3.sort())"
      ],
      "metadata": {
        "id": "zMf_Vhxuf6Am"
      },
      "execution_count": null,
      "outputs": []
    },
    {
      "cell_type": "code",
      "source": [
        "arr3.sort()\n",
        "print(\"enter the sorted array:\",arr3)"
      ],
      "metadata": {
        "colab": {
          "base_uri": "https://localhost:8080/"
        },
        "id": "YK8AVCC8gYS1",
        "outputId": "67060ccd-1760-46d5-e98d-912941fb4c12"
      },
      "execution_count": null,
      "outputs": [
        {
          "output_type": "stream",
          "name": "stdout",
          "text": [
            "enter the sorted array: [0 1 3 4 5 7 7 8 9]\n"
          ]
        }
      ]
    },
    {
      "cell_type": "code",
      "source": [
        "# array broadcasting : braodcasting : applying mathematical functions # +,-,*,%,/ , //\n",
        "\n",
        "x = np.ones((4,3))\n",
        "y = np.random.random((4,3))\n",
        "print(x+y)"
      ],
      "metadata": {
        "colab": {
          "base_uri": "https://localhost:8080/"
        },
        "id": "jtPBb4Dtd5MD",
        "outputId": "bdf46caf-e38c-41f3-dce9-a20b9a6f0396"
      },
      "execution_count": null,
      "outputs": [
        {
          "output_type": "stream",
          "name": "stdout",
          "text": [
            "[[1.84006104 1.13151233 1.97479981]\n",
            " [1.99660583 1.7628056  1.05767206]\n",
            " [1.73782619 1.37098458 1.86448662]\n",
            " [1.0632165  1.79704877 1.67952744]]\n"
          ]
        }
      ]
    },
    {
      "cell_type": "code",
      "source": [
        "x"
      ],
      "metadata": {
        "colab": {
          "base_uri": "https://localhost:8080/"
        },
        "id": "1F_snfqqeKYT",
        "outputId": "6cd5651b-1a84-4aa8-c7c9-df15071eafca"
      },
      "execution_count": null,
      "outputs": [
        {
          "output_type": "execute_result",
          "data": {
            "text/plain": [
              "array([[1., 1., 1.],\n",
              "       [1., 1., 1.],\n",
              "       [1., 1., 1.],\n",
              "       [1., 1., 1.]])"
            ]
          },
          "metadata": {},
          "execution_count": 17
        }
      ]
    },
    {
      "cell_type": "code",
      "source": [
        "y"
      ],
      "metadata": {
        "colab": {
          "base_uri": "https://localhost:8080/"
        },
        "id": "C6t40HTgeKcz",
        "outputId": "7e90a002-d36d-4053-caec-890359fa432e"
      },
      "execution_count": null,
      "outputs": [
        {
          "output_type": "execute_result",
          "data": {
            "text/plain": [
              "array([[0.84006104, 0.13151233, 0.97479981],\n",
              "       [0.99660583, 0.7628056 , 0.05767206],\n",
              "       [0.73782619, 0.37098458, 0.86448662],\n",
              "       [0.0632165 , 0.79704877, 0.67952744]])"
            ]
          },
          "metadata": {},
          "execution_count": 18
        }
      ]
    },
    {
      "cell_type": "code",
      "source": [
        "print(x-y)"
      ],
      "metadata": {
        "colab": {
          "base_uri": "https://localhost:8080/"
        },
        "id": "u0keTquSePJ_",
        "outputId": "16df0e29-5bd8-49cc-876c-022590ad51ab"
      },
      "execution_count": null,
      "outputs": [
        {
          "output_type": "stream",
          "name": "stdout",
          "text": [
            "[[0.15993896 0.86848767 0.02520019]\n",
            " [0.00339417 0.2371944  0.94232794]\n",
            " [0.26217381 0.62901542 0.13551338]\n",
            " [0.9367835  0.20295123 0.32047256]]\n"
          ]
        }
      ]
    },
    {
      "cell_type": "markdown",
      "source": [
        "exercise part :Aggregation functions:\n",
        " sum(),\n",
        " min(),\n",
        " max(),\n",
        " cumsum(),\n",
        " mean(),\n",
        " median(),\n",
        " corrcoef(),\n",
        " std(),\n",
        " np.sin(),\n",
        " np.cos()"
      ],
      "metadata": {
        "id": "jebEyAQbeia5"
      }
    },
    {
      "cell_type": "code",
      "source": [
        "print(arr[arr>5])"
      ],
      "metadata": {
        "colab": {
          "base_uri": "https://localhost:8080/"
        },
        "id": "MCLjHUkIe9Gy",
        "outputId": "9d142f8a-e0dc-447b-d97f-123bcddfa6fd"
      },
      "execution_count": null,
      "outputs": [
        {
          "output_type": "stream",
          "name": "stdout",
          "text": [
            "[9 6 9]\n"
          ]
        }
      ]
    },
    {
      "cell_type": "code",
      "source": [
        "arr.T"
      ],
      "metadata": {
        "colab": {
          "base_uri": "https://localhost:8080/"
        },
        "id": "SVpMWO8Nfef0",
        "outputId": "364cc17b-8738-4236-ca72-aeefedba3be3"
      },
      "execution_count": null,
      "outputs": [
        {
          "output_type": "execute_result",
          "data": {
            "text/plain": [
              "array([9, 6, 5, 4, 9])"
            ]
          },
          "metadata": {},
          "execution_count": 21
        }
      ]
    },
    {
      "cell_type": "code",
      "source": [
        "#altering the array\n",
        "a3 = np.array([5,7,9,4,7])\n",
        "a3 = np.insert(a3,4,47) #(arr,index(location),axes(value))\n",
        "a3"
      ],
      "metadata": {
        "colab": {
          "base_uri": "https://localhost:8080/"
        },
        "id": "SSAnl_dwf-Ot",
        "outputId": "98925e5c-b930-4639-ca29-5f9359d6a69f"
      },
      "execution_count": null,
      "outputs": [
        {
          "output_type": "execute_result",
          "data": {
            "text/plain": [
              "array([ 5,  7,  9,  4, 47,  7])"
            ]
          },
          "metadata": {},
          "execution_count": 28
        }
      ]
    },
    {
      "cell_type": "code",
      "source": [
        "a3 = np.delete(a3,1)\n",
        "a3"
      ],
      "metadata": {
        "colab": {
          "base_uri": "https://localhost:8080/"
        },
        "id": "9NeKAPyqgbGd",
        "outputId": "db87cdb9-67ac-4a72-ca4c-32343568f1b5"
      },
      "execution_count": null,
      "outputs": [
        {
          "output_type": "execute_result",
          "data": {
            "text/plain": [
              "array([ 5,  9,  4, 47,  7])"
            ]
          },
          "metadata": {},
          "execution_count": 29
        }
      ]
    },
    {
      "cell_type": "code",
      "source": [
        "#retrieve diagonal from an array\n",
        "a4 = np.arange(27).reshape(3,3,3) # arange (27 ) = arrange values between 0 to 26\n",
        "a4\n",
        "\n"
      ],
      "metadata": {
        "colab": {
          "base_uri": "https://localhost:8080/"
        },
        "id": "sYEoIBGphH3a",
        "outputId": "f6f43e9b-6f6a-4526-b5ab-cf39e46280ef"
      },
      "execution_count": null,
      "outputs": [
        {
          "output_type": "execute_result",
          "data": {
            "text/plain": [
              "array([[[ 0,  1,  2],\n",
              "        [ 3,  4,  5],\n",
              "        [ 6,  7,  8]],\n",
              "\n",
              "       [[ 9, 10, 11],\n",
              "        [12, 13, 14],\n",
              "        [15, 16, 17]],\n",
              "\n",
              "       [[18, 19, 20],\n",
              "        [21, 22, 23],\n",
              "        [24, 25, 26]]])"
            ]
          },
          "metadata": {},
          "execution_count": 14
        }
      ]
    },
    {
      "cell_type": "code",
      "source": [
        "print(a4.diagonal(axis1=1,axis2=2))"
      ],
      "metadata": {
        "colab": {
          "base_uri": "https://localhost:8080/"
        },
        "id": "XyI-NdJaieM3",
        "outputId": "c0a1ec59-1f9a-4ab6-df10-374159c9018f"
      },
      "execution_count": null,
      "outputs": [
        {
          "output_type": "stream",
          "name": "stdout",
          "text": [
            "[[ 0  4  8]\n",
            " [ 9 13 17]\n",
            " [18 22 26]]\n"
          ]
        }
      ]
    }
  ]
}