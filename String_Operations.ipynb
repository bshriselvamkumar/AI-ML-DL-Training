{
  "cells": [
    {
      "cell_type": "code",
      "execution_count": null,
      "metadata": {
        "id": "EnOukp4nPYl8"
      },
      "outputs": [],
      "source": [
        "a='Rob'\n",
        "b='John'\n",
        "c=\"Mi        ke   \""
      ]
    },
    {
      "cell_type": "code",
      "source": [
        "s = \"978       98\""
      ],
      "metadata": {
        "id": "CeNkSbNm-q7N"
      },
      "execution_count": null,
      "outputs": []
    },
    {
      "cell_type": "code",
      "source": [
        "len(s)"
      ],
      "metadata": {
        "colab": {
          "base_uri": "https://localhost:8080/"
        },
        "id": "14kKA2o6-Xby",
        "outputId": "58051097-9b1a-48b0-8f6e-eb8ba1fdcea5"
      },
      "execution_count": null,
      "outputs": [
        {
          "output_type": "execute_result",
          "data": {
            "text/plain": [
              "5"
            ]
          },
          "metadata": {},
          "execution_count": 7
        }
      ]
    },
    {
      "cell_type": "code",
      "source": [
        "s[0:7] # start:end-1"
      ],
      "metadata": {
        "colab": {
          "base_uri": "https://localhost:8080/",
          "height": 35
        },
        "id": "IXBZLM9KZu8u",
        "outputId": "1def0be9-a222-4389-e202-8fbbb5141253"
      },
      "execution_count": null,
      "outputs": [
        {
          "output_type": "execute_result",
          "data": {
            "text/plain": [
              "'978    '"
            ],
            "application/vnd.google.colaboratory.intrinsic+json": {
              "type": "string"
            }
          },
          "metadata": {},
          "execution_count": 19
        }
      ]
    },
    {
      "cell_type": "code",
      "source": [
        "len(c)"
      ],
      "metadata": {
        "colab": {
          "base_uri": "https://localhost:8080/"
        },
        "id": "rxRxmPA623P_",
        "outputId": "4d5e20c8-a535-4e39-f5de-98bc6e85c6f5"
      },
      "execution_count": null,
      "outputs": [
        {
          "output_type": "execute_result",
          "data": {
            "text/plain": [
              "12"
            ]
          },
          "metadata": {},
          "execution_count": 4
        }
      ]
    },
    {
      "cell_type": "code",
      "source": [
        "c[0:5]"
      ],
      "metadata": {
        "colab": {
          "base_uri": "https://localhost:8080/",
          "height": 35
        },
        "id": "FbaF1XT025w4",
        "outputId": "50e9a38d-41d0-4ba1-d710-2f32258d7706"
      },
      "execution_count": null,
      "outputs": [
        {
          "output_type": "execute_result",
          "data": {
            "text/plain": [
              "'Mi   '"
            ],
            "application/vnd.google.colaboratory.intrinsic+json": {
              "type": "string"
            }
          },
          "metadata": {},
          "execution_count": 20
        }
      ]
    },
    {
      "cell_type": "code",
      "source": [
        "b[1] # start , end-1"
      ],
      "metadata": {
        "colab": {
          "base_uri": "https://localhost:8080/",
          "height": 167
        },
        "id": "9JyJ90Yg0jgO",
        "outputId": "b36ac2ab-8f5c-43b2-d50a-86b5e04eee60"
      },
      "execution_count": null,
      "outputs": [
        {
          "output_type": "error",
          "ename": "TypeError",
          "evalue": "ignored",
          "traceback": [
            "\u001b[0;31m---------------------------------------------------------------------------\u001b[0m",
            "\u001b[0;31mTypeError\u001b[0m                                 Traceback (most recent call last)",
            "\u001b[0;32m<ipython-input-12-94165d4fc45e>\u001b[0m in \u001b[0;36m<cell line: 1>\u001b[0;34m()\u001b[0m\n\u001b[0;32m----> 1\u001b[0;31m \u001b[0mb\u001b[0m\u001b[0;34m[\u001b[0m\u001b[0;36m1\u001b[0m\u001b[0;34m,\u001b[0m\u001b[0;36m3\u001b[0m\u001b[0;34m]\u001b[0m \u001b[0;31m# start , end-1\u001b[0m\u001b[0;34m\u001b[0m\u001b[0;34m\u001b[0m\u001b[0m\n\u001b[0m",
            "\u001b[0;31mTypeError\u001b[0m: string indices must be integers"
          ]
        }
      ]
    },
    {
      "cell_type": "code",
      "source": [
        "d = \" hgfhfukl lkbkjkjnknkkl bnbvhggv bjhbjbkj jgjhjhk kjh6456776 khkjiuiuu9\""
      ],
      "metadata": {
        "id": "TywTbrSA1ddG"
      },
      "execution_count": null,
      "outputs": []
    },
    {
      "cell_type": "code",
      "source": [
        "d[12]"
      ],
      "metadata": {
        "colab": {
          "base_uri": "https://localhost:8080/",
          "height": 35
        },
        "id": "yTbIWe6j2Nn3",
        "outputId": "327b04a4-019a-4c2a-c28a-7c447cad7466"
      },
      "execution_count": null,
      "outputs": [
        {
          "output_type": "execute_result",
          "data": {
            "text/plain": [
              "'bk'"
            ],
            "application/vnd.google.colaboratory.intrinsic+json": {
              "type": "string"
            }
          },
          "metadata": {},
          "execution_count": 18
        }
      ]
    },
    {
      "cell_type": "code",
      "source": [
        "e = \"57657575\""
      ],
      "metadata": {
        "id": "LEtBArlw3iYD"
      },
      "execution_count": null,
      "outputs": []
    },
    {
      "cell_type": "code",
      "source": [
        "e[0]"
      ],
      "metadata": {
        "colab": {
          "base_uri": "https://localhost:8080/",
          "height": 35
        },
        "id": "-ee9Deyu3k0b",
        "outputId": "513d157d-8526-43e0-fb2c-93e67f16ba4c"
      },
      "execution_count": null,
      "outputs": [
        {
          "output_type": "execute_result",
          "data": {
            "text/plain": [
              "'5'"
            ],
            "application/vnd.google.colaboratory.intrinsic+json": {
              "type": "string"
            }
          },
          "metadata": {},
          "execution_count": 22
        }
      ]
    },
    {
      "cell_type": "code",
      "source": [
        "len(d)"
      ],
      "metadata": {
        "colab": {
          "base_uri": "https://localhost:8080/"
        },
        "id": "CDEsfCAB1s6C",
        "outputId": "cacedcab-2fdf-4972-ecda-dbde07907c71"
      },
      "execution_count": null,
      "outputs": [
        {
          "output_type": "execute_result",
          "data": {
            "text/plain": [
              "71"
            ]
          },
          "metadata": {},
          "execution_count": 17
        }
      ]
    },
    {
      "cell_type": "code",
      "source": [
        "d[16]"
      ],
      "metadata": {
        "colab": {
          "base_uri": "https://localhost:8080/",
          "height": 35
        },
        "id": "Pv6ZVzWh1wRp",
        "outputId": "0a59148f-edca-4aab-8a4b-68b46749448d"
      },
      "execution_count": null,
      "outputs": [
        {
          "output_type": "execute_result",
          "data": {
            "text/plain": [
              "'j'"
            ],
            "application/vnd.google.colaboratory.intrinsic+json": {
              "type": "string"
            }
          },
          "metadata": {},
          "execution_count": 15
        }
      ]
    },
    {
      "cell_type": "code",
      "source": [
        "len(c)"
      ],
      "metadata": {
        "colab": {
          "base_uri": "https://localhost:8080/"
        },
        "id": "zNHmJsuixTos",
        "outputId": "cf532db4-2287-439c-c907-6f3e7e820d82"
      },
      "execution_count": null,
      "outputs": [
        {
          "output_type": "execute_result",
          "data": {
            "text/plain": [
              "9"
            ]
          },
          "metadata": {},
          "execution_count": 5
        }
      ]
    },
    {
      "cell_type": "code",
      "source": [
        "56  = c"
      ],
      "metadata": {
        "id": "O7Tz8K6jPmcK",
        "colab": {
          "base_uri": "https://localhost:8080/",
          "height": 132
        },
        "outputId": "953e5320-4281-47ff-afcf-cb2fb1b90802"
      },
      "execution_count": null,
      "outputs": [
        {
          "output_type": "error",
          "ename": "SyntaxError",
          "evalue": "ignored",
          "traceback": [
            "\u001b[0;36m  File \u001b[0;32m\"<ipython-input-6-026bbd7e27fe>\"\u001b[0;36m, line \u001b[0;32m1\u001b[0m\n\u001b[0;31m    56  = c\u001b[0m\n\u001b[0m    ^\u001b[0m\n\u001b[0;31mSyntaxError\u001b[0m\u001b[0;31m:\u001b[0m cannot assign to literal here. Maybe you meant '==' instead of '='?\n"
          ]
        }
      ]
    },
    {
      "cell_type": "code",
      "execution_count": null,
      "metadata": {
        "id": "-4h5EQFVPYl-",
        "outputId": "59d17a4b-6c9c-4f27-b1a9-34f62f49df92"
      },
      "outputs": [
        {
          "name": "stdout",
          "output_type": "stream",
          "text": [
            "Rob\n",
            "John\n",
            "Mike\n"
          ]
        }
      ],
      "source": [
        "print(a)\n",
        "print(b)\n",
        "print(c)"
      ]
    },
    {
      "cell_type": "code",
      "execution_count": null,
      "metadata": {
        "colab": {
          "base_uri": "https://localhost:8080/"
        },
        "id": "dVQrz_0APYl_",
        "outputId": "3368bc4c-ff49-4bd1-8a93-3fda60f3b63f"
      },
      "outputs": [
        {
          "output_type": "execute_result",
          "data": {
            "text/plain": [
              "11"
            ]
          },
          "metadata": {},
          "execution_count": 4
        }
      ],
      "source": [
        "len(c)"
      ]
    },
    {
      "cell_type": "code",
      "execution_count": null,
      "metadata": {
        "colab": {
          "base_uri": "https://localhost:8080/",
          "height": 35
        },
        "id": "tzt2SIZhPYl_",
        "outputId": "82173e39-af85-4d90-9239-29db504f3d0f"
      },
      "outputs": [
        {
          "output_type": "execute_result",
          "data": {
            "text/plain": [
              "'R'"
            ],
            "application/vnd.google.colaboratory.intrinsic+json": {
              "type": "string"
            }
          },
          "metadata": {},
          "execution_count": 6
        }
      ],
      "source": [
        "a[0] #indexing"
      ]
    },
    {
      "cell_type": "code",
      "execution_count": null,
      "metadata": {
        "colab": {
          "base_uri": "https://localhost:8080/",
          "height": 35
        },
        "id": "4g8TZugOPYmA",
        "outputId": "e91ab677-8ab9-4581-d54c-ef7564259706"
      },
      "outputs": [
        {
          "output_type": "execute_result",
          "data": {
            "text/plain": [
              "'b'"
            ],
            "application/vnd.google.colaboratory.intrinsic+json": {
              "type": "string"
            }
          },
          "metadata": {},
          "execution_count": 7
        }
      ],
      "source": [
        "a[-1]"
      ]
    },
    {
      "cell_type": "code",
      "execution_count": null,
      "metadata": {
        "id": "g3gf1cUiPYmA",
        "outputId": "e20c6a4b-491f-43ce-ea27-4856af29aa31"
      },
      "outputs": [
        {
          "data": {
            "text/plain": [
              "'d'"
            ]
          },
          "execution_count": 48,
          "metadata": {},
          "output_type": "execute_result"
        }
      ],
      "source": [
        "string_var = \"hello world\"\n",
        "len_string_var = len(string_var)\n",
        "string_var[len_string_var-1]"
      ]
    },
    {
      "cell_type": "markdown",
      "metadata": {
        "id": "6N3Yxid6PYmB"
      },
      "source": [
        "#### Immutability"
      ]
    },
    {
      "cell_type": "code",
      "execution_count": null,
      "metadata": {
        "id": "pbGPBBpXPYmC",
        "outputId": "9f97eb2d-ac29-4860-c27b-490870298509",
        "colab": {
          "base_uri": "https://localhost:8080/",
          "height": 186
        }
      },
      "outputs": [
        {
          "output_type": "error",
          "ename": "TypeError",
          "evalue": "ignored",
          "traceback": [
            "\u001b[0;31m---------------------------------------------------------------------------\u001b[0m",
            "\u001b[0;31mTypeError\u001b[0m                                 Traceback (most recent call last)",
            "\u001b[0;32m<ipython-input-21-12cb0ffb05ce>\u001b[0m in \u001b[0;36m<cell line: 2>\u001b[0;34m()\u001b[0m\n\u001b[1;32m      1\u001b[0m \u001b[0ma\u001b[0m\u001b[0;34m=\u001b[0m\u001b[0;34m'Rob'\u001b[0m\u001b[0;34m\u001b[0m\u001b[0;34m\u001b[0m\u001b[0m\n\u001b[0;32m----> 2\u001b[0;31m \u001b[0ma\u001b[0m\u001b[0;34m[\u001b[0m\u001b[0;36m1\u001b[0m\u001b[0;34m]\u001b[0m \u001b[0;34m=\u001b[0m \u001b[0;34m'u'\u001b[0m\u001b[0;34m\u001b[0m\u001b[0;34m\u001b[0m\u001b[0m\n\u001b[0m",
            "\u001b[0;31mTypeError\u001b[0m: 'str' object does not support item assignment"
          ]
        }
      ],
      "source": [
        "a='Rob'\n",
        "a[1] = 'u'"
      ]
    },
    {
      "cell_type": "code",
      "source": [
        "a.upper()"
      ],
      "metadata": {
        "colab": {
          "base_uri": "https://localhost:8080/",
          "height": 36
        },
        "id": "57_UPUf7b0iZ",
        "outputId": "eeced1dd-8969-4079-b127-5accf1d8d8f7"
      },
      "execution_count": null,
      "outputs": [
        {
          "output_type": "execute_result",
          "data": {
            "text/plain": [
              "'ROB'"
            ],
            "application/vnd.google.colaboratory.intrinsic+json": {
              "type": "string"
            }
          },
          "metadata": {},
          "execution_count": 13
        }
      ]
    },
    {
      "cell_type": "code",
      "source": [
        "a[1]= g"
      ],
      "metadata": {
        "colab": {
          "base_uri": "https://localhost:8080/",
          "height": 167
        },
        "id": "TOH41Kxt4BmJ",
        "outputId": "2fce6b0d-0d1c-45d1-e533-7a0b50079736"
      },
      "execution_count": null,
      "outputs": [
        {
          "output_type": "error",
          "ename": "NameError",
          "evalue": "ignored",
          "traceback": [
            "\u001b[0;31m---------------------------------------------------------------------------\u001b[0m",
            "\u001b[0;31mNameError\u001b[0m                                 Traceback (most recent call last)",
            "\u001b[0;32m<ipython-input-26-46f4704e60f0>\u001b[0m in \u001b[0;36m<cell line: 1>\u001b[0;34m()\u001b[0m\n\u001b[0;32m----> 1\u001b[0;31m \u001b[0ma\u001b[0m\u001b[0;34m[\u001b[0m\u001b[0;36m1\u001b[0m\u001b[0;34m]\u001b[0m\u001b[0;34m=\u001b[0m \u001b[0mg\u001b[0m\u001b[0;34m\u001b[0m\u001b[0;34m\u001b[0m\u001b[0m\n\u001b[0m",
            "\u001b[0;31mNameError\u001b[0m: name 'g' is not defined"
          ]
        }
      ]
    },
    {
      "cell_type": "code",
      "execution_count": null,
      "metadata": {
        "id": "_WQ4FRBZPYmD"
      },
      "outputs": [],
      "source": [
        "a='Rtb'"
      ]
    },
    {
      "cell_type": "code",
      "execution_count": null,
      "metadata": {
        "id": "gcPd9dLuPYmD",
        "outputId": "399573e4-6888-42a0-f568-a8a42789afe1"
      },
      "outputs": [
        {
          "name": "stdout",
          "output_type": "stream",
          "text": [
            "Rtb\n"
          ]
        }
      ],
      "source": [
        "print(a)"
      ]
    },
    {
      "cell_type": "markdown",
      "metadata": {
        "id": "-qPPlD1QPYmD"
      },
      "source": [
        "#### Concat"
      ]
    },
    {
      "cell_type": "code",
      "execution_count": null,
      "metadata": {
        "id": "GR10Y6QVPYmD",
        "outputId": "e63c36f4-0aec-4850-ad29-a2720583c57f",
        "colab": {
          "base_uri": "https://localhost:8080/"
        }
      },
      "outputs": [
        {
          "output_type": "stream",
          "name": "stdout",
          "text": [
            "ramverma\n",
            "ram verma\n"
          ]
        }
      ],
      "source": [
        "first_name = \"ram\"\n",
        "last_name = \"verma\"\n",
        "\n",
        "print(first_name + last_name)\n",
        "print(first_name + \" \"+last_name)"
      ]
    },
    {
      "cell_type": "markdown",
      "source": [
        "slicing"
      ],
      "metadata": {
        "id": "jR4vGIxy7Zlu"
      }
    },
    {
      "cell_type": "markdown",
      "metadata": {
        "id": "K4ES5wpMPYmE"
      },
      "source": [
        "#### Slicing\n",
        "##### string[start:end:step]"
      ]
    },
    {
      "cell_type": "code",
      "execution_count": null,
      "metadata": {
        "id": "ZG46kG_0PYmE"
      },
      "outputs": [],
      "source": [
        "string = \"hello world\"\n"
      ]
    },
    {
      "cell_type": "code",
      "source": [
        "string[4:8] #start , end-1"
      ],
      "metadata": {
        "colab": {
          "base_uri": "https://localhost:8080/",
          "height": 35
        },
        "id": "2Go285qjSFhb",
        "outputId": "8134b2b0-ba9a-4ef9-98ef-681ca6e60b9c"
      },
      "execution_count": null,
      "outputs": [
        {
          "output_type": "execute_result",
          "data": {
            "text/plain": [
              "'o wo'"
            ],
            "application/vnd.google.colaboratory.intrinsic+json": {
              "type": "string"
            }
          },
          "metadata": {},
          "execution_count": 14
        }
      ]
    },
    {
      "cell_type": "code",
      "execution_count": null,
      "metadata": {
        "id": "Q-sQc8LsPYmE"
      },
      "outputs": [],
      "source": [
        "string = 'Hello World'"
      ]
    },
    {
      "cell_type": "code",
      "execution_count": null,
      "metadata": {
        "colab": {
          "base_uri": "https://localhost:8080/",
          "height": 35
        },
        "id": "6mh9T8Y5PYmE",
        "outputId": "3e15b58b-597e-47e1-911c-fa97509988ea"
      },
      "outputs": [
        {
          "output_type": "execute_result",
          "data": {
            "text/plain": [
              "'Hell'"
            ],
            "application/vnd.google.colaboratory.intrinsic+json": {
              "type": "string"
            }
          },
          "metadata": {},
          "execution_count": 17
        }
      ],
      "source": [
        "string[0:4]  # start, end-1"
      ]
    },
    {
      "cell_type": "code",
      "execution_count": null,
      "metadata": {
        "id": "kK-Lqp3KPYmF"
      },
      "outputs": [],
      "source": []
    },
    {
      "cell_type": "code",
      "execution_count": null,
      "metadata": {
        "id": "Cak-ZZB8PYmF",
        "outputId": "93275865-63fc-4da3-946a-0bafd8e6b94a"
      },
      "outputs": [
        {
          "name": "stdout",
          "output_type": "stream",
          "text": [
            "Hello \n"
          ]
        }
      ],
      "source": [
        "string = 'Hello World'\n",
        "slice_string = string[0:6]\n",
        "print(slice_string)"
      ]
    },
    {
      "cell_type": "code",
      "execution_count": null,
      "metadata": {
        "id": "1UBdZzSWPYmF",
        "outputId": "1fb56365-cc55-4e69-9a34-69b65886c672"
      },
      "outputs": [
        {
          "name": "stdout",
          "output_type": "stream",
          "text": [
            "9 girls \n"
          ]
        }
      ],
      "source": [
        "class_students = \"9 girls 3 boys are in the class\"\n",
        "girls = class_students[:8]\n",
        "print(girls)"
      ]
    },
    {
      "cell_type": "code",
      "execution_count": null,
      "metadata": {
        "id": "UTXB9e_ZPYmF"
      },
      "outputs": [],
      "source": [
        "String = 'Raj! Did you attend the class today?'"
      ]
    },
    {
      "cell_type": "code",
      "execution_count": null,
      "metadata": {
        "id": "Ie_AqYFePYmF",
        "outputId": "3282d39b-7388-4006-9ceb-59f2068ac24d"
      },
      "outputs": [
        {
          "name": "stdout",
          "output_type": "stream",
          "text": [
            "Raj! Did you attend the class today?\n"
          ]
        }
      ],
      "source": [
        "print(String)"
      ]
    },
    {
      "cell_type": "code",
      "execution_count": null,
      "metadata": {
        "id": "_56vTfLTPYmG",
        "outputId": "e2e92d4a-f736-4bf5-da34-18b81656481f"
      },
      "outputs": [
        {
          "name": "stdout",
          "output_type": "stream",
          "text": [
            "True\n"
          ]
        }
      ],
      "source": [
        "print('Raj' in String)"
      ]
    },
    {
      "cell_type": "code",
      "execution_count": null,
      "metadata": {
        "id": "nqipnhm7PYmJ",
        "outputId": "487dcd95-00b5-4b97-9063-348df8eca7e7"
      },
      "outputs": [
        {
          "name": "stdout",
          "output_type": "stream",
          "text": [
            "False\n"
          ]
        }
      ],
      "source": [
        "print('John' in String)"
      ]
    },
    {
      "cell_type": "code",
      "execution_count": null,
      "metadata": {
        "id": "elaZomi3PYmK",
        "outputId": "587b3381-fd22-4d41-8acd-125d9e251177"
      },
      "outputs": [
        {
          "ename": "TypeError",
          "evalue": "unsupported operand type(s) for ** or pow(): 'str' and 'int'",
          "output_type": "error",
          "traceback": [
            "\u001b[1;31m---------------------------------------------------------------------------\u001b[0m",
            "\u001b[1;31mTypeError\u001b[0m                                 Traceback (most recent call last)",
            "\u001b[1;32m<ipython-input-67-9ceb43e26055>\u001b[0m in \u001b[0;36m<module>\u001b[1;34m\u001b[0m\n\u001b[0;32m      1\u001b[0m \u001b[0mString\u001b[0m \u001b[1;33m=\u001b[0m \u001b[1;34m'abcd'\u001b[0m\u001b[1;33m\u001b[0m\u001b[1;33m\u001b[0m\u001b[0m\n\u001b[1;32m----> 2\u001b[1;33m \u001b[0mprint\u001b[0m\u001b[1;33m(\u001b[0m\u001b[0mString\u001b[0m\u001b[1;33m**\u001b[0m\u001b[1;36m4\u001b[0m\u001b[1;33m)\u001b[0m\u001b[1;33m\u001b[0m\u001b[1;33m\u001b[0m\u001b[0m\n\u001b[0m",
            "\u001b[1;31mTypeError\u001b[0m: unsupported operand type(s) for ** or pow(): 'str' and 'int'"
          ]
        }
      ],
      "source": [
        "String = 'abcd'\n",
        "print(String**4)"
      ]
    },
    {
      "cell_type": "markdown",
      "metadata": {
        "id": "2iSSyWyIPYmK"
      },
      "source": [
        "#### String methods"
      ]
    },
    {
      "cell_type": "code",
      "execution_count": null,
      "metadata": {
        "id": "x-pA5XkMPYmK",
        "outputId": "facb3914-8868-4976-bcc7-c3caf6320e2a"
      },
      "outputs": [
        {
          "name": "stdout",
          "output_type": "stream",
          "text": [
            "i have a cat\n"
          ]
        }
      ],
      "source": [
        "# upper()\n",
        "text = 'i have a cat'\n",
        "print(text)"
      ]
    },
    {
      "cell_type": "code",
      "execution_count": null,
      "metadata": {
        "id": "eBoMfmwFPYmL",
        "outputId": "5ad057c1-8835-46a4-93ff-881e051b38e8"
      },
      "outputs": [
        {
          "name": "stdout",
          "output_type": "stream",
          "text": [
            "I HAVE A CAT\n"
          ]
        }
      ],
      "source": [
        "print(text.upper())"
      ]
    },
    {
      "cell_type": "code",
      "execution_count": null,
      "metadata": {
        "id": "-sGyTkfqPYmL",
        "outputId": "aa066dd7-c82b-4e24-fee3-a6d339d064df"
      },
      "outputs": [
        {
          "name": "stdout",
          "output_type": "stream",
          "text": [
            "i have a cat\n"
          ]
        }
      ],
      "source": [
        "# lower()\n",
        "text = 'I HaVe a CaT'\n",
        "print(text.lower())"
      ]
    },
    {
      "cell_type": "code",
      "execution_count": null,
      "metadata": {
        "id": "GJnUs1eDPYmL"
      },
      "outputs": [],
      "source": [
        "strip --> removes whitespaces"
      ]
    },
    {
      "cell_type": "code",
      "execution_count": null,
      "metadata": {
        "id": "n9EJOmc9PYmL",
        "outputId": "4ebc74cd-fdf9-488b-d16f-bb01f5a89a24"
      },
      "outputs": [
        {
          "name": "stdout",
          "output_type": "stream",
          "text": [
            "i have a cat                          \n",
            "i have a cat\n"
          ]
        }
      ],
      "source": [
        "# rstrip()\n",
        "text = 'i have a cat                          '\n",
        "print(text)\n",
        "print(text.rstrip())\n",
        "new_text = text.rstrip()"
      ]
    },
    {
      "cell_type": "code",
      "execution_count": null,
      "metadata": {
        "id": "uO_B3u64PYmM",
        "outputId": "4c8fb589-ee5c-4d9d-9e88-33e2b1f5d6eb"
      },
      "outputs": [
        {
          "data": {
            "text/plain": [
              "38"
            ]
          },
          "execution_count": 73,
          "metadata": {},
          "output_type": "execute_result"
        }
      ],
      "source": [
        "len(text)"
      ]
    },
    {
      "cell_type": "code",
      "execution_count": null,
      "metadata": {
        "id": "-hrVIrU-PYmM",
        "outputId": "44bd7965-41a6-458a-c257-29f3317fd657"
      },
      "outputs": [
        {
          "data": {
            "text/plain": [
              "12"
            ]
          },
          "execution_count": 74,
          "metadata": {},
          "output_type": "execute_result"
        }
      ],
      "source": [
        "len(new_text)"
      ]
    },
    {
      "cell_type": "code",
      "execution_count": null,
      "metadata": {
        "id": "ZU0jIXLrPYmM",
        "outputId": "961c5284-36b2-419c-b591-3f20ae942fe7"
      },
      "outputs": [
        {
          "name": "stdout",
          "output_type": "stream",
          "text": [
            "               i have a cat\n",
            "i have a cat\n"
          ]
        }
      ],
      "source": [
        "# lstrip()\n",
        "text = '               i have a cat'\n",
        "print(text)\n",
        "print(text.lstrip())\n",
        "\n",
        "new_text_lstrip = text.lstrip()"
      ]
    },
    {
      "cell_type": "code",
      "execution_count": null,
      "metadata": {
        "id": "YLFSzVdEPYmM",
        "outputId": "59af28e1-a5cf-4ba7-e5fa-4de328edbc3f"
      },
      "outputs": [
        {
          "name": "stdout",
          "output_type": "stream",
          "text": [
            "               i have a cat              \n",
            "i have a cat\n"
          ]
        }
      ],
      "source": [
        "# strip()\n",
        "text = '               i have a cat              '\n",
        "print(text)\n",
        "print(text.strip())"
      ]
    },
    {
      "cell_type": "code",
      "execution_count": null,
      "metadata": {
        "id": "49isPR9CPYmM",
        "outputId": "23ca361a-07e7-434c-fc7e-7105f3d731f0"
      },
      "outputs": [
        {
          "name": "stdout",
          "output_type": "stream",
          "text": [
            "***************4567890###############\n"
          ]
        }
      ],
      "source": [
        "# strip()\n",
        "text = '***************4567890###############'\n",
        "print(text)\n",
        "new_text = text.rstrip('#').lstrip('*')"
      ]
    },
    {
      "cell_type": "code",
      "execution_count": null,
      "metadata": {
        "id": "EWz09fb4PYmN",
        "outputId": "b1909b80-806d-4f79-c014-42243721a71e"
      },
      "outputs": [
        {
          "name": "stdout",
          "output_type": "stream",
          "text": [
            "4567890\n"
          ]
        }
      ],
      "source": [
        "print(new_text)"
      ]
    },
    {
      "cell_type": "code",
      "execution_count": null,
      "metadata": {
        "id": "9Vs2XMlpPYmN",
        "outputId": "88355ca3-df24-41fb-aab0-8d3777dc058d"
      },
      "outputs": [
        {
          "name": "stdout",
          "output_type": "stream",
          "text": [
            "3\n"
          ]
        }
      ],
      "source": [
        "# count()\n",
        "text = 'this is a sample sentence in this example'\n",
        "print(text.count('is'))"
      ]
    },
    {
      "cell_type": "code",
      "execution_count": null,
      "metadata": {
        "id": "uplWSjPEPYmO",
        "outputId": "be1ecc42-bbd5-41a8-f13c-d5ec15e86451"
      },
      "outputs": [
        {
          "name": "stdout",
          "output_type": "stream",
          "text": [
            "3\n"
          ]
        }
      ],
      "source": [
        "print(text.count('i', 5))"
      ]
    },
    {
      "cell_type": "code",
      "execution_count": null,
      "metadata": {
        "id": "Hmbcs35sPYmO"
      },
      "outputs": [],
      "source": [
        "A = 'Data'\n",
        "B = 'Analysis'"
      ]
    },
    {
      "cell_type": "code",
      "execution_count": null,
      "metadata": {
        "id": "HQFnR-tSPYmO",
        "outputId": "1e7c77cd-735f-4d63-f0d8-64094618d28e"
      },
      "outputs": [
        {
          "data": {
            "text/plain": [
              "'Python'"
            ]
          },
          "execution_count": 85,
          "metadata": {},
          "output_type": "execute_result"
        }
      ],
      "source": [
        "C"
      ]
    },
    {
      "cell_type": "code",
      "execution_count": null,
      "metadata": {
        "id": "v3lspUQ8PYmO",
        "outputId": "aa617660-ec86-40b8-9d07-a61790322f22"
      },
      "outputs": [
        {
          "name": "stdout",
          "output_type": "stream",
          "text": [
            "Let us learn Data Analysis using Python\n"
          ]
        }
      ],
      "source": [
        "A = 'Data'\n",
        "B = 'Analysis'\n",
        "C = 'Python'\n",
        "\n",
        "print('Let us learn ' + '{0} {1} using {2}'.format(A,B,C))"
      ]
    },
    {
      "cell_type": "markdown",
      "metadata": {
        "id": "j3jmZwRXPYmP"
      },
      "source": [
        "### Practice Question"
      ]
    },
    {
      "cell_type": "markdown",
      "metadata": {
        "id": "iqj2IGLvPYmP"
      },
      "source": [
        "#### Description\n",
        "\n",
        "In a certain encrypted message which has information about the location(area, city), the characters are jumbled such that first character of the first word is followed by the first character of the second word, then it is followed by second character of the first word and so on\n",
        "\n",
        "In other words, let’s say the location is bandra,mumbai\n",
        "\n",
        "The encrypted message says ‘bmaunmdbraai’.\n",
        "\n",
        "##### Sample Input:\n",
        "bmaunmdbraai\n",
        "##### Sample Output:\n",
        "bandra,mumbai\n",
        "\n",
        "Assume, both words are equal in length\n"
      ]
    },
    {
      "cell_type": "code",
      "execution_count": null,
      "metadata": {
        "id": "Oveg4BStPYmW",
        "outputId": "29eeed69-ca27-4057-a241-61abeceb06d0"
      },
      "outputs": [
        {
          "name": "stdout",
          "output_type": "stream",
          "text": [
            "bandra,mumbai\n"
          ]
        }
      ],
      "source": [
        "input_var = 'bmaunmdbraai'\n",
        "message1 = input_var[0::2]\n",
        "message2 = input_var[1::2]\n",
        "\n",
        "print(message1 + ',' + message2)"
      ]
    },
    {
      "cell_type": "code",
      "execution_count": null,
      "metadata": {
        "id": "a3K6Xe9aPYmX"
      },
      "outputs": [],
      "source": []
    }
  ],
  "metadata": {
    "kernelspec": {
      "display_name": "Python 3",
      "language": "python",
      "name": "python3"
    },
    "language_info": {
      "codemirror_mode": {
        "name": "ipython",
        "version": 3
      },
      "file_extension": ".py",
      "mimetype": "text/x-python",
      "name": "python",
      "nbconvert_exporter": "python",
      "pygments_lexer": "ipython3",
      "version": "3.7.3"
    },
    "colab": {
      "provenance": []
    }
  },
  "nbformat": 4,
  "nbformat_minor": 0
}