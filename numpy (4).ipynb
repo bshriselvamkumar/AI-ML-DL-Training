{
  "cells": [
    {
      "cell_type": "code",
      "execution_count": null,
      "metadata": {
        "colab": {
          "base_uri": "https://localhost:8080/"
        },
        "id": "0C1IEy5xknsz",
        "outputId": "ede5f173-bc6d-4e4e-f343-9ce7397dad80"
      },
      "outputs": [
        {
          "output_type": "stream",
          "name": "stdout",
          "text": [
            "1\n",
            "2\n",
            "3\n"
          ]
        }
      ],
      "source": [
        "#Numpy Array Basics\n",
        "# importing numpy #pip install numpy # conda install numpy\n",
        "import numpy as np  # numerical python\n",
        "#import array  #alias  #include<stdio.h> include <math.h>     [7,8.5,'sasi']  list , array , series ,dataframe\n",
        "\n",
        "# Defining 1D array  # scalar   #print()\n",
        "my1DArray = np.array([9,8,7,6]) # row , list  #1*4 series\n",
        "print(my1DArray.ndim)\n",
        "\n",
        "# Defining and printing 2D array #vector\n",
        "my2DArray = np.array([[1, 2, 3, 4], [2, 4, 9, 16], [4, 8, 18, 32]]) # 3* 4 = 1 matrix 300 *400 = one matrix\n",
        "print(my2DArray.ndim)\n",
        "\n",
        "#Defining and printing 3D array # matrix\n",
        "my3Darray = np.array([[[ 1, 2 , 3 , 4],[ 5 , 6 , 7  ,8]], [[ 1,  2,  3,  4],[ 9, 10, 11, 12]]]) #2*4,2 = 2 matrix\n",
        "print(my3Darray.ndim)\n",
        "\n"
      ]
    },
    {
      "cell_type": "code",
      "source": [
        "cv = my3Darray.ravel()\n",
        "cv"
      ],
      "metadata": {
        "colab": {
          "base_uri": "https://localhost:8080/"
        },
        "id": "XDSRV8Zks35p",
        "outputId": "b5e12bc4-6ec7-43d7-cfa3-c1e85effad62"
      },
      "execution_count": null,
      "outputs": [
        {
          "output_type": "execute_result",
          "data": {
            "text/plain": [
              "array([ 1,  2,  3,  4,  5,  6,  7,  8,  1,  2,  3,  4,  9, 10, 11, 12])"
            ]
          },
          "metadata": {},
          "execution_count": 29
        }
      ]
    },
    {
      "cell_type": "code",
      "source": [
        "my3Darray"
      ],
      "metadata": {
        "colab": {
          "base_uri": "https://localhost:8080/"
        },
        "id": "mgNTMUtCs-pg",
        "outputId": "1dc28fd5-df76-4dfb-ae82-97bf53f88e7f"
      },
      "execution_count": null,
      "outputs": [
        {
          "output_type": "execute_result",
          "data": {
            "text/plain": [
              "array([[[ 1,  2,  3,  4],\n",
              "        [ 5,  6,  7,  8]],\n",
              "\n",
              "       [[ 1,  2,  3,  4],\n",
              "        [ 9, 10, 11, 12]]])"
            ]
          },
          "metadata": {},
          "execution_count": 30
        }
      ]
    },
    {
      "cell_type": "code",
      "source": [
        "a = np.arange(5,100,5)\n",
        "a"
      ],
      "metadata": {
        "colab": {
          "base_uri": "https://localhost:8080/"
        },
        "id": "y8sXuXE1lobG",
        "outputId": "93fdb176-a269-490d-e025-ece900fc4bb3"
      },
      "execution_count": null,
      "outputs": [
        {
          "output_type": "execute_result",
          "data": {
            "text/plain": [
              "array([ 5, 10, 15, 20, 25, 30, 35, 40, 45, 50, 55, 60, 65, 70, 75, 80, 85,\n",
              "       90, 95])"
            ]
          },
          "metadata": {},
          "execution_count": 2
        }
      ]
    },
    {
      "cell_type": "code",
      "source": [
        "b = np.linspace(1,10,250)\n",
        "b"
      ],
      "metadata": {
        "colab": {
          "base_uri": "https://localhost:8080/"
        },
        "id": "BViaIFEVl0Ko",
        "outputId": "128095bf-ecc2-4c07-d64f-0de4ea5b500b"
      },
      "execution_count": null,
      "outputs": [
        {
          "output_type": "execute_result",
          "data": {
            "text/plain": [
              "array([ 1.        ,  1.03614458,  1.07228916,  1.10843373,  1.14457831,\n",
              "        1.18072289,  1.21686747,  1.25301205,  1.28915663,  1.3253012 ,\n",
              "        1.36144578,  1.39759036,  1.43373494,  1.46987952,  1.5060241 ,\n",
              "        1.54216867,  1.57831325,  1.61445783,  1.65060241,  1.68674699,\n",
              "        1.72289157,  1.75903614,  1.79518072,  1.8313253 ,  1.86746988,\n",
              "        1.90361446,  1.93975904,  1.97590361,  2.01204819,  2.04819277,\n",
              "        2.08433735,  2.12048193,  2.15662651,  2.19277108,  2.22891566,\n",
              "        2.26506024,  2.30120482,  2.3373494 ,  2.37349398,  2.40963855,\n",
              "        2.44578313,  2.48192771,  2.51807229,  2.55421687,  2.59036145,\n",
              "        2.62650602,  2.6626506 ,  2.69879518,  2.73493976,  2.77108434,\n",
              "        2.80722892,  2.84337349,  2.87951807,  2.91566265,  2.95180723,\n",
              "        2.98795181,  3.02409639,  3.06024096,  3.09638554,  3.13253012,\n",
              "        3.1686747 ,  3.20481928,  3.24096386,  3.27710843,  3.31325301,\n",
              "        3.34939759,  3.38554217,  3.42168675,  3.45783133,  3.4939759 ,\n",
              "        3.53012048,  3.56626506,  3.60240964,  3.63855422,  3.6746988 ,\n",
              "        3.71084337,  3.74698795,  3.78313253,  3.81927711,  3.85542169,\n",
              "        3.89156627,  3.92771084,  3.96385542,  4.        ,  4.03614458,\n",
              "        4.07228916,  4.10843373,  4.14457831,  4.18072289,  4.21686747,\n",
              "        4.25301205,  4.28915663,  4.3253012 ,  4.36144578,  4.39759036,\n",
              "        4.43373494,  4.46987952,  4.5060241 ,  4.54216867,  4.57831325,\n",
              "        4.61445783,  4.65060241,  4.68674699,  4.72289157,  4.75903614,\n",
              "        4.79518072,  4.8313253 ,  4.86746988,  4.90361446,  4.93975904,\n",
              "        4.97590361,  5.01204819,  5.04819277,  5.08433735,  5.12048193,\n",
              "        5.15662651,  5.19277108,  5.22891566,  5.26506024,  5.30120482,\n",
              "        5.3373494 ,  5.37349398,  5.40963855,  5.44578313,  5.48192771,\n",
              "        5.51807229,  5.55421687,  5.59036145,  5.62650602,  5.6626506 ,\n",
              "        5.69879518,  5.73493976,  5.77108434,  5.80722892,  5.84337349,\n",
              "        5.87951807,  5.91566265,  5.95180723,  5.98795181,  6.02409639,\n",
              "        6.06024096,  6.09638554,  6.13253012,  6.1686747 ,  6.20481928,\n",
              "        6.24096386,  6.27710843,  6.31325301,  6.34939759,  6.38554217,\n",
              "        6.42168675,  6.45783133,  6.4939759 ,  6.53012048,  6.56626506,\n",
              "        6.60240964,  6.63855422,  6.6746988 ,  6.71084337,  6.74698795,\n",
              "        6.78313253,  6.81927711,  6.85542169,  6.89156627,  6.92771084,\n",
              "        6.96385542,  7.        ,  7.03614458,  7.07228916,  7.10843373,\n",
              "        7.14457831,  7.18072289,  7.21686747,  7.25301205,  7.28915663,\n",
              "        7.3253012 ,  7.36144578,  7.39759036,  7.43373494,  7.46987952,\n",
              "        7.5060241 ,  7.54216867,  7.57831325,  7.61445783,  7.65060241,\n",
              "        7.68674699,  7.72289157,  7.75903614,  7.79518072,  7.8313253 ,\n",
              "        7.86746988,  7.90361446,  7.93975904,  7.97590361,  8.01204819,\n",
              "        8.04819277,  8.08433735,  8.12048193,  8.15662651,  8.19277108,\n",
              "        8.22891566,  8.26506024,  8.30120482,  8.3373494 ,  8.37349398,\n",
              "        8.40963855,  8.44578313,  8.48192771,  8.51807229,  8.55421687,\n",
              "        8.59036145,  8.62650602,  8.6626506 ,  8.69879518,  8.73493976,\n",
              "        8.77108434,  8.80722892,  8.84337349,  8.87951807,  8.91566265,\n",
              "        8.95180723,  8.98795181,  9.02409639,  9.06024096,  9.09638554,\n",
              "        9.13253012,  9.1686747 ,  9.20481928,  9.24096386,  9.27710843,\n",
              "        9.31325301,  9.34939759,  9.38554217,  9.42168675,  9.45783133,\n",
              "        9.4939759 ,  9.53012048,  9.56626506,  9.60240964,  9.63855422,\n",
              "        9.6746988 ,  9.71084337,  9.74698795,  9.78313253,  9.81927711,\n",
              "        9.85542169,  9.89156627,  9.92771084,  9.96385542, 10.        ])"
            ]
          },
          "metadata": {},
          "execution_count": 4
        }
      ]
    },
    {
      "cell_type": "code",
      "source": [
        "\n",
        " v = np.random.randint(256, size=(4, 7), dtype=np.int16)\n",
        " v"
      ],
      "metadata": {
        "colab": {
          "base_uri": "https://localhost:8080/"
        },
        "id": "TA6dvA3gtGeQ",
        "outputId": "44676ea9-705a-4091-a929-39ebf140be63"
      },
      "execution_count": null,
      "outputs": [
        {
          "output_type": "execute_result",
          "data": {
            "text/plain": [
              "array([[185, 157,  29,  78, 222, 121, 187],\n",
              "       [253, 185,  55, 177, 137, 240,  19],\n",
              "       [ 69, 232, 188, 158,  70, 241,  66],\n",
              "       [188,  61, 148,  10, 120,  60, 212]], dtype=int16)"
            ]
          },
          "metadata": {},
          "execution_count": 34
        }
      ]
    },
    {
      "cell_type": "code",
      "source": [
        "v[0:2,0:2] # start , end-1"
      ],
      "metadata": {
        "colab": {
          "base_uri": "https://localhost:8080/"
        },
        "id": "5MfO_cOauIRD",
        "outputId": "917d7100-f1cc-4231-8a20-f61f78736ce3"
      },
      "execution_count": null,
      "outputs": [
        {
          "output_type": "execute_result",
          "data": {
            "text/plain": [
              "array([[185, 157],\n",
              "       [253, 185]], dtype=int16)"
            ]
          },
          "metadata": {},
          "execution_count": 37
        }
      ]
    },
    {
      "cell_type": "code",
      "source": [
        "v[1:3,2:4]"
      ],
      "metadata": {
        "colab": {
          "base_uri": "https://localhost:8080/"
        },
        "id": "TO48XByCufDi",
        "outputId": "a5737c67-89d1-479a-e70c-8defde4972f0"
      },
      "execution_count": null,
      "outputs": [
        {
          "output_type": "execute_result",
          "data": {
            "text/plain": [
              "array([[ 55, 177],\n",
              "       [188, 158]], dtype=int16)"
            ]
          },
          "metadata": {},
          "execution_count": 39
        }
      ]
    },
    {
      "cell_type": "code",
      "source": [
        "e  = np.empty((3,2))\n",
        "e"
      ],
      "metadata": {
        "colab": {
          "base_uri": "https://localhost:8080/"
        },
        "id": "SQN-mcu5mawf",
        "outputId": "42c8d187-49ee-4f4d-f7cc-926ceebf8439"
      },
      "execution_count": null,
      "outputs": [
        {
          "output_type": "execute_result",
          "data": {
            "text/plain": [
              "array([[4.75277981e-310, 0.00000000e+000],\n",
              "       [6.61897606e-310, 6.61903928e-310],\n",
              "       [6.61897605e-310, 6.61903928e-310]])"
            ]
          },
          "metadata": {},
          "execution_count": 5
        }
      ]
    },
    {
      "cell_type": "code",
      "source": [
        "c = np.random.rand(5,7)\n",
        "c"
      ],
      "metadata": {
        "colab": {
          "base_uri": "https://localhost:8080/"
        },
        "id": "DaOevLcPpiIK",
        "outputId": "8e1f5adf-2f50-45a9-8467-71147c0320e4"
      },
      "execution_count": null,
      "outputs": [
        {
          "output_type": "execute_result",
          "data": {
            "text/plain": [
              "array([[0.33426575, 0.63238319, 0.45754158, 0.73345806, 0.38298316,\n",
              "        0.5685472 , 0.20070938],\n",
              "       [0.24764553, 0.86079052, 0.67075051, 0.03410221, 0.21065621,\n",
              "        0.52338463, 0.97992128],\n",
              "       [0.04233971, 0.81782292, 0.93367424, 0.83682234, 0.53208637,\n",
              "        0.71311977, 0.14844606],\n",
              "       [0.69078481, 0.9406113 , 0.92597449, 0.81699835, 0.47049945,\n",
              "        0.53726964, 0.51374983],\n",
              "       [0.02291184, 0.0406957 , 0.73830016, 0.45286213, 0.64874535,\n",
              "        0.66852979, 0.19030076]])"
            ]
          },
          "metadata": {},
          "execution_count": 6
        }
      ]
    },
    {
      "cell_type": "code",
      "source": [
        "c.ndim"
      ],
      "metadata": {
        "colab": {
          "base_uri": "https://localhost:8080/"
        },
        "id": "xZcVR5s3pyE2",
        "outputId": "2aa873f8-95ce-420d-bc8a-6bb4b8f1ebb0"
      },
      "execution_count": null,
      "outputs": [
        {
          "output_type": "execute_result",
          "data": {
            "text/plain": [
              "2"
            ]
          },
          "metadata": {},
          "execution_count": 8
        }
      ]
    },
    {
      "cell_type": "code",
      "source": [
        "c.shape"
      ],
      "metadata": {
        "colab": {
          "base_uri": "https://localhost:8080/"
        },
        "id": "ARgMsXAlqOTG",
        "outputId": "5de17ad4-ece5-41ad-8c26-611d2c52b32c"
      },
      "execution_count": null,
      "outputs": [
        {
          "output_type": "execute_result",
          "data": {
            "text/plain": [
              "(5, 7)"
            ]
          },
          "metadata": {},
          "execution_count": 9
        }
      ]
    },
    {
      "cell_type": "code",
      "source": [
        "c.size"
      ],
      "metadata": {
        "colab": {
          "base_uri": "https://localhost:8080/"
        },
        "id": "dDj4oSomqwyo",
        "outputId": "9fbc2b6e-2b8f-41f9-8bf2-4decfc0744f8"
      },
      "execution_count": null,
      "outputs": [
        {
          "output_type": "execute_result",
          "data": {
            "text/plain": [
              "35"
            ]
          },
          "metadata": {},
          "execution_count": 10
        }
      ]
    },
    {
      "cell_type": "code",
      "source": [
        "c.dtype"
      ],
      "metadata": {
        "colab": {
          "base_uri": "https://localhost:8080/"
        },
        "id": "hohFdd0Uq8Jg",
        "outputId": "f283c57d-4c7e-40b2-af5e-c73cf059a508"
      },
      "execution_count": null,
      "outputs": [
        {
          "output_type": "execute_result",
          "data": {
            "text/plain": [
              "dtype('float64')"
            ]
          },
          "metadata": {},
          "execution_count": 11
        }
      ]
    },
    {
      "cell_type": "code",
      "source": [
        "c.itemsize"
      ],
      "metadata": {
        "colab": {
          "base_uri": "https://localhost:8080/"
        },
        "id": "-yAURx1JrQWz",
        "outputId": "86ae5bbe-4739-4dff-cbb9-909cf33f0b51"
      },
      "execution_count": null,
      "outputs": [
        {
          "output_type": "execute_result",
          "data": {
            "text/plain": [
              "8"
            ]
          },
          "metadata": {},
          "execution_count": 12
        }
      ]
    },
    {
      "cell_type": "code",
      "source": [
        "d = c.reshape(1,35)  # 1 *35, 35 *1 , 7 *5 , 5 *7"
      ],
      "metadata": {
        "id": "NKQfQ0AprUR_"
      },
      "execution_count": null,
      "outputs": []
    },
    {
      "cell_type": "code",
      "source": [
        "d.ndim"
      ],
      "metadata": {
        "colab": {
          "base_uri": "https://localhost:8080/"
        },
        "id": "kREQyknfrz7-",
        "outputId": "573a3cba-608d-4d08-f90c-f19225e91bf1"
      },
      "execution_count": null,
      "outputs": [
        {
          "output_type": "execute_result",
          "data": {
            "text/plain": [
              "2"
            ]
          },
          "metadata": {},
          "execution_count": 19
        }
      ]
    },
    {
      "cell_type": "code",
      "source": [
        "t = np.empty((10,3))\n",
        "t.ndim"
      ],
      "metadata": {
        "colab": {
          "base_uri": "https://localhost:8080/"
        },
        "id": "LH7MbjQMr7LS",
        "outputId": "c511aa98-9598-4328-893b-24a467529aa2"
      },
      "execution_count": null,
      "outputs": [
        {
          "output_type": "execute_result",
          "data": {
            "text/plain": [
              "2"
            ]
          },
          "metadata": {},
          "execution_count": 24
        }
      ]
    },
    {
      "cell_type": "code",
      "source": [
        "t"
      ],
      "metadata": {
        "colab": {
          "base_uri": "https://localhost:8080/"
        },
        "id": "NLIV3jCespgL",
        "outputId": "206d864c-01f3-435f-be30-40743b2cc55c"
      },
      "execution_count": null,
      "outputs": [
        {
          "output_type": "execute_result",
          "data": {
            "text/plain": [
              "array([[4.75277983e-310, 0.00000000e+000, 0.00000000e+000],\n",
              "       [2.71597376e-237, 0.00000000e+000, 0.00000000e+000],\n",
              "       [3.41358806e-046, 0.00000000e+000, 0.00000000e+000],\n",
              "       [8.11465590e-023, 0.00000000e+000, 0.00000000e+000],\n",
              "       [2.71597376e-237, 0.00000000e+000, 0.00000000e+000],\n",
              "       [3.41358806e-046, 0.00000000e+000, 0.00000000e+000],\n",
              "       [8.11465590e-023, 0.00000000e+000, 0.00000000e+000],\n",
              "       [2.71597376e-237, 0.00000000e+000, 0.00000000e+000],\n",
              "       [3.41358806e-046, 0.00000000e+000, 0.00000000e+000],\n",
              "       [8.11465590e-023, 6.61903924e-310, 6.61903239e-310]])"
            ]
          },
          "metadata": {},
          "execution_count": 27
        }
      ]
    },
    {
      "cell_type": "code",
      "source": [
        "r"
      ],
      "metadata": {
        "colab": {
          "base_uri": "https://localhost:8080/"
        },
        "id": "AHPWQbcrstEL",
        "outputId": "67b942bf-c500-44d6-8a06-963d41aaa724"
      },
      "execution_count": null,
      "outputs": [
        {
          "output_type": "execute_result",
          "data": {
            "text/plain": [
              "array([4.75277983e-310, 0.00000000e+000, 0.00000000e+000, 2.71597376e-237,\n",
              "       0.00000000e+000, 0.00000000e+000, 3.41358806e-046, 0.00000000e+000,\n",
              "       0.00000000e+000, 8.11465590e-023, 0.00000000e+000, 0.00000000e+000,\n",
              "       2.71597376e-237, 0.00000000e+000, 0.00000000e+000, 3.41358806e-046,\n",
              "       0.00000000e+000, 0.00000000e+000, 8.11465590e-023, 0.00000000e+000,\n",
              "       0.00000000e+000, 2.71597376e-237, 0.00000000e+000, 0.00000000e+000,\n",
              "       3.41358806e-046, 0.00000000e+000, 0.00000000e+000, 8.11465590e-023,\n",
              "       6.61903924e-310, 6.61903239e-310])"
            ]
          },
          "metadata": {},
          "execution_count": 28
        }
      ]
    },
    {
      "cell_type": "code",
      "source": [
        "r = t.flatten()\n",
        "r.ndim"
      ],
      "metadata": {
        "colab": {
          "base_uri": "https://localhost:8080/"
        },
        "id": "hbpv3zv9sfBH",
        "outputId": "0682809d-d091-493c-d158-22a8d526282d"
      },
      "execution_count": null,
      "outputs": [
        {
          "output_type": "execute_result",
          "data": {
            "text/plain": [
              "1"
            ]
          },
          "metadata": {},
          "execution_count": 26
        }
      ]
    },
    {
      "cell_type": "code",
      "source": [
        "a = np.array([6,7.6,8,9,6,4,0,'jgjh',True])\n",
        "type(a)"
      ],
      "metadata": {
        "colab": {
          "base_uri": "https://localhost:8080/"
        },
        "id": "9Cq6fbIVp3jN",
        "outputId": "46dd713f-16a2-466d-8aa8-a37d0936005c"
      },
      "execution_count": null,
      "outputs": [
        {
          "output_type": "execute_result",
          "data": {
            "text/plain": [
              "numpy.ndarray"
            ]
          },
          "metadata": {},
          "execution_count": 9
        }
      ]
    },
    {
      "cell_type": "code",
      "source": [
        "a.ndim"
      ],
      "metadata": {
        "colab": {
          "base_uri": "https://localhost:8080/"
        },
        "id": "4tueuXgWr_CD",
        "outputId": "f388214a-e040-4cc9-be6e-51d1bc1f65d2"
      },
      "execution_count": null,
      "outputs": [
        {
          "output_type": "execute_result",
          "data": {
            "text/plain": [
              "1"
            ]
          },
          "metadata": {},
          "execution_count": 8
        }
      ]
    },
    {
      "cell_type": "code",
      "source": [
        "my2DArray.ndim  # vector"
      ],
      "metadata": {
        "colab": {
          "base_uri": "https://localhost:8080/"
        },
        "id": "JAgS1MmsZpp3",
        "outputId": "e0ab42d9-40c3-4fce-ce38-1e35fd5b9cf9"
      },
      "execution_count": null,
      "outputs": [
        {
          "output_type": "execute_result",
          "data": {
            "text/plain": [
              "2"
            ]
          },
          "metadata": {},
          "execution_count": 2
        }
      ]
    },
    {
      "cell_type": "code",
      "source": [
        "a = [6]\n",
        "s = np.array(a)"
      ],
      "metadata": {
        "id": "7Qkv_FngaEzc"
      },
      "execution_count": null,
      "outputs": []
    },
    {
      "cell_type": "code",
      "source": [
        "s.ndim # scalar = 1 dim , vector = 2 dim , matrix 3 dim , tensor = multi 7d"
      ],
      "metadata": {
        "colab": {
          "base_uri": "https://localhost:8080/"
        },
        "id": "_2dUB6jgaNIW",
        "outputId": "2c01ee7f-58b6-4f6e-df8d-a6b43612a1ea"
      },
      "execution_count": null,
      "outputs": [
        {
          "output_type": "execute_result",
          "data": {
            "text/plain": [
              "1"
            ]
          },
          "metadata": {},
          "execution_count": 8
        }
      ]
    },
    {
      "cell_type": "markdown",
      "source": [
        "[7,8.0,9.7]  array ;  series ; 1 row;  record"
      ],
      "metadata": {
        "id": "zU-sPTaQbmJg"
      }
    },
    {
      "cell_type": "code",
      "source": [
        "my2DArray.ndim"
      ],
      "metadata": {
        "colab": {
          "base_uri": "https://localhost:8080/"
        },
        "id": "GqaFDFhRIsbY",
        "outputId": "eaa186ef-c907-4d87-ebdd-60d551418a40"
      },
      "execution_count": null,
      "outputs": [
        {
          "output_type": "execute_result",
          "data": {
            "text/plain": [
              "2"
            ]
          },
          "metadata": {},
          "execution_count": 2
        }
      ]
    },
    {
      "cell_type": "code",
      "source": [
        "my2DArray.shape"
      ],
      "metadata": {
        "colab": {
          "base_uri": "https://localhost:8080/"
        },
        "id": "9ku0sdeJK3vC",
        "outputId": "9cdb4364-0669-4b29-e188-278c529b7fa2"
      },
      "execution_count": null,
      "outputs": [
        {
          "output_type": "execute_result",
          "data": {
            "text/plain": [
              "(3, 4)"
            ]
          },
          "metadata": {},
          "execution_count": 4
        }
      ]
    },
    {
      "cell_type": "code",
      "source": [
        "my1DArray.shape #(4,)   #.reshape"
      ],
      "metadata": {
        "colab": {
          "base_uri": "https://localhost:8080/"
        },
        "id": "cqXb4Jj1RobC",
        "outputId": "7b0381c8-b975-4492-f829-562339d0b8d2"
      },
      "execution_count": null,
      "outputs": [
        {
          "output_type": "execute_result",
          "data": {
            "text/plain": [
              "(4,)"
            ]
          },
          "metadata": {},
          "execution_count": 5
        }
      ]
    },
    {
      "cell_type": "code",
      "source": [
        "a = [1,6,7.6,\"sdas\",\"jhgjg\"]"
      ],
      "metadata": {
        "id": "DTRExD9HLQpU"
      },
      "execution_count": null,
      "outputs": []
    },
    {
      "cell_type": "code",
      "source": [
        "s = np.array([5,7,9,9,5,6,4,7,9,8,7,6])\n",
        "for i in s:\n",
        " print(i*7)"
      ],
      "metadata": {
        "colab": {
          "base_uri": "https://localhost:8080/"
        },
        "id": "ssF-NtR29Kx2",
        "outputId": "0dffee2d-209e-4f25-cdae-854855214cb7"
      },
      "execution_count": null,
      "outputs": [
        {
          "output_type": "stream",
          "name": "stdout",
          "text": [
            "35\n",
            "49\n",
            "63\n",
            "63\n",
            "35\n",
            "42\n",
            "28\n",
            "49\n",
            "63\n",
            "56\n",
            "49\n",
            "42\n"
          ]
        }
      ]
    },
    {
      "cell_type": "code",
      "source": [
        "ss = np.array([5,7,9])\n",
        "vv = np.array([8,9,7])\n",
        "yy = np.array([8,7,6])"
      ],
      "metadata": {
        "id": "LWZfnBLF_AjD"
      },
      "execution_count": null,
      "outputs": []
    },
    {
      "cell_type": "code",
      "source": [
        "type(ss)"
      ],
      "metadata": {
        "colab": {
          "base_uri": "https://localhost:8080/"
        },
        "id": "EAwd1OdGiroT",
        "outputId": "4674d251-b885-49b9-e62a-a438253c5afd"
      },
      "execution_count": null,
      "outputs": [
        {
          "output_type": "execute_result",
          "data": {
            "text/plain": [
              "numpy.ndarray"
            ]
          },
          "metadata": {},
          "execution_count": 4
        }
      ]
    },
    {
      "cell_type": "code",
      "source": [
        "ss.shape"
      ],
      "metadata": {
        "colab": {
          "base_uri": "https://localhost:8080/"
        },
        "id": "rRKHoeo4ivHO",
        "outputId": "effeff03-aedc-4c9d-dba3-d94e18fb215d"
      },
      "execution_count": null,
      "outputs": [
        {
          "output_type": "execute_result",
          "data": {
            "text/plain": [
              "(3,)"
            ]
          },
          "metadata": {},
          "execution_count": 5
        }
      ]
    },
    {
      "cell_type": "code",
      "source": [
        "ss.reshape(3,12)"
      ],
      "metadata": {
        "colab": {
          "base_uri": "https://localhost:8080/"
        },
        "id": "LvlnvHLQi2Fx",
        "outputId": "ea720ad3-11fb-4ffd-f377-f5be6f4799c2"
      },
      "execution_count": null,
      "outputs": [
        {
          "output_type": "execute_result",
          "data": {
            "text/plain": [
              "array([[5],\n",
              "       [7],\n",
              "       [9]])"
            ]
          },
          "metadata": {},
          "execution_count": 26
        }
      ]
    },
    {
      "cell_type": "code",
      "source": [
        "c = np.concatenate((ss,vv,yy))"
      ],
      "metadata": {
        "id": "WCwxF5jD_VdV"
      },
      "execution_count": null,
      "outputs": []
    },
    {
      "cell_type": "code",
      "source": [
        "c"
      ],
      "metadata": {
        "colab": {
          "base_uri": "https://localhost:8080/"
        },
        "id": "vWjx6XUmiJsT",
        "outputId": "3c2630bb-44f7-460b-c18c-be622da1d930"
      },
      "execution_count": null,
      "outputs": [
        {
          "output_type": "execute_result",
          "data": {
            "text/plain": [
              "array([5, 7, 9, 8, 9, 7, 8, 7, 6])"
            ]
          },
          "metadata": {},
          "execution_count": 13
        }
      ]
    },
    {
      "cell_type": "code",
      "source": [
        "c.ndim"
      ],
      "metadata": {
        "colab": {
          "base_uri": "https://localhost:8080/"
        },
        "id": "CmOjET9GhQBB",
        "outputId": "7c694393-cecc-4104-efc7-0a008bc4c039"
      },
      "execution_count": null,
      "outputs": [
        {
          "output_type": "execute_result",
          "data": {
            "text/plain": [
              "1"
            ]
          },
          "metadata": {},
          "execution_count": 14
        }
      ]
    },
    {
      "cell_type": "code",
      "source": [
        "d = np.vstack((ss,vv,yy))"
      ],
      "metadata": {
        "id": "HgBtyXaqvg7M"
      },
      "execution_count": null,
      "outputs": []
    },
    {
      "cell_type": "code",
      "source": [
        "d"
      ],
      "metadata": {
        "colab": {
          "base_uri": "https://localhost:8080/"
        },
        "id": "4bBiaGHAh7nt",
        "outputId": "b5503567-3041-485b-9b9e-5cee7406677a"
      },
      "execution_count": null,
      "outputs": [
        {
          "output_type": "execute_result",
          "data": {
            "text/plain": [
              "array([[5, 7, 9],\n",
              "       [8, 9, 7],\n",
              "       [8, 7, 6]])"
            ]
          },
          "metadata": {},
          "execution_count": 16
        }
      ]
    },
    {
      "cell_type": "code",
      "source": [
        "d.ndim"
      ],
      "metadata": {
        "colab": {
          "base_uri": "https://localhost:8080/"
        },
        "id": "SA0n5B2CvbpZ",
        "outputId": "8a334c78-6951-4f96-d55f-4774e22a82e7"
      },
      "execution_count": null,
      "outputs": [
        {
          "output_type": "execute_result",
          "data": {
            "text/plain": [
              "2"
            ]
          },
          "metadata": {},
          "execution_count": 17
        }
      ]
    },
    {
      "cell_type": "code",
      "source": [
        "u = np.array_split(c,5)"
      ],
      "metadata": {
        "id": "CeCM2Kpu_puL"
      },
      "execution_count": null,
      "outputs": []
    },
    {
      "cell_type": "code",
      "source": [
        "u"
      ],
      "metadata": {
        "colab": {
          "base_uri": "https://localhost:8080/"
        },
        "id": "HcEOWc3E_8Yl",
        "outputId": "aca5070b-ef66-4a1c-e39a-ee25ac81a29f"
      },
      "execution_count": null,
      "outputs": [
        {
          "output_type": "execute_result",
          "data": {
            "text/plain": [
              "[array([5, 7]), array([9]), array([8]), array([9]), array([7])]"
            ]
          },
          "metadata": {},
          "execution_count": 29
        }
      ]
    },
    {
      "cell_type": "code",
      "source": [
        "s.reshape(4,3)"
      ],
      "metadata": {
        "colab": {
          "base_uri": "https://localhost:8080/"
        },
        "id": "07NjlfUW9cKo",
        "outputId": "36259364-0ac3-4301-fe63-70127d060cbc"
      },
      "execution_count": null,
      "outputs": [
        {
          "output_type": "execute_result",
          "data": {
            "text/plain": [
              "array([[5, 7, 9],\n",
              "       [9, 5, 6],\n",
              "       [4, 7, 9],\n",
              "       [8, 7, 6]])"
            ]
          },
          "metadata": {},
          "execution_count": 15
        }
      ]
    },
    {
      "cell_type": "code",
      "source": [
        "b = np.where (u == 7)"
      ],
      "metadata": {
        "id": "LjllF9YYAVOi"
      },
      "execution_count": null,
      "outputs": []
    },
    {
      "cell_type": "code",
      "source": [
        "b"
      ],
      "metadata": {
        "colab": {
          "base_uri": "https://localhost:8080/"
        },
        "id": "NVowKx4kLmwI",
        "outputId": "e5047c59-e2a6-4d33-c7f9-283679eb76fc"
      },
      "execution_count": null,
      "outputs": [
        {
          "output_type": "execute_result",
          "data": {
            "text/plain": [
              "(array([], dtype=int64),)"
            ]
          },
          "metadata": {},
          "execution_count": 31
        }
      ]
    },
    {
      "cell_type": "code",
      "source": [
        "import numpy as np"
      ],
      "metadata": {
        "id": "Y95QhFSmmqmF"
      },
      "execution_count": null,
      "outputs": []
    },
    {
      "cell_type": "code",
      "source": [
        "zeros1 = np.zeros((2,4,5))"
      ],
      "metadata": {
        "id": "0PaV_ihWmgpP"
      },
      "execution_count": null,
      "outputs": []
    },
    {
      "cell_type": "code",
      "source": [
        "zeros1"
      ],
      "metadata": {
        "colab": {
          "base_uri": "https://localhost:8080/"
        },
        "id": "RURvvBh2m4jl",
        "outputId": "5f72b9ab-528a-49e3-b898-10f802e27724"
      },
      "execution_count": null,
      "outputs": [
        {
          "output_type": "execute_result",
          "data": {
            "text/plain": [
              "array([[[0., 0., 0., 0., 0.],\n",
              "        [0., 0., 0., 0., 0.],\n",
              "        [0., 0., 0., 0., 0.],\n",
              "        [0., 0., 0., 0., 0.]],\n",
              "\n",
              "       [[0., 0., 0., 0., 0.],\n",
              "        [0., 0., 0., 0., 0.],\n",
              "        [0., 0., 0., 0., 0.],\n",
              "        [0., 0., 0., 0., 0.]]])"
            ]
          },
          "metadata": {},
          "execution_count": 6
        }
      ]
    },
    {
      "cell_type": "code",
      "source": [
        "a.ndim"
      ],
      "metadata": {
        "id": "fCmJ_exQRur4",
        "colab": {
          "base_uri": "https://localhost:8080/",
          "height": 167
        },
        "outputId": "ec4014b2-61d7-4262-aede-bd988f0b932a"
      },
      "execution_count": null,
      "outputs": [
        {
          "output_type": "error",
          "ename": "AttributeError",
          "evalue": "ignored",
          "traceback": [
            "\u001b[0;31m---------------------------------------------------------------------------\u001b[0m",
            "\u001b[0;31mAttributeError\u001b[0m                            Traceback (most recent call last)",
            "\u001b[0;32m<ipython-input-7-2cb81154a11f>\u001b[0m in \u001b[0;36m<cell line: 1>\u001b[0;34m()\u001b[0m\n\u001b[0;32m----> 1\u001b[0;31m \u001b[0ma\u001b[0m\u001b[0;34m.\u001b[0m\u001b[0mndim\u001b[0m\u001b[0;34m\u001b[0m\u001b[0;34m\u001b[0m\u001b[0m\n\u001b[0m",
            "\u001b[0;31mAttributeError\u001b[0m: 'list' object has no attribute 'ndim'"
          ]
        }
      ]
    },
    {
      "cell_type": "code",
      "source": [
        "b = np.array(a)"
      ],
      "metadata": {
        "id": "1yTwaSUMLast"
      },
      "execution_count": null,
      "outputs": []
    },
    {
      "cell_type": "code",
      "source": [
        "b.ndim    # []"
      ],
      "metadata": {
        "colab": {
          "base_uri": "https://localhost:8080/"
        },
        "id": "0uzW34J_LjfO",
        "outputId": "0955d6a8-46ce-4f20-d12c-00fae0493c40"
      },
      "execution_count": null,
      "outputs": [
        {
          "output_type": "execute_result",
          "data": {
            "text/plain": [
              "1"
            ]
          },
          "metadata": {},
          "execution_count": 29
        }
      ]
    },
    {
      "cell_type": "code",
      "source": [
        "b.dtype"
      ],
      "metadata": {
        "colab": {
          "base_uri": "https://localhost:8080/"
        },
        "id": "C4qwG4-NMGsU",
        "outputId": "1f1d7cf6-213f-4991-df95-20bc98165219"
      },
      "execution_count": null,
      "outputs": [
        {
          "output_type": "execute_result",
          "data": {
            "text/plain": [
              "dtype('<U32')"
            ]
          },
          "metadata": {},
          "execution_count": 30
        }
      ]
    },
    {
      "cell_type": "code",
      "source": [
        "s = [4,5,'sa'] #series , list , array"
      ],
      "metadata": {
        "id": "pDUr7aTYDKuf"
      },
      "execution_count": null,
      "outputs": []
    },
    {
      "cell_type": "code",
      "source": [
        "type(s)"
      ],
      "metadata": {
        "colab": {
          "base_uri": "https://localhost:8080/"
        },
        "id": "66_DoOP0DK0-",
        "outputId": "8abf23c1-1544-4e80-abf0-e43e8af1d561"
      },
      "execution_count": null,
      "outputs": [
        {
          "output_type": "execute_result",
          "data": {
            "text/plain": [
              "list"
            ]
          },
          "metadata": {},
          "execution_count": 3
        }
      ]
    },
    {
      "cell_type": "code",
      "source": [
        " v = np.array(s)"
      ],
      "metadata": {
        "id": "nikIOMuWDTly"
      },
      "execution_count": null,
      "outputs": []
    },
    {
      "cell_type": "code",
      "source": [
        "type(v)"
      ],
      "metadata": {
        "colab": {
          "base_uri": "https://localhost:8080/"
        },
        "id": "SLo1QtF3DYjn",
        "outputId": "d76d5e1d-4d6b-4283-ac31-28f873607de5"
      },
      "execution_count": null,
      "outputs": [
        {
          "output_type": "execute_result",
          "data": {
            "text/plain": [
              "numpy.ndarray"
            ]
          },
          "metadata": {},
          "execution_count": 5
        }
      ]
    },
    {
      "cell_type": "code",
      "execution_count": null,
      "metadata": {
        "colab": {
          "base_uri": "https://localhost:8080/"
        },
        "id": "W8TTFolDk_kn",
        "outputId": "aa6d2566-4950-4e97-ddcd-91eda39ae672"
      },
      "outputs": [
        {
          "output_type": "stream",
          "name": "stdout",
          "text": [
            "<memory at 0x7f713267b380>\n",
            "[[ 1  2  3  4]\n",
            " [ 2  4  9 16]\n",
            " [ 4  8 18 32]]\n",
            "(3, 4)\n",
            "int64\n"
          ]
        }
      ],
      "source": [
        "# Print out memory address\n",
        "print(my2DArray.data)\n",
        "print(my2DArray)\n",
        "\n",
        "# Print the shape of array\n",
        "print(my2DArray.shape)\n",
        "\n",
        "# Print out the data type of the array\n",
        "print(my2DArray.dtype)\n"
      ]
    },
    {
      "cell_type": "code",
      "source": [
        "s1 =np.random.random((2,4,5))"
      ],
      "metadata": {
        "id": "ZpjDZBJlqr6f"
      },
      "execution_count": null,
      "outputs": []
    },
    {
      "cell_type": "code",
      "source": [
        "s1"
      ],
      "metadata": {
        "colab": {
          "base_uri": "https://localhost:8080/"
        },
        "id": "i9SGqqvwqwrQ",
        "outputId": "b112f824-95cb-4bed-e253-ffc2183f3c81"
      },
      "execution_count": null,
      "outputs": [
        {
          "output_type": "execute_result",
          "data": {
            "text/plain": [
              "array([[[0.50067679, 0.28794721, 0.39911225, 0.84141237, 0.7416266 ],\n",
              "        [0.23374673, 0.40213509, 0.86035117, 0.20188524, 0.9879639 ],\n",
              "        [0.97984607, 0.92656542, 0.35068385, 0.8236853 , 0.34768771],\n",
              "        [0.96195113, 0.24683416, 0.79529732, 0.53609071, 0.43265814]],\n",
              "\n",
              "       [[0.13166902, 0.25075013, 0.96403689, 0.68774745, 0.68196857],\n",
              "        [0.00179764, 0.52139818, 0.43788341, 0.53573047, 0.41488388],\n",
              "        [0.3298231 , 0.88994239, 0.73135779, 0.87543662, 0.8684881 ],\n",
              "        [0.44863561, 0.13301629, 0.92036444, 0.31390681, 0.45653721]]])"
            ]
          },
          "metadata": {},
          "execution_count": 8
        }
      ]
    },
    {
      "cell_type": "code",
      "source": [
        "emptyArray = np.empty((3,2))"
      ],
      "metadata": {
        "id": "hh_Mnl4dQorD"
      },
      "execution_count": null,
      "outputs": []
    },
    {
      "cell_type": "code",
      "source": [
        "emptyArray"
      ],
      "metadata": {
        "colab": {
          "base_uri": "https://localhost:8080/"
        },
        "id": "Ivhad9aGQtQf",
        "outputId": "c5814917-e0df-4c34-b7d5-030caacc13a5"
      },
      "execution_count": null,
      "outputs": [
        {
          "output_type": "execute_result",
          "data": {
            "text/plain": [
              "array([[5.03713268e-310, 0.00000000e+000],\n",
              "       [4.59237527e-072, 3.30146360e-258],\n",
              "       [7.29543846e+175, 2.20892684e+161]])"
            ]
          },
          "metadata": {},
          "execution_count": 10
        }
      ]
    },
    {
      "cell_type": "code",
      "source": [
        "from google.colab import files\n",
        "data = files.upload()"
      ],
      "metadata": {
        "colab": {
          "base_uri": "https://localhost:8080/",
          "height": 73
        },
        "id": "071IwASLyc-E",
        "outputId": "85f5ebbb-af5c-4e01-de78-522f1a167645"
      },
      "execution_count": null,
      "outputs": [
        {
          "output_type": "display_data",
          "data": {
            "text/plain": [
              "<IPython.core.display.HTML object>"
            ],
            "text/html": [
              "\n",
              "     <input type=\"file\" id=\"files-193f8bde-3229-4329-8c70-74a03ff52d33\" name=\"files[]\" multiple disabled\n",
              "        style=\"border:none\" />\n",
              "     <output id=\"result-193f8bde-3229-4329-8c70-74a03ff52d33\">\n",
              "      Upload widget is only available when the cell has been executed in the\n",
              "      current browser session. Please rerun this cell to enable.\n",
              "      </output>\n",
              "      <script>// Copyright 2017 Google LLC\n",
              "//\n",
              "// Licensed under the Apache License, Version 2.0 (the \"License\");\n",
              "// you may not use this file except in compliance with the License.\n",
              "// You may obtain a copy of the License at\n",
              "//\n",
              "//      http://www.apache.org/licenses/LICENSE-2.0\n",
              "//\n",
              "// Unless required by applicable law or agreed to in writing, software\n",
              "// distributed under the License is distributed on an \"AS IS\" BASIS,\n",
              "// WITHOUT WARRANTIES OR CONDITIONS OF ANY KIND, either express or implied.\n",
              "// See the License for the specific language governing permissions and\n",
              "// limitations under the License.\n",
              "\n",
              "/**\n",
              " * @fileoverview Helpers for google.colab Python module.\n",
              " */\n",
              "(function(scope) {\n",
              "function span(text, styleAttributes = {}) {\n",
              "  const element = document.createElement('span');\n",
              "  element.textContent = text;\n",
              "  for (const key of Object.keys(styleAttributes)) {\n",
              "    element.style[key] = styleAttributes[key];\n",
              "  }\n",
              "  return element;\n",
              "}\n",
              "\n",
              "// Max number of bytes which will be uploaded at a time.\n",
              "const MAX_PAYLOAD_SIZE = 100 * 1024;\n",
              "\n",
              "function _uploadFiles(inputId, outputId) {\n",
              "  const steps = uploadFilesStep(inputId, outputId);\n",
              "  const outputElement = document.getElementById(outputId);\n",
              "  // Cache steps on the outputElement to make it available for the next call\n",
              "  // to uploadFilesContinue from Python.\n",
              "  outputElement.steps = steps;\n",
              "\n",
              "  return _uploadFilesContinue(outputId);\n",
              "}\n",
              "\n",
              "// This is roughly an async generator (not supported in the browser yet),\n",
              "// where there are multiple asynchronous steps and the Python side is going\n",
              "// to poll for completion of each step.\n",
              "// This uses a Promise to block the python side on completion of each step,\n",
              "// then passes the result of the previous step as the input to the next step.\n",
              "function _uploadFilesContinue(outputId) {\n",
              "  const outputElement = document.getElementById(outputId);\n",
              "  const steps = outputElement.steps;\n",
              "\n",
              "  const next = steps.next(outputElement.lastPromiseValue);\n",
              "  return Promise.resolve(next.value.promise).then((value) => {\n",
              "    // Cache the last promise value to make it available to the next\n",
              "    // step of the generator.\n",
              "    outputElement.lastPromiseValue = value;\n",
              "    return next.value.response;\n",
              "  });\n",
              "}\n",
              "\n",
              "/**\n",
              " * Generator function which is called between each async step of the upload\n",
              " * process.\n",
              " * @param {string} inputId Element ID of the input file picker element.\n",
              " * @param {string} outputId Element ID of the output display.\n",
              " * @return {!Iterable<!Object>} Iterable of next steps.\n",
              " */\n",
              "function* uploadFilesStep(inputId, outputId) {\n",
              "  const inputElement = document.getElementById(inputId);\n",
              "  inputElement.disabled = false;\n",
              "\n",
              "  const outputElement = document.getElementById(outputId);\n",
              "  outputElement.innerHTML = '';\n",
              "\n",
              "  const pickedPromise = new Promise((resolve) => {\n",
              "    inputElement.addEventListener('change', (e) => {\n",
              "      resolve(e.target.files);\n",
              "    });\n",
              "  });\n",
              "\n",
              "  const cancel = document.createElement('button');\n",
              "  inputElement.parentElement.appendChild(cancel);\n",
              "  cancel.textContent = 'Cancel upload';\n",
              "  const cancelPromise = new Promise((resolve) => {\n",
              "    cancel.onclick = () => {\n",
              "      resolve(null);\n",
              "    };\n",
              "  });\n",
              "\n",
              "  // Wait for the user to pick the files.\n",
              "  const files = yield {\n",
              "    promise: Promise.race([pickedPromise, cancelPromise]),\n",
              "    response: {\n",
              "      action: 'starting',\n",
              "    }\n",
              "  };\n",
              "\n",
              "  cancel.remove();\n",
              "\n",
              "  // Disable the input element since further picks are not allowed.\n",
              "  inputElement.disabled = true;\n",
              "\n",
              "  if (!files) {\n",
              "    return {\n",
              "      response: {\n",
              "        action: 'complete',\n",
              "      }\n",
              "    };\n",
              "  }\n",
              "\n",
              "  for (const file of files) {\n",
              "    const li = document.createElement('li');\n",
              "    li.append(span(file.name, {fontWeight: 'bold'}));\n",
              "    li.append(span(\n",
              "        `(${file.type || 'n/a'}) - ${file.size} bytes, ` +\n",
              "        `last modified: ${\n",
              "            file.lastModifiedDate ? file.lastModifiedDate.toLocaleDateString() :\n",
              "                                    'n/a'} - `));\n",
              "    const percent = span('0% done');\n",
              "    li.appendChild(percent);\n",
              "\n",
              "    outputElement.appendChild(li);\n",
              "\n",
              "    const fileDataPromise = new Promise((resolve) => {\n",
              "      const reader = new FileReader();\n",
              "      reader.onload = (e) => {\n",
              "        resolve(e.target.result);\n",
              "      };\n",
              "      reader.readAsArrayBuffer(file);\n",
              "    });\n",
              "    // Wait for the data to be ready.\n",
              "    let fileData = yield {\n",
              "      promise: fileDataPromise,\n",
              "      response: {\n",
              "        action: 'continue',\n",
              "      }\n",
              "    };\n",
              "\n",
              "    // Use a chunked sending to avoid message size limits. See b/62115660.\n",
              "    let position = 0;\n",
              "    do {\n",
              "      const length = Math.min(fileData.byteLength - position, MAX_PAYLOAD_SIZE);\n",
              "      const chunk = new Uint8Array(fileData, position, length);\n",
              "      position += length;\n",
              "\n",
              "      const base64 = btoa(String.fromCharCode.apply(null, chunk));\n",
              "      yield {\n",
              "        response: {\n",
              "          action: 'append',\n",
              "          file: file.name,\n",
              "          data: base64,\n",
              "        },\n",
              "      };\n",
              "\n",
              "      let percentDone = fileData.byteLength === 0 ?\n",
              "          100 :\n",
              "          Math.round((position / fileData.byteLength) * 100);\n",
              "      percent.textContent = `${percentDone}% done`;\n",
              "\n",
              "    } while (position < fileData.byteLength);\n",
              "  }\n",
              "\n",
              "  // All done.\n",
              "  yield {\n",
              "    response: {\n",
              "      action: 'complete',\n",
              "    }\n",
              "  };\n",
              "}\n",
              "\n",
              "scope.google = scope.google || {};\n",
              "scope.google.colab = scope.google.colab || {};\n",
              "scope.google.colab._files = {\n",
              "  _uploadFiles,\n",
              "  _uploadFilesContinue,\n",
              "};\n",
              "})(self);\n",
              "</script> "
            ]
          },
          "metadata": {}
        },
        {
          "output_type": "stream",
          "name": "stdout",
          "text": [
            "Saving pima-indians-diabetes.csv to pima-indians-diabetes.csv\n"
          ]
        }
      ]
    },
    {
      "cell_type": "code",
      "source": [
        "data"
      ],
      "metadata": {
        "colab": {
          "base_uri": "https://localhost:8080/"
        },
        "id": "xY2ZOCtZzu0p",
        "outputId": "11bbbb93-f19b-4e28-fdda-6b309a2b4759"
      },
      "execution_count": null,
      "outputs": [
        {
          "output_type": "execute_result",
          "data": {
            "text/plain": [
              "{'pima-indians-diabetes.csv': b'6,148,72,35,0,33.6,0.627,50,1\\n1,85,66,29,0,26.6,0.351,31,0\\n8,183,64,0,0,23.3,0.672,32,1\\n1,89,66,23,94,28.1,0.167,21,0\\n0,137,40,35,168,43.1,2.288,33,1\\n5,116,74,0,0,25.6,0.201,30,0\\n3,78,50,32,88,31.0,0.248,26,1\\n10,115,0,0,0,35.3,0.134,29,0\\n2,197,70,45,543,30.5,0.158,53,1\\n8,125,96,0,0,0.0,0.232,54,1\\n4,110,92,0,0,37.6,0.191,30,0\\n10,168,74,0,0,38.0,0.537,34,1\\n10,139,80,0,0,27.1,1.441,57,0\\n1,189,60,23,846,30.1,0.398,59,1\\n5,166,72,19,175,25.8,0.587,51,1\\n7,100,0,0,0,30.0,0.484,32,1\\n0,118,84,47,230,45.8,0.551,31,1\\n7,107,74,0,0,29.6,0.254,31,1\\n1,103,30,38,83,43.3,0.183,33,0\\n1,115,70,30,96,34.6,0.529,32,1\\n3,126,88,41,235,39.3,0.704,27,0\\n8,99,84,0,0,35.4,0.388,50,0\\n7,196,90,0,0,39.8,0.451,41,1\\n9,119,80,35,0,29.0,0.263,29,1\\n11,143,94,33,146,36.6,0.254,51,1\\n10,125,70,26,115,31.1,0.205,41,1\\n7,147,76,0,0,39.4,0.257,43,1\\n1,97,66,15,140,23.2,0.487,22,0\\n13,145,82,19,110,22.2,0.245,57,0\\n5,117,92,0,0,34.1,0.337,38,0\\n5,109,75,26,0,36.0,0.546,60,0\\n3,158,76,36,245,31.6,0.851,28,1\\n3,88,58,11,54,24.8,0.267,22,0\\n6,92,92,0,0,19.9,0.188,28,0\\n10,122,78,31,0,27.6,0.512,45,0\\n4,103,60,33,192,24.0,0.966,33,0\\n11,138,76,0,0,33.2,0.420,35,0\\n9,102,76,37,0,32.9,0.665,46,1\\n2,90,68,42,0,38.2,0.503,27,1\\n4,111,72,47,207,37.1,1.390,56,1\\n3,180,64,25,70,34.0,0.271,26,0\\n7,133,84,0,0,40.2,0.696,37,0\\n7,106,92,18,0,22.7,0.235,48,0\\n9,171,110,24,240,45.4,0.721,54,1\\n7,159,64,0,0,27.4,0.294,40,0\\n0,180,66,39,0,42.0,1.893,25,1\\n1,146,56,0,0,29.7,0.564,29,0\\n2,71,70,27,0,28.0,0.586,22,0\\n7,103,66,32,0,39.1,0.344,31,1\\n7,105,0,0,0,0.0,0.305,24,0\\n1,103,80,11,82,19.4,0.491,22,0\\n1,101,50,15,36,24.2,0.526,26,0\\n5,88,66,21,23,24.4,0.342,30,0\\n8,176,90,34,300,33.7,0.467,58,1\\n7,150,66,42,342,34.7,0.718,42,0\\n1,73,50,10,0,23.0,0.248,21,0\\n7,187,68,39,304,37.7,0.254,41,1\\n0,100,88,60,110,46.8,0.962,31,0\\n0,146,82,0,0,40.5,1.781,44,0\\n0,105,64,41,142,41.5,0.173,22,0\\n2,84,0,0,0,0.0,0.304,21,0\\n8,133,72,0,0,32.9,0.270,39,1\\n5,44,62,0,0,25.0,0.587,36,0\\n2,141,58,34,128,25.4,0.699,24,0\\n7,114,66,0,0,32.8,0.258,42,1\\n5,99,74,27,0,29.0,0.203,32,0\\n0,109,88,30,0,32.5,0.855,38,1\\n2,109,92,0,0,42.7,0.845,54,0\\n1,95,66,13,38,19.6,0.334,25,0\\n4,146,85,27,100,28.9,0.189,27,0\\n2,100,66,20,90,32.9,0.867,28,1\\n5,139,64,35,140,28.6,0.411,26,0\\n13,126,90,0,0,43.4,0.583,42,1\\n4,129,86,20,270,35.1,0.231,23,0\\n1,79,75,30,0,32.0,0.396,22,0\\n1,0,48,20,0,24.7,0.140,22,0\\n7,62,78,0,0,32.6,0.391,41,0\\n5,95,72,33,0,37.7,0.370,27,0\\n0,131,0,0,0,43.2,0.270,26,1\\n2,112,66,22,0,25.0,0.307,24,0\\n3,113,44,13,0,22.4,0.140,22,0\\n2,74,0,0,0,0.0,0.102,22,0\\n7,83,78,26,71,29.3,0.767,36,0\\n0,101,65,28,0,24.6,0.237,22,0\\n5,137,108,0,0,48.8,0.227,37,1\\n2,110,74,29,125,32.4,0.698,27,0\\n13,106,72,54,0,36.6,0.178,45,0\\n2,100,68,25,71,38.5,0.324,26,0\\n15,136,70,32,110,37.1,0.153,43,1\\n1,107,68,19,0,26.5,0.165,24,0\\n1,80,55,0,0,19.1,0.258,21,0\\n4,123,80,15,176,32.0,0.443,34,0\\n7,81,78,40,48,46.7,0.261,42,0\\n4,134,72,0,0,23.8,0.277,60,1\\n2,142,82,18,64,24.7,0.761,21,0\\n6,144,72,27,228,33.9,0.255,40,0\\n2,92,62,28,0,31.6,0.130,24,0\\n1,71,48,18,76,20.4,0.323,22,0\\n6,93,50,30,64,28.7,0.356,23,0\\n1,122,90,51,220,49.7,0.325,31,1\\n1,163,72,0,0,39.0,1.222,33,1\\n1,151,60,0,0,26.1,0.179,22,0\\n0,125,96,0,0,22.5,0.262,21,0\\n1,81,72,18,40,26.6,0.283,24,0\\n2,85,65,0,0,39.6,0.930,27,0\\n1,126,56,29,152,28.7,0.801,21,0\\n1,96,122,0,0,22.4,0.207,27,0\\n4,144,58,28,140,29.5,0.287,37,0\\n3,83,58,31,18,34.3,0.336,25,0\\n0,95,85,25,36,37.4,0.247,24,1\\n3,171,72,33,135,33.3,0.199,24,1\\n8,155,62,26,495,34.0,0.543,46,1\\n1,89,76,34,37,31.2,0.192,23,0\\n4,76,62,0,0,34.0,0.391,25,0\\n7,160,54,32,175,30.5,0.588,39,1\\n4,146,92,0,0,31.2,0.539,61,1\\n5,124,74,0,0,34.0,0.220,38,1\\n5,78,48,0,0,33.7,0.654,25,0\\n4,97,60,23,0,28.2,0.443,22,0\\n4,99,76,15,51,23.2,0.223,21,0\\n0,162,76,56,100,53.2,0.759,25,1\\n6,111,64,39,0,34.2,0.260,24,0\\n2,107,74,30,100,33.6,0.404,23,0\\n5,132,80,0,0,26.8,0.186,69,0\\n0,113,76,0,0,33.3,0.278,23,1\\n1,88,30,42,99,55.0,0.496,26,1\\n3,120,70,30,135,42.9,0.452,30,0\\n1,118,58,36,94,33.3,0.261,23,0\\n1,117,88,24,145,34.5,0.403,40,1\\n0,105,84,0,0,27.9,0.741,62,1\\n4,173,70,14,168,29.7,0.361,33,1\\n9,122,56,0,0,33.3,1.114,33,1\\n3,170,64,37,225,34.5,0.356,30,1\\n8,84,74,31,0,38.3,0.457,39,0\\n2,96,68,13,49,21.1,0.647,26,0\\n2,125,60,20,140,33.8,0.088,31,0\\n0,100,70,26,50,30.8,0.597,21,0\\n0,93,60,25,92,28.7,0.532,22,0\\n0,129,80,0,0,31.2,0.703,29,0\\n5,105,72,29,325,36.9,0.159,28,0\\n3,128,78,0,0,21.1,0.268,55,0\\n5,106,82,30,0,39.5,0.286,38,0\\n2,108,52,26,63,32.5,0.318,22,0\\n10,108,66,0,0,32.4,0.272,42,1\\n4,154,62,31,284,32.8,0.237,23,0\\n0,102,75,23,0,0.0,0.572,21,0\\n9,57,80,37,0,32.8,0.096,41,0\\n2,106,64,35,119,30.5,1.400,34,0\\n5,147,78,0,0,33.7,0.218,65,0\\n2,90,70,17,0,27.3,0.085,22,0\\n1,136,74,50,204,37.4,0.399,24,0\\n4,114,65,0,0,21.9,0.432,37,0\\n9,156,86,28,155,34.3,1.189,42,1\\n1,153,82,42,485,40.6,0.687,23,0\\n8,188,78,0,0,47.9,0.137,43,1\\n7,152,88,44,0,50.0,0.337,36,1\\n2,99,52,15,94,24.6,0.637,21,0\\n1,109,56,21,135,25.2,0.833,23,0\\n2,88,74,19,53,29.0,0.229,22,0\\n17,163,72,41,114,40.9,0.817,47,1\\n4,151,90,38,0,29.7,0.294,36,0\\n7,102,74,40,105,37.2,0.204,45,0\\n0,114,80,34,285,44.2,0.167,27,0\\n2,100,64,23,0,29.7,0.368,21,0\\n0,131,88,0,0,31.6,0.743,32,1\\n6,104,74,18,156,29.9,0.722,41,1\\n3,148,66,25,0,32.5,0.256,22,0\\n4,120,68,0,0,29.6,0.709,34,0\\n4,110,66,0,0,31.9,0.471,29,0\\n3,111,90,12,78,28.4,0.495,29,0\\n6,102,82,0,0,30.8,0.180,36,1\\n6,134,70,23,130,35.4,0.542,29,1\\n2,87,0,23,0,28.9,0.773,25,0\\n1,79,60,42,48,43.5,0.678,23,0\\n2,75,64,24,55,29.7,0.370,33,0\\n8,179,72,42,130,32.7,0.719,36,1\\n6,85,78,0,0,31.2,0.382,42,0\\n0,129,110,46,130,67.1,0.319,26,1\\n5,143,78,0,0,45.0,0.190,47,0\\n5,130,82,0,0,39.1,0.956,37,1\\n6,87,80,0,0,23.2,0.084,32,0\\n0,119,64,18,92,34.9,0.725,23,0\\n1,0,74,20,23,27.7,0.299,21,0\\n5,73,60,0,0,26.8,0.268,27,0\\n4,141,74,0,0,27.6,0.244,40,0\\n7,194,68,28,0,35.9,0.745,41,1\\n8,181,68,36,495,30.1,0.615,60,1\\n1,128,98,41,58,32.0,1.321,33,1\\n8,109,76,39,114,27.9,0.640,31,1\\n5,139,80,35,160,31.6,0.361,25,1\\n3,111,62,0,0,22.6,0.142,21,0\\n9,123,70,44,94,33.1,0.374,40,0\\n7,159,66,0,0,30.4,0.383,36,1\\n11,135,0,0,0,52.3,0.578,40,1\\n8,85,55,20,0,24.4,0.136,42,0\\n5,158,84,41,210,39.4,0.395,29,1\\n1,105,58,0,0,24.3,0.187,21,0\\n3,107,62,13,48,22.9,0.678,23,1\\n4,109,64,44,99,34.8,0.905,26,1\\n4,148,60,27,318,30.9,0.150,29,1\\n0,113,80,16,0,31.0,0.874,21,0\\n1,138,82,0,0,40.1,0.236,28,0\\n0,108,68,20,0,27.3,0.787,32,0\\n2,99,70,16,44,20.4,0.235,27,0\\n6,103,72,32,190,37.7,0.324,55,0\\n5,111,72,28,0,23.9,0.407,27,0\\n8,196,76,29,280,37.5,0.605,57,1\\n5,162,104,0,0,37.7,0.151,52,1\\n1,96,64,27,87,33.2,0.289,21,0\\n7,184,84,33,0,35.5,0.355,41,1\\n2,81,60,22,0,27.7,0.290,25,0\\n0,147,85,54,0,42.8,0.375,24,0\\n7,179,95,31,0,34.2,0.164,60,0\\n0,140,65,26,130,42.6,0.431,24,1\\n9,112,82,32,175,34.2,0.260,36,1\\n12,151,70,40,271,41.8,0.742,38,1\\n5,109,62,41,129,35.8,0.514,25,1\\n6,125,68,30,120,30.0,0.464,32,0\\n5,85,74,22,0,29.0,1.224,32,1\\n5,112,66,0,0,37.8,0.261,41,1\\n0,177,60,29,478,34.6,1.072,21,1\\n2,158,90,0,0,31.6,0.805,66,1\\n7,119,0,0,0,25.2,0.209,37,0\\n7,142,60,33,190,28.8,0.687,61,0\\n1,100,66,15,56,23.6,0.666,26,0\\n1,87,78,27,32,34.6,0.101,22,0\\n0,101,76,0,0,35.7,0.198,26,0\\n3,162,52,38,0,37.2,0.652,24,1\\n4,197,70,39,744,36.7,2.329,31,0\\n0,117,80,31,53,45.2,0.089,24,0\\n4,142,86,0,0,44.0,0.645,22,1\\n6,134,80,37,370,46.2,0.238,46,1\\n1,79,80,25,37,25.4,0.583,22,0\\n4,122,68,0,0,35.0,0.394,29,0\\n3,74,68,28,45,29.7,0.293,23,0\\n4,171,72,0,0,43.6,0.479,26,1\\n7,181,84,21,192,35.9,0.586,51,1\\n0,179,90,27,0,44.1,0.686,23,1\\n9,164,84,21,0,30.8,0.831,32,1\\n0,104,76,0,0,18.4,0.582,27,0\\n1,91,64,24,0,29.2,0.192,21,0\\n4,91,70,32,88,33.1,0.446,22,0\\n3,139,54,0,0,25.6,0.402,22,1\\n6,119,50,22,176,27.1,1.318,33,1\\n2,146,76,35,194,38.2,0.329,29,0\\n9,184,85,15,0,30.0,1.213,49,1\\n10,122,68,0,0,31.2,0.258,41,0\\n0,165,90,33,680,52.3,0.427,23,0\\n9,124,70,33,402,35.4,0.282,34,0\\n1,111,86,19,0,30.1,0.143,23,0\\n9,106,52,0,0,31.2,0.380,42,0\\n2,129,84,0,0,28.0,0.284,27,0\\n2,90,80,14,55,24.4,0.249,24,0\\n0,86,68,32,0,35.8,0.238,25,0\\n12,92,62,7,258,27.6,0.926,44,1\\n1,113,64,35,0,33.6,0.543,21,1\\n3,111,56,39,0,30.1,0.557,30,0\\n2,114,68,22,0,28.7,0.092,25,0\\n1,193,50,16,375,25.9,0.655,24,0\\n11,155,76,28,150,33.3,1.353,51,1\\n3,191,68,15,130,30.9,0.299,34,0\\n3,141,0,0,0,30.0,0.761,27,1\\n4,95,70,32,0,32.1,0.612,24,0\\n3,142,80,15,0,32.4,0.200,63,0\\n4,123,62,0,0,32.0,0.226,35,1\\n5,96,74,18,67,33.6,0.997,43,0\\n0,138,0,0,0,36.3,0.933,25,1\\n2,128,64,42,0,40.0,1.101,24,0\\n0,102,52,0,0,25.1,0.078,21,0\\n2,146,0,0,0,27.5,0.240,28,1\\n10,101,86,37,0,45.6,1.136,38,1\\n2,108,62,32,56,25.2,0.128,21,0\\n3,122,78,0,0,23.0,0.254,40,0\\n1,71,78,50,45,33.2,0.422,21,0\\n13,106,70,0,0,34.2,0.251,52,0\\n2,100,70,52,57,40.5,0.677,25,0\\n7,106,60,24,0,26.5,0.296,29,1\\n0,104,64,23,116,27.8,0.454,23,0\\n5,114,74,0,0,24.9,0.744,57,0\\n2,108,62,10,278,25.3,0.881,22,0\\n0,146,70,0,0,37.9,0.334,28,1\\n10,129,76,28,122,35.9,0.280,39,0\\n7,133,88,15,155,32.4,0.262,37,0\\n7,161,86,0,0,30.4,0.165,47,1\\n2,108,80,0,0,27.0,0.259,52,1\\n7,136,74,26,135,26.0,0.647,51,0\\n5,155,84,44,545,38.7,0.619,34,0\\n1,119,86,39,220,45.6,0.808,29,1\\n4,96,56,17,49,20.8,0.340,26,0\\n5,108,72,43,75,36.1,0.263,33,0\\n0,78,88,29,40,36.9,0.434,21,0\\n0,107,62,30,74,36.6,0.757,25,1\\n2,128,78,37,182,43.3,1.224,31,1\\n1,128,48,45,194,40.5,0.613,24,1\\n0,161,50,0,0,21.9,0.254,65,0\\n6,151,62,31,120,35.5,0.692,28,0\\n2,146,70,38,360,28.0,0.337,29,1\\n0,126,84,29,215,30.7,0.520,24,0\\n14,100,78,25,184,36.6,0.412,46,1\\n8,112,72,0,0,23.6,0.840,58,0\\n0,167,0,0,0,32.3,0.839,30,1\\n2,144,58,33,135,31.6,0.422,25,1\\n5,77,82,41,42,35.8,0.156,35,0\\n5,115,98,0,0,52.9,0.209,28,1\\n3,150,76,0,0,21.0,0.207,37,0\\n2,120,76,37,105,39.7,0.215,29,0\\n10,161,68,23,132,25.5,0.326,47,1\\n0,137,68,14,148,24.8,0.143,21,0\\n0,128,68,19,180,30.5,1.391,25,1\\n2,124,68,28,205,32.9,0.875,30,1\\n6,80,66,30,0,26.2,0.313,41,0\\n0,106,70,37,148,39.4,0.605,22,0\\n2,155,74,17,96,26.6,0.433,27,1\\n3,113,50,10,85,29.5,0.626,25,0\\n7,109,80,31,0,35.9,1.127,43,1\\n2,112,68,22,94,34.1,0.315,26,0\\n3,99,80,11,64,19.3,0.284,30,0\\n3,182,74,0,0,30.5,0.345,29,1\\n3,115,66,39,140,38.1,0.150,28,0\\n6,194,78,0,0,23.5,0.129,59,1\\n4,129,60,12,231,27.5,0.527,31,0\\n3,112,74,30,0,31.6,0.197,25,1\\n0,124,70,20,0,27.4,0.254,36,1\\n13,152,90,33,29,26.8,0.731,43,1\\n2,112,75,32,0,35.7,0.148,21,0\\n1,157,72,21,168,25.6,0.123,24,0\\n1,122,64,32,156,35.1,0.692,30,1\\n10,179,70,0,0,35.1,0.200,37,0\\n2,102,86,36,120,45.5,0.127,23,1\\n6,105,70,32,68,30.8,0.122,37,0\\n8,118,72,19,0,23.1,1.476,46,0\\n2,87,58,16,52,32.7,0.166,25,0\\n1,180,0,0,0,43.3,0.282,41,1\\n12,106,80,0,0,23.6,0.137,44,0\\n1,95,60,18,58,23.9,0.260,22,0\\n0,165,76,43,255,47.9,0.259,26,0\\n0,117,0,0,0,33.8,0.932,44,0\\n5,115,76,0,0,31.2,0.343,44,1\\n9,152,78,34,171,34.2,0.893,33,1\\n7,178,84,0,0,39.9,0.331,41,1\\n1,130,70,13,105,25.9,0.472,22,0\\n1,95,74,21,73,25.9,0.673,36,0\\n1,0,68,35,0,32.0,0.389,22,0\\n5,122,86,0,0,34.7,0.290,33,0\\n8,95,72,0,0,36.8,0.485,57,0\\n8,126,88,36,108,38.5,0.349,49,0\\n1,139,46,19,83,28.7,0.654,22,0\\n3,116,0,0,0,23.5,0.187,23,0\\n3,99,62,19,74,21.8,0.279,26,0\\n5,0,80,32,0,41.0,0.346,37,1\\n4,92,80,0,0,42.2,0.237,29,0\\n4,137,84,0,0,31.2,0.252,30,0\\n3,61,82,28,0,34.4,0.243,46,0\\n1,90,62,12,43,27.2,0.580,24,0\\n3,90,78,0,0,42.7,0.559,21,0\\n9,165,88,0,0,30.4,0.302,49,1\\n1,125,50,40,167,33.3,0.962,28,1\\n13,129,0,30,0,39.9,0.569,44,1\\n12,88,74,40,54,35.3,0.378,48,0\\n1,196,76,36,249,36.5,0.875,29,1\\n5,189,64,33,325,31.2,0.583,29,1\\n5,158,70,0,0,29.8,0.207,63,0\\n5,103,108,37,0,39.2,0.305,65,0\\n4,146,78,0,0,38.5,0.520,67,1\\n4,147,74,25,293,34.9,0.385,30,0\\n5,99,54,28,83,34.0,0.499,30,0\\n6,124,72,0,0,27.6,0.368,29,1\\n0,101,64,17,0,21.0,0.252,21,0\\n3,81,86,16,66,27.5,0.306,22,0\\n1,133,102,28,140,32.8,0.234,45,1\\n3,173,82,48,465,38.4,2.137,25,1\\n0,118,64,23,89,0.0,1.731,21,0\\n0,84,64,22,66,35.8,0.545,21,0\\n2,105,58,40,94,34.9,0.225,25,0\\n2,122,52,43,158,36.2,0.816,28,0\\n12,140,82,43,325,39.2,0.528,58,1\\n0,98,82,15,84,25.2,0.299,22,0\\n1,87,60,37,75,37.2,0.509,22,0\\n4,156,75,0,0,48.3,0.238,32,1\\n0,93,100,39,72,43.4,1.021,35,0\\n1,107,72,30,82,30.8,0.821,24,0\\n0,105,68,22,0,20.0,0.236,22,0\\n1,109,60,8,182,25.4,0.947,21,0\\n1,90,62,18,59,25.1,1.268,25,0\\n1,125,70,24,110,24.3,0.221,25,0\\n1,119,54,13,50,22.3,0.205,24,0\\n5,116,74,29,0,32.3,0.660,35,1\\n8,105,100,36,0,43.3,0.239,45,1\\n5,144,82,26,285,32.0,0.452,58,1\\n3,100,68,23,81,31.6,0.949,28,0\\n1,100,66,29,196,32.0,0.444,42,0\\n5,166,76,0,0,45.7,0.340,27,1\\n1,131,64,14,415,23.7,0.389,21,0\\n4,116,72,12,87,22.1,0.463,37,0\\n4,158,78,0,0,32.9,0.803,31,1\\n2,127,58,24,275,27.7,1.600,25,0\\n3,96,56,34,115,24.7,0.944,39,0\\n0,131,66,40,0,34.3,0.196,22,1\\n3,82,70,0,0,21.1,0.389,25,0\\n3,193,70,31,0,34.9,0.241,25,1\\n4,95,64,0,0,32.0,0.161,31,1\\n6,137,61,0,0,24.2,0.151,55,0\\n5,136,84,41,88,35.0,0.286,35,1\\n9,72,78,25,0,31.6,0.280,38,0\\n5,168,64,0,0,32.9,0.135,41,1\\n2,123,48,32,165,42.1,0.520,26,0\\n4,115,72,0,0,28.9,0.376,46,1\\n0,101,62,0,0,21.9,0.336,25,0\\n8,197,74,0,0,25.9,1.191,39,1\\n1,172,68,49,579,42.4,0.702,28,1\\n6,102,90,39,0,35.7,0.674,28,0\\n1,112,72,30,176,34.4,0.528,25,0\\n1,143,84,23,310,42.4,1.076,22,0\\n1,143,74,22,61,26.2,0.256,21,0\\n0,138,60,35,167,34.6,0.534,21,1\\n3,173,84,33,474,35.7,0.258,22,1\\n1,97,68,21,0,27.2,1.095,22,0\\n4,144,82,32,0,38.5,0.554,37,1\\n1,83,68,0,0,18.2,0.624,27,0\\n3,129,64,29,115,26.4,0.219,28,1\\n1,119,88,41,170,45.3,0.507,26,0\\n2,94,68,18,76,26.0,0.561,21,0\\n0,102,64,46,78,40.6,0.496,21,0\\n2,115,64,22,0,30.8,0.421,21,0\\n8,151,78,32,210,42.9,0.516,36,1\\n4,184,78,39,277,37.0,0.264,31,1\\n0,94,0,0,0,0.0,0.256,25,0\\n1,181,64,30,180,34.1,0.328,38,1\\n0,135,94,46,145,40.6,0.284,26,0\\n1,95,82,25,180,35.0,0.233,43,1\\n2,99,0,0,0,22.2,0.108,23,0\\n3,89,74,16,85,30.4,0.551,38,0\\n1,80,74,11,60,30.0,0.527,22,0\\n2,139,75,0,0,25.6,0.167,29,0\\n1,90,68,8,0,24.5,1.138,36,0\\n0,141,0,0,0,42.4,0.205,29,1\\n12,140,85,33,0,37.4,0.244,41,0\\n5,147,75,0,0,29.9,0.434,28,0\\n1,97,70,15,0,18.2,0.147,21,0\\n6,107,88,0,0,36.8,0.727,31,0\\n0,189,104,25,0,34.3,0.435,41,1\\n2,83,66,23,50,32.2,0.497,22,0\\n4,117,64,27,120,33.2,0.230,24,0\\n8,108,70,0,0,30.5,0.955,33,1\\n4,117,62,12,0,29.7,0.380,30,1\\n0,180,78,63,14,59.4,2.420,25,1\\n1,100,72,12,70,25.3,0.658,28,0\\n0,95,80,45,92,36.5,0.330,26,0\\n0,104,64,37,64,33.6,0.510,22,1\\n0,120,74,18,63,30.5,0.285,26,0\\n1,82,64,13,95,21.2,0.415,23,0\\n2,134,70,0,0,28.9,0.542,23,1\\n0,91,68,32,210,39.9,0.381,25,0\\n2,119,0,0,0,19.6,0.832,72,0\\n2,100,54,28,105,37.8,0.498,24,0\\n14,175,62,30,0,33.6,0.212,38,1\\n1,135,54,0,0,26.7,0.687,62,0\\n5,86,68,28,71,30.2,0.364,24,0\\n10,148,84,48,237,37.6,1.001,51,1\\n9,134,74,33,60,25.9,0.460,81,0\\n9,120,72,22,56,20.8,0.733,48,0\\n1,71,62,0,0,21.8,0.416,26,0\\n8,74,70,40,49,35.3,0.705,39,0\\n5,88,78,30,0,27.6,0.258,37,0\\n10,115,98,0,0,24.0,1.022,34,0\\n0,124,56,13,105,21.8,0.452,21,0\\n0,74,52,10,36,27.8,0.269,22,0\\n0,97,64,36,100,36.8,0.600,25,0\\n8,120,0,0,0,30.0,0.183,38,1\\n6,154,78,41,140,46.1,0.571,27,0\\n1,144,82,40,0,41.3,0.607,28,0\\n0,137,70,38,0,33.2,0.170,22,0\\n0,119,66,27,0,38.8,0.259,22,0\\n7,136,90,0,0,29.9,0.210,50,0\\n4,114,64,0,0,28.9,0.126,24,0\\n0,137,84,27,0,27.3,0.231,59,0\\n2,105,80,45,191,33.7,0.711,29,1\\n7,114,76,17,110,23.8,0.466,31,0\\n8,126,74,38,75,25.9,0.162,39,0\\n4,132,86,31,0,28.0,0.419,63,0\\n3,158,70,30,328,35.5,0.344,35,1\\n0,123,88,37,0,35.2,0.197,29,0\\n4,85,58,22,49,27.8,0.306,28,0\\n0,84,82,31,125,38.2,0.233,23,0\\n0,145,0,0,0,44.2,0.630,31,1\\n0,135,68,42,250,42.3,0.365,24,1\\n1,139,62,41,480,40.7,0.536,21,0\\n0,173,78,32,265,46.5,1.159,58,0\\n4,99,72,17,0,25.6,0.294,28,0\\n8,194,80,0,0,26.1,0.551,67,0\\n2,83,65,28,66,36.8,0.629,24,0\\n2,89,90,30,0,33.5,0.292,42,0\\n4,99,68,38,0,32.8,0.145,33,0\\n4,125,70,18,122,28.9,1.144,45,1\\n3,80,0,0,0,0.0,0.174,22,0\\n6,166,74,0,0,26.6,0.304,66,0\\n5,110,68,0,0,26.0,0.292,30,0\\n2,81,72,15,76,30.1,0.547,25,0\\n7,195,70,33,145,25.1,0.163,55,1\\n6,154,74,32,193,29.3,0.839,39,0\\n2,117,90,19,71,25.2,0.313,21,0\\n3,84,72,32,0,37.2,0.267,28,0\\n6,0,68,41,0,39.0,0.727,41,1\\n7,94,64,25,79,33.3,0.738,41,0\\n3,96,78,39,0,37.3,0.238,40,0\\n10,75,82,0,0,33.3,0.263,38,0\\n0,180,90,26,90,36.5,0.314,35,1\\n1,130,60,23,170,28.6,0.692,21,0\\n2,84,50,23,76,30.4,0.968,21,0\\n8,120,78,0,0,25.0,0.409,64,0\\n12,84,72,31,0,29.7,0.297,46,1\\n0,139,62,17,210,22.1,0.207,21,0\\n9,91,68,0,0,24.2,0.200,58,0\\n2,91,62,0,0,27.3,0.525,22,0\\n3,99,54,19,86,25.6,0.154,24,0\\n3,163,70,18,105,31.6,0.268,28,1\\n9,145,88,34,165,30.3,0.771,53,1\\n7,125,86,0,0,37.6,0.304,51,0\\n13,76,60,0,0,32.8,0.180,41,0\\n6,129,90,7,326,19.6,0.582,60,0\\n2,68,70,32,66,25.0,0.187,25,0\\n3,124,80,33,130,33.2,0.305,26,0\\n6,114,0,0,0,0.0,0.189,26,0\\n9,130,70,0,0,34.2,0.652,45,1\\n3,125,58,0,0,31.6,0.151,24,0\\n3,87,60,18,0,21.8,0.444,21,0\\n1,97,64,19,82,18.2,0.299,21,0\\n3,116,74,15,105,26.3,0.107,24,0\\n0,117,66,31,188,30.8,0.493,22,0\\n0,111,65,0,0,24.6,0.660,31,0\\n2,122,60,18,106,29.8,0.717,22,0\\n0,107,76,0,0,45.3,0.686,24,0\\n1,86,66,52,65,41.3,0.917,29,0\\n6,91,0,0,0,29.8,0.501,31,0\\n1,77,56,30,56,33.3,1.251,24,0\\n4,132,0,0,0,32.9,0.302,23,1\\n0,105,90,0,0,29.6,0.197,46,0\\n0,57,60,0,0,21.7,0.735,67,0\\n0,127,80,37,210,36.3,0.804,23,0\\n3,129,92,49,155,36.4,0.968,32,1\\n8,100,74,40,215,39.4,0.661,43,1\\n3,128,72,25,190,32.4,0.549,27,1\\n10,90,85,32,0,34.9,0.825,56,1\\n4,84,90,23,56,39.5,0.159,25,0\\n1,88,78,29,76,32.0,0.365,29,0\\n8,186,90,35,225,34.5,0.423,37,1\\n5,187,76,27,207,43.6,1.034,53,1\\n4,131,68,21,166,33.1,0.160,28,0\\n1,164,82,43,67,32.8,0.341,50,0\\n4,189,110,31,0,28.5,0.680,37,0\\n1,116,70,28,0,27.4,0.204,21,0\\n3,84,68,30,106,31.9,0.591,25,0\\n6,114,88,0,0,27.8,0.247,66,0\\n1,88,62,24,44,29.9,0.422,23,0\\n1,84,64,23,115,36.9,0.471,28,0\\n7,124,70,33,215,25.5,0.161,37,0\\n1,97,70,40,0,38.1,0.218,30,0\\n8,110,76,0,0,27.8,0.237,58,0\\n11,103,68,40,0,46.2,0.126,42,0\\n11,85,74,0,0,30.1,0.300,35,0\\n6,125,76,0,0,33.8,0.121,54,1\\n0,198,66,32,274,41.3,0.502,28,1\\n1,87,68,34,77,37.6,0.401,24,0\\n6,99,60,19,54,26.9,0.497,32,0\\n0,91,80,0,0,32.4,0.601,27,0\\n2,95,54,14,88,26.1,0.748,22,0\\n1,99,72,30,18,38.6,0.412,21,0\\n6,92,62,32,126,32.0,0.085,46,0\\n4,154,72,29,126,31.3,0.338,37,0\\n0,121,66,30,165,34.3,0.203,33,1\\n3,78,70,0,0,32.5,0.270,39,0\\n2,130,96,0,0,22.6,0.268,21,0\\n3,111,58,31,44,29.5,0.430,22,0\\n2,98,60,17,120,34.7,0.198,22,0\\n1,143,86,30,330,30.1,0.892,23,0\\n1,119,44,47,63,35.5,0.280,25,0\\n6,108,44,20,130,24.0,0.813,35,0\\n2,118,80,0,0,42.9,0.693,21,1\\n10,133,68,0,0,27.0,0.245,36,0\\n2,197,70,99,0,34.7,0.575,62,1\\n0,151,90,46,0,42.1,0.371,21,1\\n6,109,60,27,0,25.0,0.206,27,0\\n12,121,78,17,0,26.5,0.259,62,0\\n8,100,76,0,0,38.7,0.190,42,0\\n8,124,76,24,600,28.7,0.687,52,1\\n1,93,56,11,0,22.5,0.417,22,0\\n8,143,66,0,0,34.9,0.129,41,1\\n6,103,66,0,0,24.3,0.249,29,0\\n3,176,86,27,156,33.3,1.154,52,1\\n0,73,0,0,0,21.1,0.342,25,0\\n11,111,84,40,0,46.8,0.925,45,1\\n2,112,78,50,140,39.4,0.175,24,0\\n3,132,80,0,0,34.4,0.402,44,1\\n2,82,52,22,115,28.5,1.699,25,0\\n6,123,72,45,230,33.6,0.733,34,0\\n0,188,82,14,185,32.0,0.682,22,1\\n0,67,76,0,0,45.3,0.194,46,0\\n1,89,24,19,25,27.8,0.559,21,0\\n1,173,74,0,0,36.8,0.088,38,1\\n1,109,38,18,120,23.1,0.407,26,0\\n1,108,88,19,0,27.1,0.400,24,0\\n6,96,0,0,0,23.7,0.190,28,0\\n1,124,74,36,0,27.8,0.100,30,0\\n7,150,78,29,126,35.2,0.692,54,1\\n4,183,0,0,0,28.4,0.212,36,1\\n1,124,60,32,0,35.8,0.514,21,0\\n1,181,78,42,293,40.0,1.258,22,1\\n1,92,62,25,41,19.5,0.482,25,0\\n0,152,82,39,272,41.5,0.270,27,0\\n1,111,62,13,182,24.0,0.138,23,0\\n3,106,54,21,158,30.9,0.292,24,0\\n3,174,58,22,194,32.9,0.593,36,1\\n7,168,88,42,321,38.2,0.787,40,1\\n6,105,80,28,0,32.5,0.878,26,0\\n11,138,74,26,144,36.1,0.557,50,1\\n3,106,72,0,0,25.8,0.207,27,0\\n6,117,96,0,0,28.7,0.157,30,0\\n2,68,62,13,15,20.1,0.257,23,0\\n9,112,82,24,0,28.2,1.282,50,1\\n0,119,0,0,0,32.4,0.141,24,1\\n2,112,86,42,160,38.4,0.246,28,0\\n2,92,76,20,0,24.2,1.698,28,0\\n6,183,94,0,0,40.8,1.461,45,0\\n0,94,70,27,115,43.5,0.347,21,0\\n2,108,64,0,0,30.8,0.158,21,0\\n4,90,88,47,54,37.7,0.362,29,0\\n0,125,68,0,0,24.7,0.206,21,0\\n0,132,78,0,0,32.4,0.393,21,0\\n5,128,80,0,0,34.6,0.144,45,0\\n4,94,65,22,0,24.7,0.148,21,0\\n7,114,64,0,0,27.4,0.732,34,1\\n0,102,78,40,90,34.5,0.238,24,0\\n2,111,60,0,0,26.2,0.343,23,0\\n1,128,82,17,183,27.5,0.115,22,0\\n10,92,62,0,0,25.9,0.167,31,0\\n13,104,72,0,0,31.2,0.465,38,1\\n5,104,74,0,0,28.8,0.153,48,0\\n2,94,76,18,66,31.6,0.649,23,0\\n7,97,76,32,91,40.9,0.871,32,1\\n1,100,74,12,46,19.5,0.149,28,0\\n0,102,86,17,105,29.3,0.695,27,0\\n4,128,70,0,0,34.3,0.303,24,0\\n6,147,80,0,0,29.5,0.178,50,1\\n4,90,0,0,0,28.0,0.610,31,0\\n3,103,72,30,152,27.6,0.730,27,0\\n2,157,74,35,440,39.4,0.134,30,0\\n1,167,74,17,144,23.4,0.447,33,1\\n0,179,50,36,159,37.8,0.455,22,1\\n11,136,84,35,130,28.3,0.260,42,1\\n0,107,60,25,0,26.4,0.133,23,0\\n1,91,54,25,100,25.2,0.234,23,0\\n1,117,60,23,106,33.8,0.466,27,0\\n5,123,74,40,77,34.1,0.269,28,0\\n2,120,54,0,0,26.8,0.455,27,0\\n1,106,70,28,135,34.2,0.142,22,0\\n2,155,52,27,540,38.7,0.240,25,1\\n2,101,58,35,90,21.8,0.155,22,0\\n1,120,80,48,200,38.9,1.162,41,0\\n11,127,106,0,0,39.0,0.190,51,0\\n3,80,82,31,70,34.2,1.292,27,1\\n10,162,84,0,0,27.7,0.182,54,0\\n1,199,76,43,0,42.9,1.394,22,1\\n8,167,106,46,231,37.6,0.165,43,1\\n9,145,80,46,130,37.9,0.637,40,1\\n6,115,60,39,0,33.7,0.245,40,1\\n1,112,80,45,132,34.8,0.217,24,0\\n4,145,82,18,0,32.5,0.235,70,1\\n10,111,70,27,0,27.5,0.141,40,1\\n6,98,58,33,190,34.0,0.430,43,0\\n9,154,78,30,100,30.9,0.164,45,0\\n6,165,68,26,168,33.6,0.631,49,0\\n1,99,58,10,0,25.4,0.551,21,0\\n10,68,106,23,49,35.5,0.285,47,0\\n3,123,100,35,240,57.3,0.880,22,0\\n8,91,82,0,0,35.6,0.587,68,0\\n6,195,70,0,0,30.9,0.328,31,1\\n9,156,86,0,0,24.8,0.230,53,1\\n0,93,60,0,0,35.3,0.263,25,0\\n3,121,52,0,0,36.0,0.127,25,1\\n2,101,58,17,265,24.2,0.614,23,0\\n2,56,56,28,45,24.2,0.332,22,0\\n0,162,76,36,0,49.6,0.364,26,1\\n0,95,64,39,105,44.6,0.366,22,0\\n4,125,80,0,0,32.3,0.536,27,1\\n5,136,82,0,0,0.0,0.640,69,0\\n2,129,74,26,205,33.2,0.591,25,0\\n3,130,64,0,0,23.1,0.314,22,0\\n1,107,50,19,0,28.3,0.181,29,0\\n1,140,74,26,180,24.1,0.828,23,0\\n1,144,82,46,180,46.1,0.335,46,1\\n8,107,80,0,0,24.6,0.856,34,0\\n13,158,114,0,0,42.3,0.257,44,1\\n2,121,70,32,95,39.1,0.886,23,0\\n7,129,68,49,125,38.5,0.439,43,1\\n2,90,60,0,0,23.5,0.191,25,0\\n7,142,90,24,480,30.4,0.128,43,1\\n3,169,74,19,125,29.9,0.268,31,1\\n0,99,0,0,0,25.0,0.253,22,0\\n4,127,88,11,155,34.5,0.598,28,0\\n4,118,70,0,0,44.5,0.904,26,0\\n2,122,76,27,200,35.9,0.483,26,0\\n6,125,78,31,0,27.6,0.565,49,1\\n1,168,88,29,0,35.0,0.905,52,1\\n2,129,0,0,0,38.5,0.304,41,0\\n4,110,76,20,100,28.4,0.118,27,0\\n6,80,80,36,0,39.8,0.177,28,0\\n10,115,0,0,0,0.0,0.261,30,1\\n2,127,46,21,335,34.4,0.176,22,0\\n9,164,78,0,0,32.8,0.148,45,1\\n2,93,64,32,160,38.0,0.674,23,1\\n3,158,64,13,387,31.2,0.295,24,0\\n5,126,78,27,22,29.6,0.439,40,0\\n10,129,62,36,0,41.2,0.441,38,1\\n0,134,58,20,291,26.4,0.352,21,0\\n3,102,74,0,0,29.5,0.121,32,0\\n7,187,50,33,392,33.9,0.826,34,1\\n3,173,78,39,185,33.8,0.970,31,1\\n10,94,72,18,0,23.1,0.595,56,0\\n1,108,60,46,178,35.5,0.415,24,0\\n5,97,76,27,0,35.6,0.378,52,1\\n4,83,86,19,0,29.3,0.317,34,0\\n1,114,66,36,200,38.1,0.289,21,0\\n1,149,68,29,127,29.3,0.349,42,1\\n5,117,86,30,105,39.1,0.251,42,0\\n1,111,94,0,0,32.8,0.265,45,0\\n4,112,78,40,0,39.4,0.236,38,0\\n1,116,78,29,180,36.1,0.496,25,0\\n0,141,84,26,0,32.4,0.433,22,0\\n2,175,88,0,0,22.9,0.326,22,0\\n2,92,52,0,0,30.1,0.141,22,0\\n3,130,78,23,79,28.4,0.323,34,1\\n8,120,86,0,0,28.4,0.259,22,1\\n2,174,88,37,120,44.5,0.646,24,1\\n2,106,56,27,165,29.0,0.426,22,0\\n2,105,75,0,0,23.3,0.560,53,0\\n4,95,60,32,0,35.4,0.284,28,0\\n0,126,86,27,120,27.4,0.515,21,0\\n8,65,72,23,0,32.0,0.600,42,0\\n2,99,60,17,160,36.6,0.453,21,0\\n1,102,74,0,0,39.5,0.293,42,1\\n11,120,80,37,150,42.3,0.785,48,1\\n3,102,44,20,94,30.8,0.400,26,0\\n1,109,58,18,116,28.5,0.219,22,0\\n9,140,94,0,0,32.7,0.734,45,1\\n13,153,88,37,140,40.6,1.174,39,0\\n12,100,84,33,105,30.0,0.488,46,0\\n1,147,94,41,0,49.3,0.358,27,1\\n1,81,74,41,57,46.3,1.096,32,0\\n3,187,70,22,200,36.4,0.408,36,1\\n6,162,62,0,0,24.3,0.178,50,1\\n4,136,70,0,0,31.2,1.182,22,1\\n1,121,78,39,74,39.0,0.261,28,0\\n3,108,62,24,0,26.0,0.223,25,0\\n0,181,88,44,510,43.3,0.222,26,1\\n8,154,78,32,0,32.4,0.443,45,1\\n1,128,88,39,110,36.5,1.057,37,1\\n7,137,90,41,0,32.0,0.391,39,0\\n0,123,72,0,0,36.3,0.258,52,1\\n1,106,76,0,0,37.5,0.197,26,0\\n6,190,92,0,0,35.5,0.278,66,1\\n2,88,58,26,16,28.4,0.766,22,0\\n9,170,74,31,0,44.0,0.403,43,1\\n9,89,62,0,0,22.5,0.142,33,0\\n10,101,76,48,180,32.9,0.171,63,0\\n2,122,70,27,0,36.8,0.340,27,0\\n5,121,72,23,112,26.2,0.245,30,0\\n1,126,60,0,0,30.1,0.349,47,1\\n1,93,70,31,0,30.4,0.315,23,0'}"
            ]
          },
          "metadata": {},
          "execution_count": 2
        }
      ]
    },
    {
      "cell_type": "code",
      "execution_count": null,
      "metadata": {
        "colab": {
          "base_uri": "https://localhost:8080/"
        },
        "id": "qg4fjRt30ET1",
        "outputId": "4b6591ab-b9a3-4aec-985d-0465f8b7f714"
      },
      "outputs": [
        {
          "data": {
            "text/plain": [
              "(3, 4)"
            ]
          },
          "execution_count": 10,
          "metadata": {},
          "output_type": "execute_result"
        }
      ],
      "source": [
        "my2DArray.shape"
      ]
    },
    {
      "cell_type": "code",
      "execution_count": null,
      "metadata": {
        "colab": {
          "base_uri": "https://localhost:8080/"
        },
        "id": "0AtyqR3llMRr",
        "outputId": "84f6a009-e919-47a4-b089-2b6e2b9224ff"
      },
      "outputs": [
        {
          "name": "stdout",
          "output_type": "stream",
          "text": [
            "(32, 8)\n"
          ]
        }
      ],
      "source": [
        "print(my2DArray.strides)"
      ]
    },
    {
      "cell_type": "markdown",
      "metadata": {
        "id": "Xea7DiYAlbLN"
      },
      "source": [
        "what is stride of array?  It is the number of locations in memory between\n",
        "beginnings of successive array elements, measured in bytes or in units of the\n",
        "size of the array's elements\n",
        "\"\"\"\n"
      ]
    },
    {
      "cell_type": "code",
      "execution_count": null,
      "metadata": {
        "colab": {
          "base_uri": "https://localhost:8080/"
        },
        "id": "K-IRKNM7ljFu",
        "outputId": "830d0fba-673f-4fec-8840-08e2959f3188"
      },
      "outputs": [
        {
          "output_type": "stream",
          "name": "stdout",
          "text": [
            "[[[1 1 1 1]\n",
            "  [1 1 1 1]\n",
            "  [1 1 1 1]]\n",
            "\n",
            " [[1 1 1 1]\n",
            "  [1 1 1 1]\n",
            "  [1 1 1 1]]\n",
            "\n",
            " [[1 1 1 1]\n",
            "  [1 1 1 1]\n",
            "  [1 1 1 1]]\n",
            "\n",
            " [[1 1 1 1]\n",
            "  [1 1 1 1]\n",
            "  [1 1 1 1]]]\n",
            "[[[0 0 0 0]\n",
            "  [0 0 0 0]\n",
            "  [0 0 0 0]]\n",
            "\n",
            " [[0 0 0 0]\n",
            "  [0 0 0 0]\n",
            "  [0 0 0 0]]\n",
            "\n",
            " [[0 0 0 0]\n",
            "  [0 0 0 0]\n",
            "  [0 0 0 0]]\n",
            "\n",
            " [[0 0 0 0]\n",
            "  [0 0 0 0]\n",
            "  [0 0 0 0]]\n",
            "\n",
            " [[0 0 0 0]\n",
            "  [0 0 0 0]\n",
            "  [0 0 0 0]]]\n",
            "[[5.03713260e-310 0.00000000e+000]\n",
            " [6.62686607e-310 2.93487123e-130]\n",
            " [3.38983205e+208 6.25593821e-310]]\n",
            "[[7 7]\n",
            " [7 7]]\n",
            "[ 0  5 10 15 20 25]\n",
            "[0.         0.02040816 0.04081633 0.06122449 0.08163265 0.10204082\n",
            " 0.12244898 0.14285714 0.16326531 0.18367347 0.20408163 0.2244898\n",
            " 0.24489796 0.26530612 0.28571429 0.30612245 0.32653061 0.34693878\n",
            " 0.36734694 0.3877551  0.40816327 0.42857143 0.44897959 0.46938776\n",
            " 0.48979592 0.51020408 0.53061224 0.55102041 0.57142857 0.59183673\n",
            " 0.6122449  0.63265306 0.65306122 0.67346939 0.69387755 0.71428571\n",
            " 0.73469388 0.75510204 0.7755102  0.79591837 0.81632653 0.83673469\n",
            " 0.85714286 0.87755102 0.89795918 0.91836735 0.93877551 0.95918367\n",
            " 0.97959184 1.         1.02040816 1.04081633 1.06122449 1.08163265\n",
            " 1.10204082 1.12244898 1.14285714 1.16326531 1.18367347 1.20408163\n",
            " 1.2244898  1.24489796 1.26530612 1.28571429 1.30612245 1.32653061\n",
            " 1.34693878 1.36734694 1.3877551  1.40816327 1.42857143 1.44897959\n",
            " 1.46938776 1.48979592 1.51020408 1.53061224 1.55102041 1.57142857\n",
            " 1.59183673 1.6122449  1.63265306 1.65306122 1.67346939 1.69387755\n",
            " 1.71428571 1.73469388 1.75510204 1.7755102  1.79591837 1.81632653\n",
            " 1.83673469 1.85714286 1.87755102 1.89795918 1.91836735 1.93877551\n",
            " 1.95918367 1.97959184 2.        ]\n"
          ]
        }
      ],
      "source": [
        "#Array using numpy built-in functions\n",
        "# Array of ones\n",
        "ones = np.ones((4,3,4),dtype = int) # row , colum, no of matrix\n",
        "print(ones)\n",
        "\n",
        "# Array of zeros\n",
        "zeros = np.zeros((5,3,4),dtype=np.int16) # 2, 50,500,578687669696\n",
        "print(zeros)\n",
        "\n",
        "# Array with random values\n",
        "s =np.random.random((2,2))\n",
        "\n",
        "# Empty array\n",
        "emptyArray = np.empty((3,2))\n",
        "print(emptyArray)\n",
        "\n",
        "\n",
        "# Full array\n",
        "fullArray = np.full((2,2),7)\n",
        "print(fullArray)\n",
        "\n",
        "# Array of evenly-spaced values\n",
        "evenSpacedArray = np.arange(0,26,5)  # 0,10,0.02  start , end-1 , steps\n",
        "print(evenSpacedArray)\n",
        "\n",
        "# Array of evenly-spaced values\n",
        "evenSpacedArray2 = np.linspace(0,2,99) # (100, 2200, 35) # start range , end range , count of values\n",
        "print(evenSpacedArray2)"
      ]
    },
    {
      "cell_type": "code",
      "source": [
        "zeros = np.zeros((5,3,4),dtype=int) # 2, 50,500,578687669696  # 70, 5671253, 4   4.80 4.4567457568\n",
        "print(zeros)"
      ],
      "metadata": {
        "colab": {
          "base_uri": "https://localhost:8080/"
        },
        "id": "SCMBPVhER35W",
        "outputId": "97726cee-fc84-4229-f888-90d8d265a915"
      },
      "execution_count": null,
      "outputs": [
        {
          "output_type": "stream",
          "name": "stdout",
          "text": [
            "[[[0 0 0 0]\n",
            "  [0 0 0 0]\n",
            "  [0 0 0 0]]\n",
            "\n",
            " [[0 0 0 0]\n",
            "  [0 0 0 0]\n",
            "  [0 0 0 0]]\n",
            "\n",
            " [[0 0 0 0]\n",
            "  [0 0 0 0]\n",
            "  [0 0 0 0]]\n",
            "\n",
            " [[0 0 0 0]\n",
            "  [0 0 0 0]\n",
            "  [0 0 0 0]]\n",
            "\n",
            " [[0 0 0 0]\n",
            "  [0 0 0 0]\n",
            "  [0 0 0 0]]]\n"
          ]
        }
      ]
    },
    {
      "cell_type": "code",
      "source": [
        "zero = np.zeros((3,2,4))"
      ],
      "metadata": {
        "id": "FQsgfep0sjCz"
      },
      "execution_count": null,
      "outputs": []
    },
    {
      "cell_type": "code",
      "source": [
        "zero"
      ],
      "metadata": {
        "colab": {
          "base_uri": "https://localhost:8080/"
        },
        "id": "9P-tdqeFsmdD",
        "outputId": "75e0eae5-fab2-4e27-d39c-8eed393775b2"
      },
      "execution_count": null,
      "outputs": [
        {
          "output_type": "execute_result",
          "data": {
            "text/plain": [
              "array([[[0., 0., 0., 0.],\n",
              "        [0., 0., 0., 0.]],\n",
              "\n",
              "       [[0., 0., 0., 0.],\n",
              "        [0., 0., 0., 0.]],\n",
              "\n",
              "       [[0., 0., 0., 0.],\n",
              "        [0., 0., 0., 0.]]])"
            ]
          },
          "metadata": {},
          "execution_count": 36
        }
      ]
    },
    {
      "cell_type": "code",
      "execution_count": null,
      "metadata": {
        "colab": {
          "base_uri": "https://localhost:8080/"
        },
        "id": "_bLtRiePLI8T",
        "outputId": "719b3b35-0895-4079-d3ca-d703529ad0cf"
      },
      "outputs": [
        {
          "data": {
            "text/plain": [
              "array([[[0, 0, 0, 0],\n",
              "        [0, 0, 0, 0],\n",
              "        [0, 0, 0, 0]],\n",
              "\n",
              "       [[0, 0, 0, 0],\n",
              "        [0, 0, 0, 0],\n",
              "        [0, 0, 0, 0]],\n",
              "\n",
              "       [[0, 0, 0, 0],\n",
              "        [0, 0, 0, 0],\n",
              "        [0, 0, 0, 0]],\n",
              "\n",
              "       [[0, 0, 0, 0],\n",
              "        [0, 0, 0, 0],\n",
              "        [0, 0, 0, 0]],\n",
              "\n",
              "       [[0, 0, 0, 0],\n",
              "        [0, 0, 0, 0],\n",
              "        [0, 0, 0, 0]]], dtype=int16)"
            ]
          },
          "execution_count": 7,
          "metadata": {},
          "output_type": "execute_result"
        }
      ],
      "source": [
        "zeros"
      ]
    },
    {
      "cell_type": "code",
      "source": [
        "emptyArray = np.empty((3,2))\n",
        "print(emptyArray)"
      ],
      "metadata": {
        "colab": {
          "base_uri": "https://localhost:8080/"
        },
        "id": "Ef3Ha103rVni",
        "outputId": "2feac995-15bf-4b60-da24-fb07df2ace33"
      },
      "execution_count": null,
      "outputs": [
        {
          "output_type": "stream",
          "name": "stdout",
          "text": [
            "[[0. 0.]\n",
            " [0. 0.]\n",
            " [0. 0.]]\n"
          ]
        }
      ]
    },
    {
      "cell_type": "code",
      "execution_count": null,
      "metadata": {
        "colab": {
          "base_uri": "https://localhost:8080/"
        },
        "id": "OHIh3tc4L1pw",
        "outputId": "bed579cf-1728-404d-aff5-b85258cc4f24"
      },
      "outputs": [
        {
          "data": {
            "text/plain": [
              "array([[0.3510922 , 0.57800863],\n",
              "       [0.10633287, 0.5591529 ]])"
            ]
          },
          "execution_count": 9,
          "metadata": {},
          "output_type": "execute_result"
        }
      ],
      "source": [
        "s"
      ]
    },
    {
      "cell_type": "code",
      "execution_count": null,
      "metadata": {
        "colab": {
          "base_uri": "https://localhost:8080/"
        },
        "id": "QneN6Q85l-8x",
        "outputId": "f759cf69-dc54-4192-ed1c-3d25ca0e0371"
      },
      "outputs": [
        {
          "data": {
            "text/plain": [
              "array([[4.67020372e-310, 4.94065646e-324],\n",
              "       [4.94065646e-324, 0.00000000e+000],\n",
              "       [0.00000000e+000, 0.00000000e+000]])"
            ]
          },
          "execution_count": 3,
          "metadata": {},
          "output_type": "execute_result"
        }
      ],
      "source": [
        "emptyArray"
      ]
    },
    {
      "cell_type": "code",
      "execution_count": null,
      "metadata": {
        "colab": {
          "base_uri": "https://localhost:8080/"
        },
        "id": "TisW_jUZKqh1",
        "outputId": "88ecead9-3ed4-455e-a5b6-a3dc19cd7162"
      },
      "outputs": [
        {
          "data": {
            "text/plain": [
              "array([[0.19097417, 0.34202638],\n",
              "       [0.58400162, 0.64276739]])"
            ]
          },
          "execution_count": 5,
          "metadata": {},
          "output_type": "execute_result"
        }
      ],
      "source": [
        "s"
      ]
    },
    {
      "cell_type": "code",
      "execution_count": null,
      "metadata": {
        "colab": {
          "base_uri": "https://localhost:8080/"
        },
        "id": "CeqNqaYh1Unn",
        "outputId": "4b6b9c4c-2756-4647-d12f-79c5497489ec"
      },
      "outputs": [
        {
          "data": {
            "text/plain": [
              "array([[[ 5.+0.j,  3.+0.j,  9.+0.j, 10.+0.j],\n",
              "        [ 6.+0.j,  7.+0.j,  8.+0.j,  3.+0.j],\n",
              "        [ 7.+0.j,  5.+0.j,  7.+0.j,  9.+0.j]],\n",
              "\n",
              "       [[ 7.+0.j,  6.+0.j,  5.+0.j,  9.+0.j],\n",
              "        [ 6.+0.j,  7.+0.j,  8.+0.j,  6.+0.j],\n",
              "        [ 4.+0.j,  7.+0.j,  8.+0.j,  9.+0.j]]])"
            ]
          },
          "execution_count": 7,
          "metadata": {},
          "output_type": "execute_result"
        }
      ],
      "source": [
        "r = np.array([[[5,3,9,10],[6,7,8,3],[7,5,7,9]],[[7,6,5,9],[6,7,8,6],[4,7,8,9]]],dtype = complex) #3 *4 , 1*4\n",
        "\n",
        "\n",
        "\n",
        "r.ndim # 3\n",
        "r.shape  #67+-9kly\n",
        "r\n",
        "\n"
      ]
    },
    {
      "cell_type": "code",
      "execution_count": null,
      "metadata": {
        "colab": {
          "base_uri": "https://localhost:8080/"
        },
        "id": "6hAK0Y-oJPpM",
        "outputId": "8e212884-209c-4e77-ce6f-871f33ddb711"
      },
      "outputs": [
        {
          "data": {
            "text/plain": [
              "(7+0j)"
            ]
          },
          "execution_count": 8,
          "metadata": {},
          "output_type": "execute_result"
        }
      ],
      "source": [
        "\n",
        "i = 0\n",
        "j = 1\n",
        "k = 1\n",
        "r[i,j,k]"
      ]
    },
    {
      "cell_type": "code",
      "execution_count": null,
      "metadata": {
        "colab": {
          "base_uri": "https://localhost:8080/"
        },
        "id": "PIDBDbqY3eGe",
        "outputId": "1a8bae83-b0ba-4021-df54-a296e7eceb4c"
      },
      "outputs": [
        {
          "output_type": "execute_result",
          "data": {
            "text/plain": [
              "array([[ 5,  3,  9, 10],\n",
              "       [ 6,  7,  8,  3],\n",
              "       [ 7,  5,  7,  9]])"
            ]
          },
          "metadata": {},
          "execution_count": 2
        }
      ],
      "source": [
        "t = np.array([[5,3,9,10],[6,7,8,3],[7,5,7,9]]) # matrix\n",
        "t"
      ]
    },
    {
      "cell_type": "code",
      "execution_count": null,
      "metadata": {
        "colab": {
          "base_uri": "https://localhost:8080/"
        },
        "id": "e3toxE4YJGmH",
        "outputId": "950bca19-613c-4073-ae77-9f21148a22cf"
      },
      "outputs": [
        {
          "output_type": "execute_result",
          "data": {
            "text/plain": [
              "array([[8, 3],\n",
              "       [7, 9]])"
            ]
          },
          "metadata": {},
          "execution_count": 11
        }
      ],
      "source": [
        "t[1:3,2:4] # end-1"
      ]
    },
    {
      "cell_type": "code",
      "source": [
        "t[1:3,1:3]"
      ],
      "metadata": {
        "colab": {
          "base_uri": "https://localhost:8080/"
        },
        "id": "4ayXR3gH752o",
        "outputId": "f9ff1365-556a-4ea5-c506-73d5a9ace90d"
      },
      "execution_count": null,
      "outputs": [
        {
          "output_type": "execute_result",
          "data": {
            "text/plain": [
              "array([[7, 8],\n",
              "       [5, 7]])"
            ]
          },
          "metadata": {},
          "execution_count": 14
        }
      ]
    },
    {
      "cell_type": "code",
      "execution_count": null,
      "metadata": {
        "colab": {
          "base_uri": "https://localhost:8080/"
        },
        "id": "uog5N_Ky3lO6",
        "outputId": "0ae21cd8-e218-4395-ae48-8f463f35be75"
      },
      "outputs": [
        {
          "data": {
            "text/plain": [
              "array([ 5,  3,  9, 10])"
            ]
          },
          "execution_count": 26,
          "metadata": {},
          "output_type": "execute_result"
        }
      ],
      "source": [
        "y = np.array([5,3,9,10]) #series\n",
        "y"
      ]
    },
    {
      "cell_type": "code",
      "execution_count": null,
      "metadata": {
        "colab": {
          "base_uri": "https://localhost:8080/"
        },
        "id": "qQIgFBUm2Zph",
        "outputId": "7027fe13-4112-48fb-84be-0e413fc872c0"
      },
      "outputs": [
        {
          "data": {
            "text/plain": [
              "3"
            ]
          },
          "execution_count": 23,
          "metadata": {},
          "output_type": "execute_result"
        }
      ],
      "source": [
        "r.ndim"
      ]
    },
    {
      "cell_type": "code",
      "execution_count": null,
      "metadata": {
        "colab": {
          "base_uri": "https://localhost:8080/"
        },
        "id": "CE2z4Cfq2gCc",
        "outputId": "ccda2492-9b25-43c4-8b95-bcbb26fadf48"
      },
      "outputs": [
        {
          "data": {
            "text/plain": [
              "(3, 4)"
            ]
          },
          "execution_count": 18,
          "metadata": {},
          "output_type": "execute_result"
        }
      ],
      "source": [
        "r.shape"
      ]
    },
    {
      "cell_type": "code",
      "execution_count": null,
      "metadata": {
        "colab": {
          "base_uri": "https://localhost:8080/"
        },
        "id": "nRXoLx3FJrEy",
        "outputId": "f588885a-3f63-4b32-9576-e23de893be9f"
      },
      "outputs": [
        {
          "data": {
            "text/plain": [
              "array([[ 5.+0.j,  3.+0.j,  9.+0.j, 10.+0.j],\n",
              "       [ 6.+0.j,  7.+0.j,  8.+0.j,  3.+0.j],\n",
              "       [ 7.+0.j,  5.+0.j,  7.+0.j,  9.+0.j]])"
            ]
          },
          "execution_count": 10,
          "metadata": {},
          "output_type": "execute_result"
        }
      ],
      "source": [
        "r[0,::,]"
      ]
    },
    {
      "cell_type": "code",
      "execution_count": null,
      "metadata": {
        "colab": {
          "base_uri": "https://localhost:8080/"
        },
        "id": "_wzHQ_oLKWQU",
        "outputId": "f22f8fc3-bb5e-4dff-adde-1ff917808873"
      },
      "outputs": [
        {
          "data": {
            "text/plain": [
              "array([[False, False, False,  True],\n",
              "       [ True, False,  True, False],\n",
              "       [False, False, False, False]])"
            ]
          },
          "execution_count": 13,
          "metadata": {},
          "output_type": "execute_result"
        }
      ],
      "source": [
        "t % 2 == 0"
      ]
    },
    {
      "cell_type": "code",
      "execution_count": null,
      "metadata": {
        "colab": {
          "base_uri": "https://localhost:8080/"
        },
        "id": "oMDvRIE1KjJY",
        "outputId": "5dd1630e-3921-4e33-8f58-a16879918777"
      },
      "outputs": [
        {
          "data": {
            "text/plain": [
              "array([10,  6,  8])"
            ]
          },
          "execution_count": 15,
          "metadata": {},
          "output_type": "execute_result"
        }
      ],
      "source": [
        "t[t %2 == 0] #show s the value whever the condition is true"
      ]
    },
    {
      "cell_type": "code",
      "execution_count": null,
      "metadata": {
        "id": "wXzWimp5NEp9"
      },
      "outputs": [],
      "source": []
    },
    {
      "cell_type": "code",
      "execution_count": null,
      "metadata": {
        "colab": {
          "base_uri": "https://localhost:8080/"
        },
        "id": "jHLBF3czK-Ss",
        "outputId": "474b697e-ec6e-4f5c-e9a1-e04817231595"
      },
      "outputs": [
        {
          "data": {
            "text/plain": [
              "array([[ 5,  3,  9, 10],\n",
              "       [ 6,  7,  8,  3],\n",
              "       [ 7,  5,  7,  9]])"
            ]
          },
          "execution_count": 16,
          "metadata": {},
          "output_type": "execute_result"
        }
      ],
      "source": [
        "t"
      ]
    },
    {
      "cell_type": "code",
      "execution_count": null,
      "metadata": {
        "id": "8MSPuXtQNxNG"
      },
      "outputs": [],
      "source": [
        "my_indeces = [2,1]"
      ]
    },
    {
      "cell_type": "code",
      "execution_count": null,
      "metadata": {
        "colab": {
          "base_uri": "https://localhost:8080/"
        },
        "id": "xcZSNqXnN6xV",
        "outputId": "41e4b8fc-2649-41b0-8f3e-f89c395cf826"
      },
      "outputs": [
        {
          "data": {
            "text/plain": [
              "array([[7, 5, 7, 9],\n",
              "       [6, 7, 8, 3]])"
            ]
          },
          "execution_count": 25,
          "metadata": {},
          "output_type": "execute_result"
        }
      ],
      "source": [
        "t[my_indeces]"
      ]
    },
    {
      "cell_type": "code",
      "execution_count": null,
      "metadata": {
        "id": "x-kpd1qMOR24"
      },
      "outputs": [],
      "source": [
        "# Broadcasting in NumPy\n",
        "#Scalar and One-Dimensional Array\n",
        "import array"
      ]
    },
    {
      "cell_type": "code",
      "execution_count": null,
      "metadata": {
        "id": "CSdf_lvDb3TC"
      },
      "outputs": [],
      "source": [
        "a = np.array([1, 2, 3])"
      ]
    },
    {
      "cell_type": "code",
      "execution_count": null,
      "metadata": {
        "id": "FqVf0QUJb_eQ"
      },
      "outputs": [],
      "source": [
        "b = np.array([8,7,9])"
      ]
    },
    {
      "cell_type": "code",
      "execution_count": null,
      "metadata": {
        "id": "0JEWpwXKcCll"
      },
      "outputs": [],
      "source": [
        "c = a + b"
      ]
    },
    {
      "cell_type": "code",
      "execution_count": null,
      "metadata": {
        "colab": {
          "base_uri": "https://localhost:8080/"
        },
        "id": "PXb7oeBwcGXT",
        "outputId": "396e08b9-6523-49c9-9ec6-2e0f68cb81d4"
      },
      "outputs": [
        {
          "data": {
            "text/plain": [
              "array([ 9,  9, 12])"
            ]
          },
          "execution_count": 41,
          "metadata": {},
          "output_type": "execute_result"
        }
      ],
      "source": [
        "c"
      ]
    },
    {
      "cell_type": "code",
      "execution_count": null,
      "metadata": {
        "id": "NIhgjfXacvJ0"
      },
      "outputs": [],
      "source": [
        "#Scalar and Two-Dimensional Array"
      ]
    },
    {
      "cell_type": "code",
      "execution_count": null,
      "metadata": {
        "id": "KkA5US2VcqRU"
      },
      "outputs": [],
      "source": [
        "k = np.array([5,3,6,7,9])\n",
        "j=np.array([4,2,6,9,8])"
      ]
    },
    {
      "cell_type": "code",
      "execution_count": null,
      "metadata": {
        "id": "K0lBCP9WdBud"
      },
      "outputs": [],
      "source": [
        "g = k+j"
      ]
    },
    {
      "cell_type": "code",
      "execution_count": null,
      "metadata": {
        "colab": {
          "base_uri": "https://localhost:8080/"
        },
        "id": "7Yd1PMdFdFd4",
        "outputId": "8b2cd276-0a87-48f7-d73a-7aa785c30c1f"
      },
      "outputs": [
        {
          "data": {
            "text/plain": [
              "array([ 9,  5, 12, 16, 17])"
            ]
          },
          "execution_count": 51,
          "metadata": {},
          "output_type": "execute_result"
        }
      ],
      "source": [
        "g"
      ]
    },
    {
      "cell_type": "code",
      "execution_count": null,
      "metadata": {
        "colab": {
          "background_save": true
        },
        "id": "Klp-pn5sdv3v",
        "outputId": "fe3efb1b-9078-45e4-e30a-a6eb1774ff5b"
      },
      "outputs": [
        {
          "data": {
            "text/plain": [
              "array([[ 63, 320,  83],\n",
              "       [ 77, 484, 102],\n",
              "       [ 84, 248, 117]])"
            ]
          },
          "execution_count": null,
          "metadata": {},
          "output_type": "execute_result"
        }
      ],
      "source": []
    }
  ],
  "metadata": {
    "colab": {
      "provenance": []
    },
    "kernelspec": {
      "display_name": "Python 3",
      "name": "python3"
    },
    "language_info": {
      "name": "python"
    }
  },
  "nbformat": 4,
  "nbformat_minor": 0
}