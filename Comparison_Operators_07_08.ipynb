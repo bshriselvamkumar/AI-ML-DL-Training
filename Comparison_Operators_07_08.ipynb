{
  "nbformat": 4,
  "nbformat_minor": 0,
  "metadata": {
    "anaconda-cloud": {},
    "kernelspec": {
      "display_name": "Python 3",
      "language": "python",
      "name": "python3"
    },
    "language_info": {
      "codemirror_mode": {
        "name": "ipython",
        "version": 3
      },
      "file_extension": ".py",
      "mimetype": "text/x-python",
      "name": "python",
      "nbconvert_exporter": "python",
      "pygments_lexer": "ipython3",
      "version": "3.6.4"
    },
    "colab": {
      "provenance": []
    }
  },
  "cells": [
    {
      "cell_type": "code",
      "metadata": {
        "id": "cyLXHGym65vX",
        "outputId": "5b87e2b7-92e8-4cc5-d574-6991f561308f",
        "colab": {
          "base_uri": "https://localhost:8080/"
        }
      },
      "source": [
        "10 == 29 / 2 # check the value  # a = 10, b= 20 , assign"
      ],
      "execution_count": null,
      "outputs": [
        {
          "output_type": "execute_result",
          "data": {
            "text/plain": [
              "False"
            ]
          },
          "metadata": {},
          "execution_count": 1
        }
      ]
    },
    {
      "cell_type": "code",
      "metadata": {
        "id": "4cgpsBHg65vc",
        "colab": {
          "base_uri": "https://localhost:8080/"
        },
        "outputId": "6541e429-3ef4-49a0-80bc-78cb8df5081b"
      },
      "source": [
        "10 == 10"
      ],
      "execution_count": null,
      "outputs": [
        {
          "output_type": "execute_result",
          "data": {
            "text/plain": [
              "True"
            ]
          },
          "metadata": {},
          "execution_count": 1
        }
      ]
    },
    {
      "cell_type": "code",
      "source": [
        ">, <, >= , <="
      ],
      "metadata": {
        "id": "XI-Ar1YIe95i"
      },
      "execution_count": null,
      "outputs": []
    },
    {
      "cell_type": "code",
      "metadata": {
        "id": "junbm7_d65vd",
        "outputId": "8f7f93c9-2176-434a-8d7d-4652b5f15023",
        "colab": {
          "base_uri": "https://localhost:8080/"
        }
      },
      "source": [
        "10 != 15"
      ],
      "execution_count": null,
      "outputs": [
        {
          "output_type": "execute_result",
          "data": {
            "text/plain": [
              "True"
            ]
          },
          "metadata": {},
          "execution_count": 2
        }
      ]
    },
    {
      "cell_type": "code",
      "metadata": {
        "id": "_IalE1OQ65ve",
        "outputId": "35b10595-1430-4029-8c50-d423fdca6a07",
        "colab": {
          "base_uri": "https://localhost:8080/"
        }
      },
      "source": [
        "100 > 50"
      ],
      "execution_count": null,
      "outputs": [
        {
          "output_type": "execute_result",
          "data": {
            "text/plain": [
              "True"
            ]
          },
          "metadata": {},
          "execution_count": 3
        }
      ]
    },
    {
      "cell_type": "code",
      "metadata": {
        "scrolled": true,
        "id": "tCOMTaXe65vg",
        "outputId": "85ec4ae8-53bf-493c-fdab-223bddd28db9",
        "colab": {
          "base_uri": "https://localhost:8080/"
        }
      },
      "source": [
        "100 < 50"
      ],
      "execution_count": null,
      "outputs": [
        {
          "output_type": "execute_result",
          "data": {
            "text/plain": [
              "False"
            ]
          },
          "metadata": {},
          "execution_count": 4
        }
      ]
    },
    {
      "cell_type": "code",
      "metadata": {
        "id": "XaWPnlpt65vg",
        "outputId": "309b8125-dff3-4543-d01a-bd332f43eddd",
        "colab": {
          "base_uri": "https://localhost:8080/"
        }
      },
      "source": [
        "15 >= 10 + 5"
      ],
      "execution_count": null,
      "outputs": [
        {
          "output_type": "execute_result",
          "data": {
            "text/plain": [
              "True"
            ]
          },
          "metadata": {},
          "execution_count": 5
        }
      ]
    },
    {
      "cell_type": "code",
      "metadata": {
        "id": "xzKH9hKH65vh",
        "outputId": "a3a6a26d-c090-4a76-93a3-ea62e1f8620e"
      },
      "source": [
        "15 <= 10 + 5"
      ],
      "execution_count": null,
      "outputs": [
        {
          "output_type": "execute_result",
          "data": {
            "text/plain": [
              "True"
            ]
          },
          "metadata": {
            "tags": []
          },
          "execution_count": 7
        }
      ]
    },
    {
      "cell_type": "code",
      "source": [
        "10 < 15"
      ],
      "metadata": {
        "id": "209sHZ0zwSLZ",
        "outputId": "2702556b-7f61-4f90-d549-b8b3a5eb9f81",
        "colab": {
          "base_uri": "https://localhost:8080/"
        }
      },
      "execution_count": null,
      "outputs": [
        {
          "output_type": "execute_result",
          "data": {
            "text/plain": [
              "True"
            ]
          },
          "metadata": {},
          "execution_count": 3
        }
      ]
    }
  ]
}