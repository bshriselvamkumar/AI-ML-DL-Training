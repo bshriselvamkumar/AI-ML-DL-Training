{
  "nbformat": 4,
  "nbformat_minor": 0,
  "metadata": {
    "anaconda-cloud": {},
    "kernelspec": {
      "display_name": "Python 3",
      "language": "python",
      "name": "python3"
    },
    "language_info": {
      "codemirror_mode": {
        "name": "ipython",
        "version": 3
      },
      "file_extension": ".py",
      "mimetype": "text/x-python",
      "name": "python",
      "nbconvert_exporter": "python",
      "pygments_lexer": "ipython3",
      "version": "3.6.4"
    },
    "colab": {
      "provenance": []
    }
  },
  "cells": [
    {
      "cell_type": "markdown",
      "metadata": {
        "id": "QAfpGjABuT34"
      },
      "source": [
        "** Logical Operators: **    = OR , AND , NOT  "
      ]
    },
    {
      "cell_type": "code",
      "source": [
        "#2 input logic gate\n",
        "False or False\n",
        "False or True\n",
        "True or False\n",
        "True or True"
      ],
      "metadata": {
        "colab": {
          "base_uri": "https://localhost:8080/"
        },
        "id": "nB4niSx9b0O3",
        "outputId": "445d8de6-1362-47b5-ac41-5998c9984a1a"
      },
      "execution_count": null,
      "outputs": [
        {
          "output_type": "execute_result",
          "data": {
            "text/plain": [
              "True"
            ]
          },
          "metadata": {},
          "execution_count": 3
        }
      ]
    },
    {
      "cell_type": "code",
      "source": [
        "False and False\n",
        "False and True\n",
        "True and False\n",
        "True and True"
      ],
      "metadata": {
        "id": "7QUIIOSMcUCJ"
      },
      "execution_count": null,
      "outputs": []
    },
    {
      "cell_type": "code",
      "source": [
        "not False"
      ],
      "metadata": {
        "colab": {
          "base_uri": "https://localhost:8080/"
        },
        "id": "nZzYW90icwX5",
        "outputId": "5d000ac5-b47a-4cca-bcf8-f3ee3ce18e05"
      },
      "execution_count": null,
      "outputs": [
        {
          "output_type": "execute_result",
          "data": {
            "text/plain": [
              "True"
            ]
          },
          "metadata": {},
          "execution_count": 6
        }
      ]
    },
    {
      "cell_type": "code",
      "metadata": {
        "colab": {
          "base_uri": "https://localhost:8080/"
        },
        "id": "M6wuSMzKuT41",
        "outputId": "ef1f4e8b-88f6-4b48-d17b-ad9028f5b40d"
      },
      "source": [
        "True and True or False  # 1 * 1 +0 = 1   # and , or , not"
      ],
      "execution_count": null,
      "outputs": [
        {
          "output_type": "execute_result",
          "data": {
            "text/plain": [
              "True"
            ]
          },
          "metadata": {},
          "execution_count": 1
        }
      ]
    },
    {
      "cell_type": "code",
      "source": [
        "False or True"
      ],
      "metadata": {
        "colab": {
          "base_uri": "https://localhost:8080/"
        },
        "id": "AD4ilAId_w1j",
        "outputId": "a6a95ba2-ae95-4deb-e2d9-dd4554875417"
      },
      "execution_count": null,
      "outputs": [
        {
          "output_type": "execute_result",
          "data": {
            "text/plain": [
              "True"
            ]
          },
          "metadata": {},
          "execution_count": 3
        }
      ]
    },
    {
      "cell_type": "code",
      "source": [
        "1 and 0 or 0  # 1* 1 + 0"
      ],
      "metadata": {
        "colab": {
          "base_uri": "https://localhost:8080/"
        },
        "id": "JDm2Q7Ykdjkf",
        "outputId": "ede27fdb-6ce5-4f92-c5c8-f128ace4ea71"
      },
      "execution_count": null,
      "outputs": [
        {
          "output_type": "execute_result",
          "data": {
            "text/plain": [
              "0"
            ]
          },
          "metadata": {},
          "execution_count": 5
        }
      ]
    },
    {
      "cell_type": "code",
      "source": [
        "True * True"
      ],
      "metadata": {
        "id": "wxRR4cARGp2g",
        "outputId": "54f952cc-e9cb-4195-d2fa-189b6c96280f",
        "colab": {
          "base_uri": "https://localhost:8080/"
        }
      },
      "execution_count": null,
      "outputs": [
        {
          "output_type": "execute_result",
          "data": {
            "text/plain": [
              "1"
            ]
          },
          "metadata": {},
          "execution_count": 3
        }
      ]
    },
    {
      "cell_type": "code",
      "metadata": {
        "id": "wUBpmCsSuT4_",
        "outputId": "1b0d9154-59aa-4502-a5c8-dd030faaca1f"
      },
      "source": [
        "True and False #1 * 0"
      ],
      "execution_count": null,
      "outputs": [
        {
          "output_type": "execute_result",
          "data": {
            "text/plain": [
              "False"
            ]
          },
          "metadata": {
            "tags": []
          },
          "execution_count": 1
        }
      ]
    },
    {
      "cell_type": "code",
      "metadata": {
        "id": "QaKg6CuiuT5C",
        "outputId": "c633cd27-ac87-4ff3-a9ea-4c33d2d6ca0e"
      },
      "source": [
        "False and False"
      ],
      "execution_count": null,
      "outputs": [
        {
          "output_type": "execute_result",
          "data": {
            "text/plain": [
              "False"
            ]
          },
          "metadata": {
            "tags": []
          },
          "execution_count": 54
        }
      ]
    },
    {
      "cell_type": "code",
      "metadata": {
        "id": "PVz4Og5buT5E",
        "outputId": "485f838e-fb87-464b-b559-f5620f17aad1"
      },
      "source": [
        "False or False # 0+0"
      ],
      "execution_count": null,
      "outputs": [
        {
          "output_type": "execute_result",
          "data": {
            "text/plain": [
              "False"
            ]
          },
          "metadata": {
            "tags": []
          },
          "execution_count": 53
        }
      ]
    },
    {
      "cell_type": "code",
      "metadata": {
        "id": "toA0FYTjuT5H",
        "outputId": "c4721bbb-76b1-4d30-be98-a12bf7c4d9ab"
      },
      "source": [
        "True or True #1+1"
      ],
      "execution_count": null,
      "outputs": [
        {
          "output_type": "execute_result",
          "data": {
            "text/plain": [
              "True"
            ]
          },
          "metadata": {
            "tags": []
          },
          "execution_count": 56
        }
      ]
    },
    {
      "cell_type": "code",
      "metadata": {
        "id": "lEWAAqxMuT5J",
        "outputId": "0aa74458-b446-4b60-b0e7-787221ce859d"
      },
      "source": [
        "True or False"
      ],
      "execution_count": null,
      "outputs": [
        {
          "output_type": "execute_result",
          "data": {
            "text/plain": [
              "True"
            ]
          },
          "metadata": {
            "tags": []
          },
          "execution_count": 57
        }
      ]
    },
    {
      "cell_type": "code",
      "metadata": {
        "id": "P88VwHiBuT5W",
        "outputId": "bb84064d-cfc9-429c-a9c7-9c8ef5b12198"
      },
      "source": [
        "False or True"
      ],
      "execution_count": null,
      "outputs": [
        {
          "output_type": "execute_result",
          "data": {
            "text/plain": [
              "True"
            ]
          },
          "metadata": {
            "tags": []
          },
          "execution_count": 58
        }
      ]
    },
    {
      "cell_type": "code",
      "metadata": {
        "id": "tQ5eZvZcuT5Z",
        "outputId": "22ac9b24-3b99-48d3-f800-bf3f9c82b2af"
      },
      "source": [
        "not True"
      ],
      "execution_count": null,
      "outputs": [
        {
          "output_type": "execute_result",
          "data": {
            "text/plain": [
              "False"
            ]
          },
          "metadata": {
            "tags": []
          },
          "execution_count": 59
        }
      ]
    },
    {
      "cell_type": "code",
      "metadata": {
        "id": "le06rx_UuT5e",
        "outputId": "fbce813a-169b-4eb3-8383-9ce726847204"
      },
      "source": [
        "not False"
      ],
      "execution_count": null,
      "outputs": [
        {
          "output_type": "execute_result",
          "data": {
            "text/plain": [
              "True"
            ]
          },
          "metadata": {
            "tags": []
          },
          "execution_count": 60
        }
      ]
    },
    {
      "cell_type": "code",
      "metadata": {
        "id": "4OJmw6ieuT5g",
        "outputId": "18cd9b12-95cc-41a0-c4ba-89bf945cf814"
      },
      "source": [
        "3 > 5 and 10 <= 20"
      ],
      "execution_count": null,
      "outputs": [
        {
          "output_type": "execute_result",
          "data": {
            "text/plain": [
              "False"
            ]
          },
          "metadata": {
            "tags": []
          },
          "execution_count": 2
        }
      ]
    },
    {
      "cell_type": "markdown",
      "metadata": {
        "id": "9d7-gvt5uT5h"
      },
      "source": [
        "**Not - And - Or**"
      ]
    },
    {
      "cell_type": "code",
      "metadata": {
        "id": "iT29jrMluT5j",
        "outputId": "7d78c8ed-cb0a-4907-b68c-2290ffe423a8"
      },
      "source": [
        "True and not True"
      ],
      "execution_count": null,
      "outputs": [
        {
          "output_type": "execute_result",
          "data": {
            "text/plain": [
              "False"
            ]
          },
          "metadata": {
            "tags": []
          },
          "execution_count": 13
        }
      ]
    },
    {
      "cell_type": "code",
      "metadata": {
        "id": "-IV3rG7EuT5k",
        "outputId": "71273cd4-3aad-45bc-cf69-a33f03645646"
      },
      "source": [
        "False or not True and True"
      ],
      "execution_count": null,
      "outputs": [
        {
          "output_type": "execute_result",
          "data": {
            "text/plain": [
              "False"
            ]
          },
          "metadata": {
            "tags": []
          },
          "execution_count": 15
        }
      ]
    },
    {
      "cell_type": "code",
      "metadata": {
        "id": "_YsMVAdauT5l",
        "outputId": "9f1fa238-8718-4552-8c09-d8e89eda5da3"
      },
      "source": [
        "True and not True or True"
      ],
      "execution_count": null,
      "outputs": [
        {
          "output_type": "execute_result",
          "data": {
            "text/plain": [
              "True"
            ]
          },
          "metadata": {
            "tags": []
          },
          "execution_count": 2
        }
      ]
    },
    {
      "cell_type": "markdown",
      "metadata": {
        "id": "ozFbAaV2uT5l"
      },
      "source": [
        "** Identity Operators: **"
      ]
    },
    {
      "cell_type": "code",
      "metadata": {
        "id": "6QtKaKCSuT5m",
        "outputId": "028604dd-c811-4722-bd8d-617f850cc136"
      },
      "source": [
        "5 is 6"
      ],
      "execution_count": null,
      "outputs": [
        {
          "output_type": "execute_result",
          "data": {
            "text/plain": [
              "False"
            ]
          },
          "metadata": {
            "tags": []
          },
          "execution_count": 47
        }
      ]
    },
    {
      "cell_type": "code",
      "source": [
        "a = 5 # assigning operator\n",
        "a != 5\n",
        "a == 5"
      ],
      "metadata": {
        "id": "N2-_ROBjOJmZ"
      },
      "execution_count": null,
      "outputs": []
    },
    {
      "cell_type": "code",
      "metadata": {
        "scrolled": true,
        "id": "cgKJMkrxuT5m",
        "outputId": "a07ad114-7a81-47b4-b062-ead20f046a54"
      },
      "source": [
        "5 == 6"
      ],
      "execution_count": null,
      "outputs": [
        {
          "output_type": "execute_result",
          "data": {
            "text/plain": [
              "False"
            ]
          },
          "metadata": {
            "tags": []
          },
          "execution_count": 48
        }
      ]
    },
    {
      "cell_type": "code",
      "metadata": {
        "id": "pGj9gBUFuT5n",
        "outputId": "72092faa-7ad8-4a10-e28d-75b6af7a9b8d"
      },
      "source": [
        "5 is not 6"
      ],
      "execution_count": null,
      "outputs": [
        {
          "output_type": "execute_result",
          "data": {
            "text/plain": [
              "True"
            ]
          },
          "metadata": {
            "tags": []
          },
          "execution_count": 49
        }
      ]
    },
    {
      "cell_type": "code",
      "metadata": {
        "id": "vStTr2u-uT5n",
        "outputId": "95429251-a0c5-4279-ed3d-856849005f48"
      },
      "source": [
        "5 != 6"
      ],
      "execution_count": null,
      "outputs": [
        {
          "output_type": "execute_result",
          "data": {
            "text/plain": [
              "True"
            ]
          },
          "metadata": {
            "tags": []
          },
          "execution_count": 50
        }
      ]
    },
    {
      "cell_type": "code",
      "source": [
        "a = 10\n",
        "\n",
        "b = 20"
      ],
      "metadata": {
        "id": "xwSRhOf9eHhU"
      },
      "execution_count": null,
      "outputs": []
    },
    {
      "cell_type": "code",
      "source": [
        "a is not b"
      ],
      "metadata": {
        "colab": {
          "base_uri": "https://localhost:8080/"
        },
        "id": "qq3QuglUeKih",
        "outputId": "3e8d0548-f398-4e78-9d1c-176a08fe45d5"
      },
      "execution_count": null,
      "outputs": [
        {
          "output_type": "execute_result",
          "data": {
            "text/plain": [
              "True"
            ]
          },
          "metadata": {},
          "execution_count": 11
        }
      ]
    }
  ]
}