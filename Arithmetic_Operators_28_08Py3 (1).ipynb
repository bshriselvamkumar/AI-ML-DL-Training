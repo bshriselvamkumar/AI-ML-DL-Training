{
  "nbformat": 4,
  "nbformat_minor": 0,
  "metadata": {
    "anaconda-cloud": {},
    "kernelspec": {
      "display_name": "Python 3",
      "language": "python",
      "name": "python3"
    },
    "language_info": {
      "codemirror_mode": {
        "name": "ipython",
        "version": 3
      },
      "file_extension": ".py",
      "mimetype": "text/x-python",
      "name": "python",
      "nbconvert_exporter": "python",
      "pygments_lexer": "ipython3",
      "version": "3.6.4"
    },
    "colab": {
      "provenance": []
    }
  },
  "cells": [
    {
      "cell_type": "code",
      "metadata": {
        "id": "jmpD6V9dKVVg",
        "outputId": "b4599a4a-94b4-4657-e0fe-8cf2d6214b42"
      },
      "source": [
        "1 + 2 # a+b =c a,b,c operants   +,-,*,/ arithmatic , = assignin operators, a + 2 ,a++ = 7 for(i=0,i++)  asteric"
      ],
      "execution_count": null,
      "outputs": [
        {
          "output_type": "execute_result",
          "data": {
            "text/plain": [
              "3"
            ]
          },
          "metadata": {
            "tags": []
          },
          "execution_count": 1
        }
      ]
    },
    {
      "cell_type": "markdown",
      "source": [
        "addition = +\n",
        "\n",
        "subtraction = -\n",
        "\n",
        "multiplication = *\n",
        " division = /\n",
        " reminder = %\n",
        " floor division = //\n",
        " exponent = **"
      ],
      "metadata": {
        "id": "BAR3TJO87VzL"
      }
    },
    {
      "cell_type": "code",
      "source": [
        "a = 50\n",
        "b = 2"
      ],
      "metadata": {
        "id": "PSEbtJPJ739F"
      },
      "execution_count": null,
      "outputs": []
    },
    {
      "cell_type": "code",
      "source": [
        "print(a+b)\n",
        "print(a-b)\n",
        "print(a*b)\n",
        "print(a/b)\n",
        "print(a//b)\n",
        "print(a%b)\n",
        "print(a**b)"
      ],
      "metadata": {
        "colab": {
          "base_uri": "https://localhost:8080/"
        },
        "id": "AEjjU4Fm76e2",
        "outputId": "c79ace2f-e493-4055-81bf-ba723c4fc7e6"
      },
      "execution_count": null,
      "outputs": [
        {
          "output_type": "stream",
          "name": "stdout",
          "text": [
            "52\n",
            "48\n",
            "100\n",
            "25.0\n",
            "25\n",
            "0\n",
            "2500\n"
          ]
        }
      ]
    },
    {
      "cell_type": "markdown",
      "source": [
        "comparision operator:\n",
        " is equal =\n",
        "  is not equal !=\n",
        "  greater >\n",
        "  greater than or equal >=\n",
        "  lesser than <\n",
        "  lesserthan or equal <=\n",
        "  "
      ],
      "metadata": {
        "id": "EVyhyows8Zas"
      }
    },
    {
      "cell_type": "code",
      "source": [
        "a < b"
      ],
      "metadata": {
        "colab": {
          "base_uri": "https://localhost:8080/"
        },
        "id": "AR1wsjs581gU",
        "outputId": "cab0d4c5-012a-44e9-f392-43088398045b"
      },
      "execution_count": null,
      "outputs": [
        {
          "output_type": "execute_result",
          "data": {
            "text/plain": [
              "False"
            ]
          },
          "metadata": {},
          "execution_count": 10
        }
      ]
    },
    {
      "cell_type": "markdown",
      "source": [
        "Assignment operator\n",
        "\n",
        "a = 5  (assign value to object )\n",
        "\n",
        "a == 5 ( questions the value is assigned to the object or not)\n",
        "\n",
        "a += 2 (incremental assignment) a++\n",
        "\n",
        "a -= 5 (decremental assignment)\n",
        "\n",
        "a *= 5\n",
        "\n",
        "a %= b\n",
        "\n",
        "a **b=\n",
        "\n",
        "a //b="
      ],
      "metadata": {
        "id": "vOY8XiDV9afu"
      }
    },
    {
      "cell_type": "markdown",
      "source": [
        "Logical operators\n",
        "\n",
        "AND\n",
        "or\n",
        "not\n"
      ],
      "metadata": {
        "id": "VLw1R5IY-___"
      }
    },
    {
      "cell_type": "markdown",
      "source": [
        "Bitwise operators\n",
        "\n",
        "& bitwise and\n",
        "\n"
      ],
      "metadata": {
        "id": "Wsk7neZgAL1v"
      }
    },
    {
      "cell_type": "code",
      "source": [
        "a"
      ],
      "metadata": {
        "colab": {
          "base_uri": "https://localhost:8080/"
        },
        "id": "xiCSxIYs8-pV",
        "outputId": "1342ee60-4a39-41e6-d13f-c1a6d89129c8"
      },
      "execution_count": null,
      "outputs": [
        {
          "output_type": "execute_result",
          "data": {
            "text/plain": [
              "2"
            ]
          },
          "metadata": {},
          "execution_count": 7
        }
      ]
    },
    {
      "cell_type": "markdown",
      "source": [
        "  c = 5x+9 + u\n",
        "\n",
        " c: object  =:operator  5x: operant   +:operator   9 : int value  u: operant"
      ],
      "metadata": {
        "id": "Tr8_eIEPYHOh"
      }
    },
    {
      "cell_type": "code",
      "metadata": {
        "id": "1JjAQxGAKVVl",
        "outputId": "99844e71-64ed-4dd9-df88-a76b0337899b"
      },
      "source": [
        "3 - 5"
      ],
      "execution_count": null,
      "outputs": [
        {
          "output_type": "execute_result",
          "data": {
            "text/plain": [
              "-2"
            ]
          },
          "metadata": {
            "tags": []
          },
          "execution_count": 2
        }
      ]
    },
    {
      "cell_type": "code",
      "source": [
        "3 * 5\n"
      ],
      "metadata": {
        "colab": {
          "base_uri": "https://localhost:8080/"
        },
        "id": "2JkP6PJFtNvA",
        "outputId": "9f182768-9833-4d52-e791-c6a834ef8c68"
      },
      "execution_count": null,
      "outputs": [
        {
          "output_type": "execute_result",
          "data": {
            "text/plain": [
              "15"
            ]
          },
          "metadata": {},
          "execution_count": 1
        }
      ]
    },
    {
      "cell_type": "code",
      "metadata": {
        "id": "rYYnJwcCKVVl",
        "outputId": "69215766-819c-4991-f1d6-90e570151150",
        "colab": {
          "base_uri": "https://localhost:8080/"
        }
      },
      "source": [
        "16 // 3 # floor division"
      ],
      "execution_count": null,
      "outputs": [
        {
          "output_type": "execute_result",
          "data": {
            "text/plain": [
              "5"
            ]
          },
          "metadata": {},
          "execution_count": 3
        }
      ]
    },
    {
      "cell_type": "code",
      "metadata": {
        "scrolled": true,
        "id": "5ddnQZe5KVVm",
        "outputId": "af8d5014-88bd-4564-d069-7c6ad6e33e07"
      },
      "source": [
        "16 / 3"
      ],
      "execution_count": null,
      "outputs": [
        {
          "output_type": "execute_result",
          "data": {
            "text/plain": [
              "5.333333333333333"
            ]
          },
          "metadata": {
            "tags": []
          },
          "execution_count": 4
        }
      ]
    },
    {
      "cell_type": "code",
      "metadata": {
        "id": "88pO_YH6KVVm",
        "outputId": "a932ae4c-ae96-4a92-a49e-d16bf6926d76"
      },
      "source": [
        "float(16) / 3"
      ],
      "execution_count": null,
      "outputs": [
        {
          "output_type": "execute_result",
          "data": {
            "text/plain": [
              "5.333333333333333"
            ]
          },
          "metadata": {
            "tags": []
          },
          "execution_count": 5
        }
      ]
    },
    {
      "cell_type": "code",
      "metadata": {
        "id": "vgIIQ6crKVVm",
        "outputId": "86ed23cb-6468-435d-b862-7d4800a9af42",
        "colab": {
          "base_uri": "https://localhost:8080/"
        }
      },
      "source": [
        "16 / 3 #quotient"
      ],
      "execution_count": null,
      "outputs": [
        {
          "output_type": "execute_result",
          "data": {
            "text/plain": [
              "5.333333333333333"
            ]
          },
          "metadata": {},
          "execution_count": 1
        }
      ]
    },
    {
      "cell_type": "code",
      "metadata": {
        "id": "soUqh-dFKVVn",
        "outputId": "a93a16ff-b31e-4467-b1ee-ba3ad5d25dfb",
        "colab": {
          "base_uri": "https://localhost:8080/"
        }
      },
      "source": [
        "16 % 3 #=5*3 =15 , 21%7 reminder"
      ],
      "execution_count": null,
      "outputs": [
        {
          "output_type": "execute_result",
          "data": {
            "text/plain": [
              "1"
            ]
          },
          "metadata": {},
          "execution_count": 2
        }
      ]
    },
    {
      "cell_type": "code",
      "source": [
        "21 % 6"
      ],
      "metadata": {
        "colab": {
          "base_uri": "https://localhost:8080/"
        },
        "id": "7GBdJMQsllVK",
        "outputId": "0994a694-9445-4cc9-c12e-eba217857ea7"
      },
      "execution_count": null,
      "outputs": [
        {
          "output_type": "execute_result",
          "data": {
            "text/plain": [
              "3"
            ]
          },
          "metadata": {},
          "execution_count": 5
        }
      ]
    },
    {
      "cell_type": "code",
      "metadata": {
        "colab": {
          "base_uri": "https://localhost:8080/"
        },
        "id": "G8LHOnErx_HJ",
        "outputId": "5ebf2711-e0ab-4baf-dee2-cffeca3e8d4c"
      },
      "source": [
        "23 % 5   , #45/50*100"
      ],
      "execution_count": null,
      "outputs": [
        {
          "output_type": "execute_result",
          "data": {
            "text/plain": [
              "3"
            ]
          },
          "metadata": {
            "tags": []
          },
          "execution_count": 2
        }
      ]
    },
    {
      "cell_type": "code",
      "metadata": {
        "colab": {
          "base_uri": "https://localhost:8080/"
        },
        "id": "8ZxKO11xyXAJ",
        "outputId": "fe05b4a6-3c2b-4764-8e32-ecef9e13ad69"
      },
      "source": [
        "(45/50) * 100  # bodmas = bracket, of the value, division, multiplication, addition , subtraction"
      ],
      "execution_count": null,
      "outputs": [
        {
          "output_type": "execute_result",
          "data": {
            "text/plain": [
              "90.0"
            ]
          },
          "metadata": {
            "tags": []
          },
          "execution_count": 3
        }
      ]
    },
    {
      "cell_type": "code",
      "metadata": {
        "id": "dKebhZ1JKVVn",
        "outputId": "50bce1a4-b55a-4c01-b13d-e5da077555ab"
      },
      "source": [
        "5 * 3"
      ],
      "execution_count": null,
      "outputs": [
        {
          "output_type": "execute_result",
          "data": {
            "text/plain": [
              "15"
            ]
          },
          "metadata": {
            "tags": []
          },
          "execution_count": 8
        }
      ]
    },
    {
      "cell_type": "code",
      "metadata": {
        "id": "_QNd4GWHKVVn"
      },
      "source": [
        "x = 5 * 3 #5x3"
      ],
      "execution_count": null,
      "outputs": []
    },
    {
      "cell_type": "code",
      "metadata": {
        "id": "KSWsIEEDKVVo",
        "outputId": "2366af64-5bab-4737-c5f1-95bf6f47f6e8"
      },
      "source": [
        "x"
      ],
      "execution_count": null,
      "outputs": [
        {
          "output_type": "execute_result",
          "data": {
            "text/plain": [
              "15"
            ]
          },
          "metadata": {
            "tags": []
          },
          "execution_count": 10
        }
      ]
    },
    {
      "cell_type": "code",
      "metadata": {
        "id": "RqXj13gjKVVo",
        "outputId": "ec7ae909-4875-49ef-9149-64ee0ded8917"
      },
      "source": [
        "5 ** 3 #5x5x5 # 5 to the power of 3  expontential operator"
      ],
      "execution_count": null,
      "outputs": [
        {
          "output_type": "execute_result",
          "data": {
            "text/plain": [
              "125"
            ]
          },
          "metadata": {
            "tags": []
          },
          "execution_count": 11
        }
      ]
    },
    {
      "cell_type": "code",
      "source": [
        "a=5 # = assigning operators"
      ],
      "metadata": {
        "id": "EHphhoCpkuTy"
      },
      "execution_count": null,
      "outputs": []
    },
    {
      "cell_type": "code",
      "source": [
        "a==5 # introgative"
      ],
      "metadata": {
        "colab": {
          "base_uri": "https://localhost:8080/"
        },
        "id": "HdgzqxROk6RZ",
        "outputId": "6b274133-d354-43ec-d154-66f7f86c3e77"
      },
      "execution_count": null,
      "outputs": [
        {
          "output_type": "execute_result",
          "data": {
            "text/plain": [
              "True"
            ]
          },
          "metadata": {},
          "execution_count": 7
        }
      ]
    },
    {
      "cell_type": "code",
      "source": [
        "a != 50"
      ],
      "metadata": {
        "colab": {
          "base_uri": "https://localhost:8080/"
        },
        "id": "Mjg3NUVDunSq",
        "outputId": "baab68c7-f01a-4bc3-ccda-efbec0bfc7b5"
      },
      "execution_count": null,
      "outputs": [
        {
          "output_type": "execute_result",
          "data": {
            "text/plain": [
              "True"
            ]
          },
          "metadata": {},
          "execution_count": 8
        }
      ]
    },
    {
      "cell_type": "code",
      "source": [
        "7//2 # / , % , //"
      ],
      "metadata": {
        "colab": {
          "base_uri": "https://localhost:8080/"
        },
        "id": "fU3CDwfCAhCJ",
        "outputId": "71f16edf-d071-40af-904a-d2cd64c1e229"
      },
      "execution_count": null,
      "outputs": [
        {
          "output_type": "execute_result",
          "data": {
            "text/plain": [
              "3"
            ]
          },
          "metadata": {},
          "execution_count": 2
        }
      ]
    },
    {
      "cell_type": "code",
      "source": [
        "8 // 2"
      ],
      "metadata": {
        "colab": {
          "base_uri": "https://localhost:8080/"
        },
        "id": "ym0SFU4xu4Sc",
        "outputId": "0a0ee6c8-cbe9-4a4b-b607-70f911a7d948"
      },
      "execution_count": null,
      "outputs": [
        {
          "output_type": "execute_result",
          "data": {
            "text/plain": [
              "4"
            ]
          },
          "metadata": {},
          "execution_count": 3
        }
      ]
    },
    {
      "cell_type": "code",
      "source": [
        "51 % 2"
      ],
      "metadata": {
        "colab": {
          "base_uri": "https://localhost:8080/"
        },
        "id": "LrY21MnWcufM",
        "outputId": "5a127d33-63cf-4458-dafe-d5458d2273ee"
      },
      "execution_count": null,
      "outputs": [
        {
          "output_type": "execute_result",
          "data": {
            "text/plain": [
              "1"
            ]
          },
          "metadata": {},
          "execution_count": 10
        }
      ]
    }
  ]
}